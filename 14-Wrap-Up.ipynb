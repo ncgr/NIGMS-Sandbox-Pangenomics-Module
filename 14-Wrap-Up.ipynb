{
 "cells": [
  {
   "cell_type": "markdown",
   "id": "982b055a",
   "metadata": {},
   "source": [
    "# Wrap Up\n",
    "\n",
    "## Acknowledgements\n",
    "\n",
    "This publication was supported by an Institutional Development Award (IDeA) from the National Institute of General Medical Sciences of the National Institutes of Health under grant number P20GM103451. Additional support came from National Science Foundation Award numbers 1759522 (Collaborative Research: Innovation: Pioneering New Approaches to Explore Pangenomic Space at Scale) and 2105391 (CRII: III: Toward the Compression of Pangenomic DNA Sequence Data Using Context-Free Grammars).\n",
    "\n",
    "Pangenomic content development by Alan Cleary and Joann Mudge. Special thanks to Adam Gomez for initial development of the bookdown version.\n",
    "\n",
    "Linux content was developed by Adam Gomez, Ethan Price, Evan Lavelle, Kathy Myers, and Forrest Black.\n",
    "\n",
    "<br>\n",
    "\n",
    "<center>\n",
    "![](./Figures/INBRE_Logo_Grad_transparent-2019.png){width=50%} \n",
    "\n",
    "<br>\n",
    "\n",
    "![](./Figures/ncgr.png){width=50%} \n",
    "</center>\n",
    "\n",
    "## License and Copyright\n",
    "\n",
    "Creative Commons Attribution-NonCommercial-NoDerivatives 4.0\n",
    "https://creativecommons.org/licenses/by-nc-nd/4.0/\n",
    "\n",
    "© 2023 National Center for Genome Resources"
   ]
  },
  {
   "cell_type": "markdown",
   "id": "0ff61e7d",
   "metadata": {},
   "source": [
    "## Survey\n",
    "\n",
    "Please complete both surveys using the links below.\n",
    "\n",
    "[Workshop Survey (anonymous)](https://docs.google.com/forms/d/e/1FAIpQLScjtEvK-ywP9DEbTNsIcIn4YMe9evXvhmp-NVzn-t4MSakXig/viewform?usp=sf_link)"
   ]
  },
  {
   "cell_type": "markdown",
   "id": "dd4cb96c",
   "metadata": {},
   "source": [
    "[Server/Certificate survey (super quick)](https://docs.google.com/forms/d/e/1FAIpQLSfGZwX2BL_ZyGgmvh4v41Q_886y-OiTESTbpvzoyR0J3BxC5Q/viewform?usp=sf_link)\n"
   ]
  },
  {
   "cell_type": "markdown",
   "id": "8adf824e",
   "metadata": {},
   "source": [
    "## Questions\n",
    "\n",
    "If you have bioinformatics or technical questions, please email inbre\\@ncgr.org, which will send emails to everyone on the inbre team. If you have questions on passwords/password resets, payments, receipts, etc, please email Ethan Price at eprice\\@ncgr.org and cc inbre\\@ncgr.org. Occasionally, we change servers or change how to log in so if you are having issues, please contact us."
   ]
  },
  {
   "cell_type": "markdown",
   "id": "d7b950a7",
   "metadata": {},
   "source": [
    "## Server access and acknowledgements\n",
    "\n",
    "For those of you who requested continued access to our server, we will extend your account for 1 year. If you need it longer, please email us and we'll be happy to work with you. **We ask that you don't run really large jobs while we are running workshops to avoid slowing things down. We reserve the right to suspend or kill jobs that are using too many resources and/or interfering with other jobs on the machine.** So, if you have a really large job to run, please check in with us so we can let you know when workshops will be happening.\n",
    "\n",
    "Please note, if you use our servers to do analysis that you publish, you need to acknowledge the National Center for Genome Resources (NCGR) and the INBRE grant in your acknowledgements. Instructions for the latter can be found here: https://nminbre.nmsu.edu/cite-us/cite-us.html. This is really important for our annual reports so thank you in advance!\n",
    "\n",
    "Additionally, in order to share your publications in our annual reporting, and to comply with NIH guidelines for open access, please include a PMCID with your publication.  Instructions: [Include PMCID in Citations](https://publicaccess.nih.gov/include-pmcid-citations.htm)."
   ]
  },
  {
   "cell_type": "markdown",
   "id": "7f1e70e9",
   "metadata": {},
   "source": [
    "Additional details from https://nminbre.nmsu.edu/cite-us/cite-us.html:\n",
    "\n",
    "<p style=\"margin-left: 25px;\">\n",
    "<span style=\"color: tan;\">If you received funding from NM-INBRE that contributed to your research or career development, you must cite NM-INBRE support on all publications, presentations, press releases, requests, requests for proposals, bid invitations, or any other documents or applications related to your funded research. Also, please be sure to cite NM-INBRE if your work benefited from the use of NM-INBRE equipment or an NM-INBRE sponsored student worked in your lab.</span>\n",
    "</p>\n",
    "\n",
    "<p style=\"margin-left: 25px;\">\n",
    "<span style=\"color: tan;\">**NIH requires the following format for citing INBRE support, to be used for presentations, publications, and other acknowledgements:**</span>\n",
    "</p>\n",
    "\n",
    "<p style=\"margin-left: 25px;\">\n",
    "<span style=\"color: tan;\">*Research reported in this publication was supported by an Institutional Development Award (IDeA) from the National Institute of General Medical Sciences of the National Institutes of Health under grant number P20GM103451.*</span>\n",
    "</p>"
   ]
  },
  {
   "cell_type": "markdown",
   "id": "9eb4fd7d",
   "metadata": {},
   "source": [
    "## Bookdown document\n",
    "You can share these with other individuals in your lab or fellow students/colleagues but please let us know who is using it so we can account for them on our annual reports (thank you!) (you can email Ethan: eprice\\@ncgr.org and cc inbre\\@ncgr.org).\n",
    "\n",
    "## Zoom recordings\n",
    "Please do not share the zoom recordings as we don't have permissions from everyone who participated. Feel free to use them for your own use.\n",
    "You can find links to the zoom recordings at: https://docs.google.com/document/d/1_4jZuVnxGiGkeiUgewhs3zkqOZEKd58-Cnij1PuiOT0/edit?usp=sharing"
   ]
  },
  {
   "cell_type": "markdown",
   "id": "0fe3a535",
   "metadata": {},
   "source": [
    "The bookdown and zoom recordings will be available for at least 3 months. Please plan to download what you need if you want access longer.\n"
   ]
  }
 ],
 "metadata": {
  "jupytext": {
   "cell_metadata_filter": "-all",
   "main_language": "python",
   "notebook_metadata_filter": "-all"
  }
 },
 "nbformat": 4,
 "nbformat_minor": 5
}
