{
 "cells": [
  {
   "cell_type": "markdown",
   "id": "89653a7f",
   "metadata": {},
   "source": [
    "# Incremental Graphs with *minigraph*\n",
    "\n",
    "<!--todo\n",
    "1. call command\n",
    "2. Upload and test minigraph draft human pangenome reference\n",
    "3. New algorithm explanation\n",
    "-->\n",
    "\n",
    "## Minigraph Functions\n",
    "\n",
    "Constructs graphs\n",
    "\n",
    "Maps sequences to graphs\n",
    "\n",
    "https://github.com/lh3/minigraph"
   ]
  },
  {
   "cell_type": "markdown",
   "id": "4be036a2",
   "metadata": {},
   "source": [
    "## Minigraph Overview\n",
    "\n",
    "Maps diverged sequences and adds them into the graph iteratively. It is not reference-free nor does it aim to find every single variant, but it does well in finding structural variants.\n",
    "\n",
    "\"It is fairly efficient and can construct a graph from 90 human assemblies in a couple of days using 24 CPU cores. Older versions of minigraph was unable to produce base alignment. The latest version can. Please add option -c for graph generation as it generally improves the quality of graphs.\"\n",
    "\n",
    "1-to-1 orthogonal regions\n",
    "\n",
    "<center>\n",
    "![Graph Construction https://github.com/lh3/minigraph](./Figures/Minigraph.png){width=50%}\n",
    "</center>\n",
    "\n",
    "## Minimizers and Minimap2\n",
    "Minigraph is built off of ideas and code from Minimap2.\n",
    "\n",
    "### Minimizers {-}\n",
    "From the minimap2 usage:\n",
    "\"A minimizer is the smallest k-mer in a window of w consecutive k-mers.\"\n",
    "\n",
    "Essentially a minimizer tags a sequence window with the kmer that is first alphabetically."
   ]
  },
  {
   "cell_type": "markdown",
   "id": "f5da2e60",
   "metadata": {},
   "source": [
    "A nice tutorial:  \n",
    "+ https://homolog.us/blogs/bioinfo/2017/10/25/intro-minimizer/\n",
    "\n",
    "### Minimap2 {-}\n",
    "Minimap2 is a fast sequence aligner.\n",
    "It can align short or long reads or assemblies against a reference using the seed-chain-align approach that many aligners employ. It finds exact matches (anchors) between query minimizers (seeds) and indexed reference minimizers. It links colinear anchors together (chains). For nt-level alignment it fills in regions between anchors within chains and between chains (align).\n",
    "\n",
    "https://github.com/lh3/minimap2  \n",
    "https://academic.oup.com/bioinformatics/article/34/18/3094/4994778\n",
    "\n",
    "## Pipeline\n",
    "\n",
    "1. Prepare the input\n",
    "2. Build graphs\n",
    "+ Build a single genome graph and incrementally add more sequences\n",
    "+ Or build a graph for all sequences at once\n",
    "3. View with Bandage\n",
    "\n",
    "## Yeast Assemblies\n",
    "\n",
    "*12 Mb*  \n",
    "*16 chromosomes*\n",
    "\n",
    "<br>\n",
    "Yeast Population Reference Panel (YPRP)  https://yjx1217.github.io/Yeast_PacBio_2016/data/\n",
    "\n",
    "12 Yeast PacBio Assemblies (Chromosome level)\n",
    "\n",
    ">1. ~100-200x PacBio sequencing reads \n",
    ">2. HGAP + Quiver polishing  \n",
    ">3. ~200-500x Illumina (Pilon correction)  \n",
    ">4. Manual curation  \n",
    ">5. Annotation\n",
    "\n",
    "<br>"
   ]
  },
  {
   "cell_type": "markdown",
   "id": "04795c80",
   "metadata": {},
   "source": [
    "![YPRP Assemblies https://yjx1217.github.io/Yeast_PacBio_2016/data/](./Figures/Yeast.png){width=100%}"
   ]
  },
  {
   "cell_type": "markdown",
   "id": "c275bef4",
   "metadata": {},
   "source": [
    "<br>\n",
    "\n",
    ">Make sure your chromosome names are unique across all samples and that they contain the sample name. We’re using \\<strain name>.\\<chromosome> (>S288C.chrVIII)\n",
    "\n",
    "<br>\n",
    "\n",
    "## Prepare the Input\n",
    "\n",
    "1. Make sure you're working in a **screen**\n",
    "\n",
    "2. Make Directory"
   ]
  },
  {
   "cell_type": "code",
   "execution_count": null,
   "id": "25080837",
   "metadata": {
    "eval": false,
    "lines_to_next_cell": 0
   },
   "outputs": [],
   "source": [
    "mkdir ~/minigraph"
   ]
  },
  {
   "cell_type": "markdown",
   "id": "82e71834",
   "metadata": {},
   "source": [
    "3. Navigate to the Directory"
   ]
  },
  {
   "cell_type": "code",
   "execution_count": null,
   "id": "b55377e4",
   "metadata": {
    "eval": false,
    "lines_to_next_cell": 0
   },
   "outputs": [],
   "source": [
    "cd ~/minigraph"
   ]
  },
  {
   "cell_type": "markdown",
   "id": "912a1f5e",
   "metadata": {},
   "source": [
    "4. Link to data"
   ]
  },
  {
   "cell_type": "code",
   "execution_count": null,
   "id": "87b57871",
   "metadata": {
    "eval": false
   },
   "outputs": [],
   "source": [
    "ln -s /home/data/pangenomics-2402/yprp/assemblies/*.fa ."
   ]
  },
  {
   "cell_type": "markdown",
   "id": "1434667d",
   "metadata": {},
   "source": [
    "## Graphical Fragment Assembly (GFA) format"
   ]
  },
  {
   "cell_type": "markdown",
   "id": "c9379e79",
   "metadata": {},
   "source": [
    "Tab-delimited text\n",
    "\n",
    "Lines start with one of the following types:"
   ]
  },
  {
   "cell_type": "markdown",
   "id": "e9527c07",
   "metadata": {},
   "source": [
    "| Type | Description | Explanation |\n",
    "|:--|:-----|:---------|\n",
    "| **H**  |  Header  |       |\n",
    "| **S**  |  Segment  |  A continuous sequence or subsequence   |\n",
    "| **L** |  Link |  Segment overlaps (basepairs & orientations)  |\n",
    "| **J** | Jump | Jumps link sequences across gaps |\n",
    "| **C** | Containment | Segment contained in another segment |\n",
    "| **P** | Path | An ordered & oriented list of linked segments |\n",
    "| **W** | Walk | An ordered & oriented list of segments w/o overlaps |\n",
    "| **#** | Comment | |\n",
    "\n",
    "Optional Fields TAG:TYPE:VALUE  \n",
    "http://gfa-spec.github.io/GFA-spec/GFA1.html\n",
    "\n",
    "Let's go to the specification to look at optional fields and an example:  \n",
    "http://gfa-spec.github.io/GFA-spec/GFA1.html"
   ]
  },
  {
   "cell_type": "markdown",
   "id": "9174164f",
   "metadata": {},
   "source": [
    "## *reference* Graphical Fragment Assembly (rGFA)\n",
    "\n",
    "https://github.com/lh3/gfatools/blob/master/doc/rGFA.md\n",
    "\n",
    "+ Strict subset of GFA\n",
    "+ Tags that trace origin\n",
    "+ Stable coordinates\n",
    "\n",
    "<center>\n",
    "![Additional required tags trace origin of segment](./Figures/rGFA1.png){width=80%}\n",
    "\n",
    "![Example rGFA](./Figures/rGFA2.png){width=70%}\n",
    "</center>\n",
    "\n",
    "## Build rGFA Graphs"
   ]
  },
  {
   "cell_type": "markdown",
   "id": "00d78811",
   "metadata": {},
   "source": [
    "1. The first sequence in the graph is used as a “reference”:"
   ]
  },
  {
   "cell_type": "code",
   "execution_count": null,
   "id": "cfdc31fe",
   "metadata": {
    "eval": false
   },
   "outputs": [],
   "source": [
    "minigraph -cxggs reference.fa -t 20 -c > ref.minigraph.gfa"
   ]
  },
  {
   "cell_type": "markdown",
   "id": "f02e342f",
   "metadata": {},
   "source": [
    "+ **-xggs** \n",
    "    + build a graph using a simple (ggs) algorithm\n",
    "+ **-t 20**\n",
    "    + use 20 threads (default is 4)\n",
    "+ **-c**\n",
    "    + perform base alignment; RECOMMENDED\n",
    "    \n",
    "\"Please add option -c for graph generation as it generally improves the quality of graphs.\""
   ]
  },
  {
   "cell_type": "markdown",
   "id": "fb476bab",
   "metadata": {},
   "source": [
    "2. Incrementally add strains to graph:"
   ]
  },
  {
   "cell_type": "code",
   "execution_count": null,
   "id": "821e4746",
   "metadata": {
    "eval": false
   },
   "outputs": [],
   "source": [
    "minigraph -cxggs ref.minigraph.gfa strain_1.fa > strain_1.minigraph.gfa\n",
    "\n",
    "minigraph -cxggs strain_1.gfa strain_2.fa > strain_2.minigrpah.gfa\n",
    "...\n",
    "\n",
    "minigraph -cxggs string_N-1.gfa strain_N.fa > yprp.minigraph.gfa"
   ]
  },
  {
   "cell_type": "markdown",
   "id": "d494a8bd",
   "metadata": {},
   "source": [
    "3. Or build a graph for all strains at once:"
   ]
  },
  {
   "cell_type": "code",
   "execution_count": null,
   "id": "cfc23f98",
   "metadata": {
    "eval": false
   },
   "outputs": [],
   "source": [
    "minigraph -cxggs ref.minigraph.gfa strain_*.fa > yprp.minigraph.gfa"
   ]
  },
  {
   "cell_type": "markdown",
   "id": "a663bb22",
   "metadata": {},
   "source": [
    "## Reference Graph\n",
    "\n",
    "Let's create a graph for the reference (S288C) and answer the following questions. This is a small dataset so we'll use the default threads (4)."
   ]
  },
  {
   "cell_type": "markdown",
   "id": "a5093379",
   "metadata": {},
   "source": [
    "1. Make the reference graph"
   ]
  },
  {
   "cell_type": "code",
   "execution_count": null,
   "id": "a80a7d1a",
   "metadata": {
    "eval": false
   },
   "outputs": [],
   "source": [
    "minigraph -cxggs S288C.genome.fa > ref.minigraph.gfa"
   ]
  },
  {
   "cell_type": "markdown",
   "id": "e0791895",
   "metadata": {},
   "source": [
    "<!--Note that the -c option doesn't do anything for this initial graph but it does when we start adding other strains. The graph is much more broken up and has many more segments likely because it is recognizing more diversity. Slightly fewer primary alignments with Illumina reads.-->\n",
    "\n",
    "2. How many lines in the gfa file?"
   ]
  },
  {
   "cell_type": "code",
   "execution_count": null,
   "id": "94a28540",
   "metadata": {
    "eval": false
   },
   "outputs": [],
   "source": [
    "wc -l ref.minigraph.gfa"
   ]
  },
  {
   "cell_type": "markdown",
   "id": "c026e0d3",
   "metadata": {},
   "source": [
    "<details>\n",
    "  <summary>Click for Answer</summary>\n",
    "```\n",
    "16\n",
    "```\n",
    "</details> "
   ]
  },
  {
   "cell_type": "markdown",
   "id": "88979548",
   "metadata": {},
   "source": [
    "3. What type of lines are they?"
   ]
  },
  {
   "cell_type": "code",
   "execution_count": null,
   "id": "d1dd382e",
   "metadata": {
    "eval": false
   },
   "outputs": [],
   "source": [
    "cut -f 1 ref.minigraph.gfa | sort | uniq -c"
   ]
  },
  {
   "cell_type": "markdown",
   "id": "6d395f62",
   "metadata": {},
   "source": [
    "<details>\n",
    "  <summary>Click for Answer</summary>\n",
    "```\n",
    "All of them are \"S\" or segment\n",
    "```\n",
    "</details> \n",
    "\n",
    "### Reference Graph Bandage Visualization {-}\n",
    "\n",
    "Download your gfa file onto your computer and upload it into Bandage.\n",
    "\n",
    "![Reference Graph Bandage](./Figures/Bandage2.png){width=70%}\n",
    "\n",
    "## YPRP Graphs"
   ]
  },
  {
   "cell_type": "markdown",
   "id": "8428be58",
   "metadata": {},
   "source": [
    "1. Add in the rest of the lines\n",
    "+ we’ll do this alphabetically\n",
    "+ capture the stderr"
   ]
  },
  {
   "cell_type": "code",
   "execution_count": null,
   "id": "0a106b09",
   "metadata": {
    "eval": false
   },
   "outputs": [],
   "source": [
    "minigraph -xggs -c ref.minigraph.gfa $(ls *.fa | grep -v S288C) > yprp.minigraph.gfa 2>yprp.minigraph.err"
   ]
  },
  {
   "cell_type": "markdown",
   "id": "3d4d3fad",
   "metadata": {},
   "source": [
    "*Note:* We can simply use the reference fasta instead of a gfa"
   ]
  },
  {
   "cell_type": "code",
   "execution_count": null,
   "id": "771a79a2",
   "metadata": {
    "eval": false
   },
   "outputs": [],
   "source": [
    "minigraph -xggs -c S288C.genome.fa $(ls *fa | grep -v S288C) > yprp.minigraph.gfa 2>yprp.minigraph.err"
   ]
  },
  {
   "cell_type": "markdown",
   "id": "e72db528",
   "metadata": {
    "lines_to_next_cell": 0
   },
   "source": [
    "Try to answer the following questions:\n",
    "\n",
    "1. How many lines are in the gfa file?\n",
    "\n",
    "<details>\n",
    "  <summary>Click for Answer</summary>"
   ]
  },
  {
   "cell_type": "code",
   "execution_count": null,
   "id": "bf3b4ba9",
   "metadata": {
    "eval": false
   },
   "outputs": [],
   "source": [
    "wc -l yprp.minigraph.gfa"
   ]
  },
  {
   "cell_type": "markdown",
   "id": "815553d1",
   "metadata": {},
   "source": [
    "<span style=\"color: lightgray;\">\n",
    "32306 yprp.minigraph.gfa\n",
    "</span>\\\n",
    "\n",
    "</details> \n",
    "\n",
    "<br>\n",
    "\n",
    "2. What type of lines are they?\n",
    "\n",
    "<details>\n",
    "  <summary>Click for Answer</summary>"
   ]
  },
  {
   "cell_type": "code",
   "execution_count": null,
   "id": "4b1958f8",
   "metadata": {
    "eval": false
   },
   "outputs": [],
   "source": [
    "cut -f 1 yprp.minigraph.gfa | sort | uniq -c"
   ]
  },
  {
   "cell_type": "markdown",
   "id": "24dfb339",
   "metadata": {},
   "source": [
    "<span style=\"color: lightgray;\">\n",
    "  18612 L\\\n",
    "  13694 S\n",
    "</span>\\\n",
    "  \n",
    "</details> \n",
    "\n",
    "<br>\n",
    "\n",
    "3. How many yeast assemblies have inversions compared to S288C (hint: look in the stderr)?\n",
    "\n",
    "<details>\n",
    "  <summary>Click for Answer</summary>"
   ]
  },
  {
   "cell_type": "code",
   "execution_count": null,
   "id": "244a0230",
   "metadata": {
    "eval": false
   },
   "outputs": [],
   "source": [
    "grep inversions yprp.minigraph.err"
   ]
  },
  {
   "cell_type": "markdown",
   "id": "7c8c8eee",
   "metadata": {},
   "source": [
    "<span style=\"color: lightgray;\">\n",
    "[M::mg_ggsimple_cigar::11.337*2.72] inserted 1791 events, including 0 inversions\\\n",
    "[M::mg_ggsimple_cigar::17.749*2.88] inserted 336 events, including 0 inversions\\\n",
    "[M::mg_ggsimple_cigar::22.268*2.92] inserted 176 events, including 0 inversions\\\n",
    "[M::mg_ggsimple_cigar::27.169*2.95] inserted 451 events, including 1 inversions\\\n",
    "[M::mg_ggsimple_cigar::35.508*2.90] inserted 56 events, including 2 inversions\\\n",
    "[M::mg_ggsimple_cigar::49.950*3.02] inserted 728 events, including 0 inversions\\\n",
    "[M::mg_ggsimple_cigar::53.680*2.96] inserted 208 events, including 5 inversions\\\n",
    "[M::mg_ggsimple_cigar::62.465*3.01] inserted 679 events, including 0 inversions\\\n",
    "[M::mg_ggsimple_cigar::72.274*3.04] inserted 134 events, including 1 inversions\\\n",
    "[M::mg_ggsimple_cigar::79.327*3.04] inserted 117 events, including 0 inversions\\\n",
    "[M::mg_ggsimple_cigar::82.656*3.06] inserted 258 events, including 1 inversions\n",
    "\n",
    "10 inversions total (in 5 samples)\n",
    "</span>\\\n",
    "\n",
    "</details> \n",
    "\n",
    "<br>\n",
    "\n",
    "### YPRP Graph Statistics {-}"
   ]
  },
  {
   "cell_type": "code",
   "execution_count": null,
   "id": "0ed4565d",
   "metadata": {
    "eval": false
   },
   "outputs": [],
   "source": [
    "gfatools stat yprp.minigraph.gfa"
   ]
  },
  {
   "cell_type": "markdown",
   "id": "dd3d3565",
   "metadata": {},
   "source": [
    "Number of segments: 13694\\\n",
    "Number of links: 18612\\\n",
    "Number of arcs: 37224\\\n",
    "Max rank: 11\\\n",
    "Total segment length: 15422961\\\n",
    "Average segment length: 1126.257\\\n",
    "Sum of rank-0 segment lengths: 12157149\\\n",
    "Max degree: 6\\\n",
    "Average degree: 1.359\n"
   ]
  },
  {
   "cell_type": "markdown",
   "id": "98be4496",
   "metadata": {},
   "source": [
    "### YPRP Graph in Bandage {-}\n",
    "\n",
    "Take a look at the YPRP graph in Bandage. Your might be rendered differently.\n",
    "\n",
    "![YPRP Graph Bandage](./Figures/YPRPBandage1.png){width=100%} \n",
    "<br>\n",
    "<br>\n",
    "\n",
    "## Structures in the graph\n",
    "\n",
    "### Insertions and Diverged Regions {-}\n",
    "\n",
    "Search for segment s1054 then zoom out a little so you can see the segments around it.\n",
    "\n",
    "Trace the S288C path (hint: the S288C segments are numbered sequentially with the lower segment numbers).\n",
    "\n",
    "Identify insertions and regions that have diverged."
   ]
  },
  {
   "cell_type": "markdown",
   "id": "c6cd1c78",
   "metadata": {},
   "source": [
    "![YPRP Graph Bandage](./Figures/YPRPBandage2.png){width=100%} \n",
    "\n",
    "### Group Exercise{-}\n",
    "\n",
    "1. Find a simple and a complex region\n",
    "2. Discuss it in your group\n",
    "3. Share it with everyone\n",
    "4. Keep track of the segments\n",
    "\n",
    "### Inversions {-}\n",
    "\n",
    "Here are some examples of inversions.\n",
    "\n",
    "![Inversion signatures](./Figures/inv.png){width=75%} "
   ]
  },
  {
   "cell_type": "markdown",
   "id": "6b7baa78",
   "metadata": {},
   "source": [
    "![Inversion signatures](./Figures/inv2.png){width=75%} "
   ]
  },
  {
   "cell_type": "markdown",
   "id": "7ffc7c48",
   "metadata": {},
   "source": [
    "Let's find them in bandage.\n",
    "\n",
    "s7008\n",
    "\n",
    "s10547"
   ]
  },
  {
   "cell_type": "markdown",
   "id": "c8d0e377",
   "metadata": {},
   "source": [
    "Click on the node and surrounding nodes to see how long they are.\\\n",
    "Click on the links (black) to see the direction that paths can travel.\n",
    "\n",
    "Click on the inverted node Choose \"Color by continguity\" under \"Graph Display\" then click on \"Determine contiguity\" to see which nodes the inverted node connects to.\n",
    "\n",
    "Do a web-blast in Bandage to see what they might code for (click on the node then choose from the Output menu: Web Blast Selected Nodes). Also blast the adjacent segments to get some context.\n",
    "\n",
    "blastn will do a nucleotide to nucleotide alignment (default) or you can choose blastx to blast it against a protein database (if it isn't coding there won't be any hits).\n",
    "\n",
    "<!--s7008 might have something to do with mating type based on the blastn hits; no blastx hits-->\n",
    "\n",
    "<!--s10547 does have a blastx hit but it doesn't have a function; looks like it is simply a de novo gene call from DNA sequencing; some of surrounding sequence have hits-->\n",
    "\n",
    "<!--you could also click on the graphics of the targets but often they don't have annotation-->"
   ]
  },
  {
   "cell_type": "markdown",
   "id": "fe9b62a0",
   "metadata": {},
   "source": [
    "### Inversions in the GFA {-}\n",
    "\n",
    "I found the inversions by searching the graph GFA file for pairs of segments that have two links between them. Give it a try."
   ]
  },
  {
   "cell_type": "code",
   "execution_count": null,
   "id": "bdec96af",
   "metadata": {
    "eval": false,
    "lines_to_next_cell": 2
   },
   "outputs": [],
   "source": [
    "grep '^L' yprp.minigraph.gfa | awk '{print $2 \"\\t\" $4}'|sort|uniq -c|awk '$1>=2{print}'"
   ]
  },
  {
   "cell_type": "markdown",
   "id": "678492d1",
   "metadata": {},
   "source": [
    "      2 s10391\ts10392\\\n",
    "      2 s10392\ts10393\\\n",
    "      2 s10546\ts10547\\\n",
    "      2 s10547\ts10548\\\n",
    "      2 s10574\ts10575\\\n",
    "      2 s10575\ts10576\\\n",
    "      2 s10704\ts10518\\\n",
    "      2 s6244\ts6245\\\n",
    "      2 s6245\ts6246\\\n",
    "      2 s7007\ts7008\\\n",
    "      2 s7008\ts7009"
   ]
  },
  {
   "cell_type": "markdown",
   "id": "4e15b058",
   "metadata": {},
   "source": [
    "1. Pull out s7008, its adjacent segments and the links connecting them"
   ]
  },
  {
   "cell_type": "code",
   "execution_count": null,
   "id": "954cbf28",
   "metadata": {
    "eval": false
   },
   "outputs": [],
   "source": [
    "gfatools view -l s7008 -r 1 yprp.minigraph.gfa"
   ]
  },
  {
   "cell_type": "markdown",
   "id": "bc11a1c7",
   "metadata": {},
   "source": [
    ">**-l STR/@FILE**.       segment list to subset [ ]   \n",
    ">**-r INT**.       subset radius (effective with -l) [0]\n",
    "    \n",
    "Showing just the links here:\n",
    "\n",
    "L\ts7007\t+\ts7008\t+\t0M\tSR:i:1\tL1:i:33\tL2:i:381\\\n",
    "L\ts7007\t+\ts7008\t-\t0M\tSR:i:4\tL1:i:33\tL2:i:381\\\n",
    "L\ts7008\t+\ts7009\t+\t0M\tSR:i:1\tL1:i:381\tL2:i:305\\\n",
    "L\ts7008\t-\ts7009\t+\t0M\tSR:i:4\tL1:i:381\tL2:i:305"
   ]
  },
  {
   "cell_type": "markdown",
   "id": "6b50f719",
   "metadata": {},
   "source": [
    "2. Now do the same for s10547\n",
    "\n",
    "3. Try extending the surrounding region by increasing the -r parameter\n",
    "\n",
    "Note: you can pull out subgraphs like these and load them into Bandage. This is helpful if the graphs are really large and slow to load.\n",
    "\n",
    "## Minigraph Blog\n",
    "\n",
    "Heng Li\n",
    "http://lh3.github.io/2021/01/11/minigraph-as-a-multi-assembly-sv-caller\n",
    "\n",
    "## Bonus Questions\n",
    "\n",
    "1. What is the longest segment in the graph?\n",
    "[Hint: Parse out the number from the 4th field of the segment line]\n",
    "2. What is the shortest segment in the graph?\n",
    "3. What cigar strings exist for the overlaps in the links? [Hint:\n",
    "Field 6 of the link line]\n",
    "4. How many segments are attributed to each genome? [Hint: Parse out field 5 of the segment line]\n",
    "\n",
    "<details>\n",
    "  <summary>Click for Answer</summary>\n",
    "1. What is the longest segment in the graph?"
   ]
  },
  {
   "cell_type": "code",
   "execution_count": null,
   "id": "db2f359f",
   "metadata": {
    "eval": false
   },
   "outputs": [],
   "source": [
    "grep \"^S\" yprp.minigraph.gfa |cut -f 4|sed 's/.\\+://'|sort -n | tail -1"
   ]
  },
  {
   "cell_type": "markdown",
   "id": "86e1bcd0",
   "metadata": {},
   "source": [
    "2. What is the shortest segment in the graph?"
   ]
  },
  {
   "cell_type": "code",
   "execution_count": null,
   "id": "04ca9fd1",
   "metadata": {
    "eval": false
   },
   "outputs": [],
   "source": [
    "grep \"^S\" yprp.minigraph.gfa |cut -f 4|sed 's/.\\+://'|sort -n | head -1"
   ]
  },
  {
   "cell_type": "markdown",
   "id": "1cf8b4f1",
   "metadata": {},
   "source": [
    "3. What cigar strings exist for the overlaps in the links? [Hint: Field 6 of the link line]"
   ]
  },
  {
   "cell_type": "code",
   "execution_count": null,
   "id": "57bfc6cd",
   "metadata": {
    "eval": false
   },
   "outputs": [],
   "source": [
    "grep \"^L\" yprp.minigraph.gfa |cut -f 6|sort -u"
   ]
  },
  {
   "cell_type": "markdown",
   "id": "513cb238",
   "metadata": {},
   "source": [
    "4. How many segments are attributed to each genome?"
   ]
  },
  {
   "cell_type": "code",
   "execution_count": null,
   "id": "0d169a5c",
   "metadata": {
    "eval": false
   },
   "outputs": [],
   "source": [
    "grep \"^S\" yprp.minigraph.gfa |cut -f 5|sed 's/SN:Z://'|sed 's/\\..\\+//'|sort|uniq -c"
   ]
  },
  {
   "cell_type": "markdown",
   "id": "00305a4d",
   "metadata": {},
   "source": [
    "*Note:* There are lots of ways to do this.\n",
    "\n",
    "</details>"
   ]
  },
  {
   "cell_type": "markdown",
   "id": "9f684fb9",
   "metadata": {},
   "source": [
    "## Graph to Fasta\n",
    "\n",
    "We can convert the gfa graph file to a fasta file the represents the sequence of the pangenome.\n",
    "\n",
    ">Fasta format:  \n",
    ">>header  \n",
    ">ACGCGCTAGCGCGAC  \n",
    ">ACGGCGTAGGGGCAG  \n",
    ">ACGGCT"
   ]
  },
  {
   "cell_type": "code",
   "execution_count": null,
   "id": "d65a6398",
   "metadata": {
    "eval": false
   },
   "outputs": [],
   "source": [
    "gfatools gfa2fa -s yprp.minigraph.gfa > minigraph.stable.fa"
   ]
  },
  {
   "cell_type": "markdown",
   "id": "1f06dc4c",
   "metadata": {},
   "source": [
    "### FASTA questions {-}\n",
    "\n",
    "Answer the following questions:\n",
    "\n",
    "1. How many sequences?\n",
    "\n",
    "2. Take a look at the headers"
   ]
  },
  {
   "cell_type": "markdown",
   "id": "6a217050",
   "metadata": {},
   "source": [
    "<details>\n",
    "  <summary>Click for Answer</summary>\n",
    "  \n",
    "1. How many sequences?"
   ]
  },
  {
   "cell_type": "code",
   "execution_count": null,
   "id": "ca7eeb37",
   "metadata": {
    "eval": false
   },
   "outputs": [],
   "source": [
    "grep -c '>' minigraph.stable.fa"
   ]
  },
  {
   "cell_type": "markdown",
   "id": "5f3346bf",
   "metadata": {},
   "source": [
    "2. Take a look at the headers"
   ]
  },
  {
   "cell_type": "code",
   "execution_count": null,
   "id": "405180a5",
   "metadata": {
    "eval": false
   },
   "outputs": [],
   "source": [
    "grep '>' minigraph.stable.fa|less"
   ]
  },
  {
   "cell_type": "markdown",
   "id": "a5b78a90",
   "metadata": {},
   "source": [
    "</details>\n",
    "\n",
    "<<!--When there is a second or third column it shows where the sequence fits in the graph.-->\n",
    "\n",
    "## GAF format (read alignments)\n",
    "\n",
    "“The only visual difference between GAF and PAF is that the 6th column in GAF may encode a graph path like >MT_human:0-4001<MT_orang:3426-3927 instead of a contig/chromosome name.”\n",
    "\n",
    "https://github.com/lh3/minigraph"
   ]
  },
  {
   "cell_type": "markdown",
   "id": "5d6845c9",
   "metadata": {},
   "source": [
    "Let's look at PAF format\n",
    "https://lh3.github.io/minimap2/minimap2.html"
   ]
  },
  {
   "cell_type": "markdown",
   "id": "2b9508b7",
   "metadata": {},
   "source": [
    "## Read Mapping\n",
    "\n",
    "Align reads from SK1 to the minigraph\n",
    "\n",
    "21,906,518 paired Illumina reads  \n",
    "Read length = 151 nts"
   ]
  },
  {
   "cell_type": "code",
   "execution_count": null,
   "id": "b6f68069",
   "metadata": {
    "eval": false
   },
   "outputs": [],
   "source": [
    "minigraph -x sr yprp.minigraph.gfa /home/data/pangenomics-2402/yprp/reads/SK1.illumina.fastq.gz -t 20 > SK1.mapped.gaf"
   ]
  },
  {
   "cell_type": "markdown",
   "id": "64b964f8",
   "metadata": {},
   "source": [
    ">**-x sr**        map short reads (sr)"
   ]
  },
  {
   "cell_type": "markdown",
   "id": "251aa76b",
   "metadata": {},
   "source": [
    "## Read Mapping Stats\n",
    "\n",
    "In theory, we could convert from GAF to GAM using vg convert then calculate stats with vg stats but the conversions doesn't work.\n",
    "\n",
    "Count the number of primary alignments"
   ]
  },
  {
   "cell_type": "code",
   "execution_count": null,
   "id": "ea9e5b67",
   "metadata": {
    "eval": false
   },
   "outputs": [],
   "source": [
    "grep -c \"tp:A:P\" SK1.mapped.gaf"
   ]
  },
  {
   "cell_type": "markdown",
   "id": "a50b392f",
   "metadata": {},
   "source": [
    "17298728 primary alignments  \n",
    "\n",
    "Calculate the percent of reads that had alignments\n",
    "\n",
    "17298728/21906518 = 78.97% of reads aligned"
   ]
  },
  {
   "cell_type": "markdown",
   "id": "4132c0e2",
   "metadata": {},
   "source": [
    "## Structural Variant Calling\n",
    "\n",
    "Call structural variants with gfatools (doesn’t work with VG graphs last time I checked):"
   ]
  },
  {
   "cell_type": "code",
   "execution_count": null,
   "id": "1d55b434",
   "metadata": {
    "eval": false,
    "lines_to_next_cell": 2
   },
   "outputs": [],
   "source": [
    "gfatools bubble yprp.minigraph.gfa > yprp.minigraph.structural.bed"
   ]
  },
  {
   "cell_type": "markdown",
   "id": "13c9d48e",
   "metadata": {},
   "source": [
    "![BED](./Figures/BED.png){width=100%}\n",
    "https://github.com/lh3/minigraph\n",
    " \n",
    "### Structural Variant Stats {-}\n",
    "\n",
    "1. Total number of variants:"
   ]
  },
  {
   "cell_type": "code",
   "execution_count": null,
   "id": "17882ff5",
   "metadata": {
    "eval": false
   },
   "outputs": [],
   "source": [
    "wc -l yprp.minigraph.structural.bed"
   ]
  },
  {
   "cell_type": "markdown",
   "id": "990748e0",
   "metadata": {},
   "source": [
    "2. Indels (the shortest path is 0)"
   ]
  },
  {
   "cell_type": "code",
   "execution_count": null,
   "id": "18b564db",
   "metadata": {
    "eval": false
   },
   "outputs": [],
   "source": [
    "awk '$7==0{print}' yprp.minigraph.structural.bed|wc -l"
   ]
  },
  {
   "cell_type": "markdown",
   "id": "5901e437",
   "metadata": {},
   "source": [
    "3. Inversions"
   ]
  },
  {
   "cell_type": "code",
   "execution_count": null,
   "id": "e0160397",
   "metadata": {
    "eval": false
   },
   "outputs": [],
   "source": [
    "awk '$6==1{print}' yprp.minigraph.structural.bed | cut -f 1-12"
   ]
  },
  {
   "cell_type": "markdown",
   "id": "eda576d6",
   "metadata": {},
   "source": [
    "![Inversions](./Figures/sv.inversions.png){width=100%}"
   ]
  },
  {
   "cell_type": "markdown",
   "id": "25c3ac28",
   "metadata": {},
   "source": [
    "## CUP1\n",
    "\n",
    "### Visualize the CUP1 region {-}\n",
    "\n",
    "10 working copies + 1 pseudogene in S288C\n",
    "\n",
    "![Structural Rearrangement](./Figures/StructuralRearrangements.png){width=100%}\n",
    " \n",
    "1. Find the region in the graph based on its S288C coordinates  \n",
    "S288C.chrVIII:213045-233214"
   ]
  },
  {
   "cell_type": "code",
   "execution_count": null,
   "id": "bf73397a",
   "metadata": {
    "eval": false,
    "lines_to_next_cell": 2
   },
   "outputs": [],
   "source": [
    "gfatools view -R S288C.chrVIII:213045-233214 yprp.minigraph.gfa > cup1.gfa"
   ]
  },
  {
   "cell_type": "markdown",
   "id": "234a80ff",
   "metadata": {},
   "source": [
    "2. Create a .csv to bring in the segment names  \n",
    "Note that you need a header"
   ]
  },
  {
   "cell_type": "code",
   "execution_count": null,
   "id": "63d4d3e4",
   "metadata": {
    "eval": false
   },
   "outputs": [],
   "source": [
    " cat <(echo \"Segment,Name\") <(grep \"^S\" cup1.gfa | awk '{print $2 \",\" $5}') > cup1.csv"
   ]
  },
  {
   "cell_type": "markdown",
   "id": "ec82109a",
   "metadata": {},
   "source": [
    "3. Load the graph and the .csv file into Bandage\n",
    "\n",
    "<center>\n",
    "![Bandage](./Figures/cup1new.png){width=90%}\n",
    "</center>"
   ]
  },
  {
   "cell_type": "markdown",
   "id": "31531b7f",
   "metadata": {},
   "source": [
    "The picture below compares only S288C and SK1.\n",
    "\n",
    "<center>\n",
    "![Bandage](./Figures/Bandage4.png){width=35%}\n",
    "\n",
    "![Structural Rearrangement](./Figures/StructuralRearrangements.png){width=100%}\n",
    "</center>\n",
    "\n",
    "Blast the two gene sequences to their positions. CUP1 is the smaller one. Gene sequences are in: /home/data/pangenomics-2402/yprp/CUP1/cup1.yhr054c.fa\n",
    "\n",
    "<center>\n",
    "![Bandage](./Figures/cup1b.png){width=90%}\n",
    "</center>\n",
    "\n",
    "### CUP1 Paths in Y12 {-}\n",
    "\n",
    "Let's find the Y12 paths through the graph for all bubbles in the CUP1 graph file. We will align the Y12 genome fasta to the CUP1 graph."
   ]
  },
  {
   "cell_type": "code",
   "execution_count": null,
   "id": "5712a15b",
   "metadata": {
    "eval": false
   },
   "outputs": [],
   "source": [
    "minigraph -xasm -l100 --call cup1.gfa Y12.genome.fa > Y12.call.bed"
   ]
  },
  {
   "cell_type": "markdown",
   "id": "75796033",
   "metadata": {},
   "source": [
    "<span style=\"color: lightgray;\">\n",
    "S288C.chrVIII\t213241\t213241\t>s3003\t>s3004\t>s13286:1157:+:Y12.chrVIII:206412:207603\n",
    "S288C.chrVIII\t213912\t233912\t>s3004\t>s3006\t>s10622>s13287>s10623>s13288>s10625>s13289>s10626>s13290>s10628:10263:+:Y12.chrVIII:208238:218516\n",
    "</span>\n",
    "\n",
    "alignment path through the bubble:path length:mapping strand:the contig name:approximate contig start:approximate contig end"
   ]
  },
  {
   "cell_type": "markdown",
   "id": "feca1af5",
   "metadata": {},
   "source": [
    "### CUP1 Paths in all yeast genomes {-}\n",
    "\n",
    "Let’s do all the samples:"
   ]
  },
  {
   "cell_type": "code",
   "execution_count": null,
   "id": "95694671",
   "metadata": {
    "eval": false
   },
   "outputs": [],
   "source": [
    "for i in *.fa; do\n",
    "   minigraph -xasm -l100 --call cup1.gfa $i > $i.call.bed\n",
    "done"
   ]
  },
  {
   "cell_type": "markdown",
   "id": "a87fe27f",
   "metadata": {},
   "source": [
    "Compare to the Bandage Graph\n",
    "\n",
    "## Minigraph Pros and Cons\n",
    "\n",
    "**Pros**\n",
    "\n",
    "Captures length variation   \n",
    "Efficient   \n",
    "Easy to add new genomes\n",
    "\n",
    "**Cons**\n",
    "\n",
    "Sample input order dependency  \n",
    "Needs collinear chains so it doesn’t work well with many short segments such as rare SNPs.\n",
    "\n",
    "https://github.com/lh3/minigraph#limitations\n",
    "\n",
    "![Inversion signatures](./Figures/limitations.png){width=75%} "
   ]
  },
  {
   "cell_type": "markdown",
   "id": "2dd4cac9",
   "metadata": {},
   "source": [
    "## Blog Battle\n",
    "\n",
    "**Heng Li (Minigraph)**\n",
    "\n",
    "https://lh3.github.io/2019/07/08/on-a-reference-pan-genome-model\n",
    "\n",
    "**Erik Garrison (VG)**\n",
    "\n",
    "https://ekg.github.io/2019/07/09/Untangling-graphical-pangenomics\n",
    "\n",
    "Focus on the \"Working with other pangenomic methods\" section\n",
    "\n",
    "**Heng Li (Minigraph)**\n",
    "\n",
    "https://lh3.github.io/2019/07/12/on-a-reference-pan-genome-model-part-ii\n",
    " \n",
    "## Exercises\n",
    "\n",
    "### Start with another reference {-}\n",
    "\n",
    "1. What reference did you choose? \n",
    "2. What order are the other samples in?\n",
    "3. How does the graph compare?\n",
    "4. How does read mapping compare?\n",
    "5. How do structural variant calls compare? \n",
    "6. How does the cup1 region compare? \n",
    "7. Any other interesting differences?\n",
    "\n",
    "### Another Yeast Dataset {-}\n",
    "\n",
    "A subset of yeast genomes from: https://www.nature.com/articles/s41586-018-0030-5.pdf\n",
    "We will use 127 of these genomes.\n",
    "\n",
    "Data are in: /home/data/pangenomics-2402/1011yeast/assemblies/A*fa.gz\n",
    "\n",
    "Note that 1011genomes.fasta.gz in the same directory contains all of the assemblies. We'll need that for cuttlefish but if you use it for minigraph it will treat it as one assembly and try to put it on all at once. So, use the individual assemblies.\n",
    "\n",
    "1. How many sequences in each assembly? Min? Max?\n",
    "2. Make and characterize a minigraph\n",
    "+ Choose 13 lines to match the number of genomes we ran earlier   \n",
    "+ Try all 127 assemblies  \n",
    "3. How do these graphs compare to our previous yeast graph? \n",
    "4. Pick a region from one of the graphs and make and characterize a subgraph. Visualize it in Bandage.\n",
    "\n",
    "### Human GFA {-}\n",
    "\n",
    "**lipoprotein(a) - LPA** \n",
    "\n",
    "The LPA gene is associated with coronary heart disease. It is highly variable and includes an intragenic copy number variation where one of the domains (KIV-2) can be present in 1 to 40+ copies, separated by introns.\n",
    "\n",
    "This is how it looks in an older minigraph human pangenome with CHM13 as the base.\n",
    "\n",
    "<center>\n",
    "![LPA](./Figures/LPA.png){width=60%}\n",
    "http://lh3.github.io/2021/01/11/minigraph-as-a-multi-assembly-sv-caller\n",
    "</center>"
   ]
  },
  {
   "cell_type": "markdown",
   "id": "92de4fc3",
   "metadata": {},
   "source": [
    "There are a variable number of small exons in the gene.\n",
    "\n",
    "![https://www.ncbi.nlm.nih.gov/pmc/articles/PMC4959873/](./Figures/lpa_gene_structure.png){width=80%}\n",
    "\n",
    "See if you can pull out and visualize the LPA region pictured below from minigraph draft human pangenome reference that uses the GRCh38 human reference genome as its base genome (https://www.nature.com/articles/s41586-023-05896-x). BLAST the LPA gene against the graph in Bandage.\n",
    "\n",
    "Note: The GFA file is huge so don't try to download it and upload it into bandage. Pull out a subgraph and work with that."
   ]
  },
  {
   "cell_type": "markdown",
   "id": "e852fd6a",
   "metadata": {},
   "source": [
    "The GFA file is here: /home/data/pangenomics-2402/human/graphs/hprc-v1.0-minigraph-grch38.gfa.gz (no need to unzip it). The LPA gene sequence is in /home/data/pangenomics-2402/human/genes/.\n",
    "\n",
    "The LPA coordinates for GRCh38 are chr6:160531482-160664275\n",
    "\n",
    "Note: The base genome is labelled as just chr6 whereas additional genomes have the sample name prepended before the chr.\n",
    "\n",
    "There is also a graph with the CMH13 reference as the base genome in the same graph folder. It's LPA coordinates are chr6:161783172-162011762. See how that looks in Bandage.\n",
    "\n",
    "\n"
   ]
  },
  {
   "cell_type": "markdown",
   "id": "349172be",
   "metadata": {},
   "source": [
    "<details>\n",
    "  <summary>Click for Answer</summary>\n",
    "  \n",
    "GRCh38\n",
    "  \n",
    "gfatools view -R chr6:160531482-160664275 /home/data/pangenomics-2402/human/graphs/hprc-v1.0-minigraph-grch38.gfa.gz > human.lpa.gfa\n",
    "\n",
    "![Graph Construction https://github.com/lh3/minigraph](./Figures/lpa_bandage.png){width=70%}\n",
    "\n",
    "CHM13\n",
    "\n",
    "gfatools view -R chr6:161783172-162011762 /home/data/pangenomics-2402/human/graphs/hprc-v1.0-minigraph-chm13.gfa.gz > human.lpa.chm13.gfa\n",
    "\n",
    "![Graph Construction https://github.com/lh3/minigraph](./Figures/lpa_bandage_2.png){width=70%}\n",
    "\n",
    "</details>\n",
    "\n",
    "### Convert to VG and call variants {-}\n",
    "\n",
    "Convert minigraph to vg (<1min):"
   ]
  },
  {
   "cell_type": "code",
   "execution_count": null,
   "id": "8a9aef68",
   "metadata": {
    "eval": false
   },
   "outputs": [],
   "source": [
    "vg convert -g yprp.minigraph.gfa -p > yprp.minigraph.vg"
   ]
  },
  {
   "cell_type": "markdown",
   "id": "62800b0a",
   "metadata": {},
   "source": [
    ">**-g**        input GFA graph\n",
    ">**-p**        output in PackedGraph format [default]\n",
    "\n",
    "Note that for this and other vg commands you can use -t to increase the number of threads. Our dataset is small so we won't bother.\n",
    "\n",
    "See https://github.com/vgteam/vg/wiki/File-Formats for more info on the PackedGraph format. Note that it is a binary format so if you want to look at it use \"vg view\"."
   ]
  },
  {
   "cell_type": "markdown",
   "id": "1b02b96a",
   "metadata": {},
   "source": [
    "Make vertices small enough (<=1024bp) for indexing (<1min):"
   ]
  },
  {
   "cell_type": "code",
   "execution_count": null,
   "id": "e26af07b",
   "metadata": {
    "eval": false
   },
   "outputs": [],
   "source": [
    "vg mod -X 256 yprp.minigraph.vg > yprp.minigraph.mod.vg"
   ]
  },
  {
   "cell_type": "markdown",
   "id": "c1f56012",
   "metadata": {},
   "source": [
    ">**-X**       max node size\n",
    "\n",
    "*NOTE:* Converting to VG isn’t required if not calling variants, i.e. you can index and map directly on GFA.\n",
    "\n",
    "1. Use vg to index the VG graph (2min)\n",
    "2. Use vg to map SK1 reads to minigraph GFA (17min)\n",
    "3. Use vg to call variants on read mapping GAM\n",
    "    a. pack (20min)\n",
    "    b. call (<1min)\n",
    "    c. don’t do augment; run-time too long!\n"
   ]
  }
 ],
 "metadata": {
  "jupytext": {
   "cell_metadata_filter": "eval,-all",
   "main_language": "bash",
   "notebook_metadata_filter": "-all"
  }
 },
 "nbformat": 4,
 "nbformat_minor": 5
}
