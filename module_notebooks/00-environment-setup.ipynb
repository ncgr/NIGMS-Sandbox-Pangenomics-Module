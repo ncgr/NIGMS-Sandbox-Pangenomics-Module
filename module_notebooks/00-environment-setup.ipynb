{
 "cells": [
  {
   "cell_type": "markdown",
   "metadata": {},
   "source": [
    "# Pangenomics\n",
    "--------------------------------------------"
   ]
  },
  {
   "cell_type": "markdown",
   "metadata": {},
   "source": [
    "# Environment Setup"
   ]
  },
  {
   "cell_type": "markdown",
   "metadata": {},
   "source": [
    "## Overview\n",
    "\n",
    "The purpose of this submodule is to confirm that the environment is correctly set up.\n",
    "\n",
    "If you have any questions or issues, please email cloudlab@nih.gov"
   ]
  },
  {
   "cell_type": "markdown",
   "metadata": {},
   "source": [
    "## Learning Objectives\n",
    "\n",
    "+ Learn how to get the appropriate environment set up."
   ]
  },
  {
   "cell_type": "markdown",
   "metadata": {},
   "source": [
    "## Prerequisites\n",
    "1. You should have set up a GCP Vertex AI Workbench instance following the *Setting up GCP* instructions in the [Before Starting](https://github.com/ncgr/NIGMS-Sandbox-Pangenomics-Module?tab=readme-ov-file#before-starting) section of this module's `README.md` file on GitHub.\n",
    "2. Inside your Vertex AI workbench, you should have installed all required software following the *Installing Software* instructions in the [Before Starting](https://github.com/ncgr/NIGMS-Sandbox-Pangenomics-Module?tab=readme-ov-file#before-starting) section of this module's `README.md` file on GitHub.\n",
    "3. You should be running the submodule notebook using the **nigms-pangenomics** kernel created in the previous step."
   ]
  },
  {
   "cell_type": "markdown",
   "metadata": {},
   "source": [
    "## Get Started\n",
    "The following tasks will be completed in this submodule:\n",
    "- Confirming the correct kernel is being used.\n",
    "- Confirming the correct version of Python is being used\n",
    "- Confirming the correct versions of module software are installed."
   ]
  },
  {
   "cell_type": "markdown",
   "metadata": {},
   "source": [
    "## Confirming the Jupyter Notebook Kernel\n",
    "Run the following Python code to confirm that the correct kernel is being used:"
   ]
  },
  {
   "cell_type": "code",
   "execution_count": null,
   "metadata": {},
   "outputs": [],
   "source": [
    "import sys\n",
    "import os\n",
    "kernel_name = os.path.basename(sys.executable.replace(\"/bin/python\", \"\"))\n",
    "print(kernel_name)"
   ]
  },
  {
   "cell_type": "markdown",
   "metadata": {},
   "source": [
    "<details>\n",
    "<summary>Solution</summary>\n",
    "\n",
    "<code>nigms-pangenomics</code>\n",
    "<br>   \n",
    "If this is not the output you received then you should select **nigms-pangenomics** as the kernel for this notebook. If this is not an option, then you need to set up the module environment before proceeding. See step 2 in <a href=\"#Prerequisites\">Prerequisites</a> above for details.\n",
    "</details>"
   ]
  },
  {
   "cell_type": "markdown",
   "metadata": {},
   "source": [
    "## Confirming the Python version\n",
    "Run the following terminal command to confirm that the correct Python version is loaded:"
   ]
  },
  {
   "cell_type": "code",
   "execution_count": null,
   "metadata": {},
   "outputs": [],
   "source": [
    "%%bash\n",
    "python --version"
   ]
  },
  {
   "cell_type": "markdown",
   "metadata": {},
   "source": [
    "<details>\n",
    "<summary>Solution</summary>\n",
    "\n",
    "<code>Python 3.12.8</code>\n",
    "<br>   \n",
    "If you have <code>Python 3.12.8</code> or higher you are all set. If your version is different, then you need to set up the module environment before proceeding. See step 2 in <a href=\"#Prerequisites\">Prerequisites</a> above for details.\n",
    "</details>"
   ]
  },
  {
   "cell_type": "markdown",
   "metadata": {},
   "source": [
    "## Confirming Software Versions\n",
    "Run the following terminal commands to confirm that the correct versions of the module software are installed:"
   ]
  },
  {
   "cell_type": "code",
   "execution_count": null,
   "metadata": {},
   "outputs": [],
   "source": [
    "%%bash\n",
    "pggb --version\n",
    "vg version\n",
    "gfatools version\n",
    "blastn -version"
   ]
  },
  {
   "cell_type": "markdown",
   "metadata": {},
   "source": [
    "<details>\n",
    "<summary>Solution</summary>\n",
    "\n",
    "* pggb: <code>0.7.2</code>\n",
    "* vg: <code>1.59.0</code>\n",
    "* gfatools: <code>0.5</code>\n",
    "* BLAST: <code>2.16.0+</code>\n",
    "   \n",
    "If your versions are different or the software were not found, then you need to set up the module environment before proceeding. See step 2 in <a href=\"#Prerequisites\">Prerequisites</a> above for details.\n",
    "</details>"
   ]
  },
  {
   "cell_type": "markdown",
   "metadata": {},
   "source": [
    "## Conclusion\n",
    "If you've made it this far without any errors or version mismatches then your environment is set up correctly and you can proceed with the rest of the module. Otherwise, please follow the steps in the <a href=\"#Prerequisites\">Prerequisites</a> section above for details on how to set up a Vertex AI Workbench and the environment."
   ]
  },
  {
   "cell_type": "markdown",
   "metadata": {},
   "source": [
    "## Clean up\n",
    "No cleanup is necessary for this submodule. Don't forget to shutdown your Workbench when you are done working through this module!"
   ]
  }
 ],
 "metadata": {
  "environment": {
   "kernel": "conda-env-nigms-pangenomics-nigms-pangenomics",
   "name": "workbench-notebooks.m127",
   "type": "gcloud",
   "uri": "us-docker.pkg.dev/deeplearning-platform-release/gcr.io/workbench-notebooks:m127"
  },
  "kernelspec": {
   "display_name": "nigms-pangenomics",
   "language": "python",
   "name": "conda-env-nigms-pangenomics-nigms-pangenomics"
  },
  "language_info": {
   "codemirror_mode": {
    "name": "ipython",
    "version": 3
   },
   "file_extension": ".py",
   "mimetype": "text/x-python",
   "name": "python",
   "nbconvert_exporter": "python",
   "pygments_lexer": "ipython3",
   "version": "3.12.10"
  }
 },
 "nbformat": 4,
 "nbformat_minor": 4
}
