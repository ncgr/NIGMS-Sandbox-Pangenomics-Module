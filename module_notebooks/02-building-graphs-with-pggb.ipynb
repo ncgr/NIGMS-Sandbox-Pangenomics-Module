{
 "cells": [
  {
   "cell_type": "markdown",
   "metadata": {},
   "source": [
    "# Pangenomics\n",
    "--------------------------------------------"
   ]
  },
  {
   "cell_type": "markdown",
   "metadata": {},
   "source": [
    "# Building Graphs with PGGB"
   ]
  },
  {
   "cell_type": "markdown",
   "metadata": {},
   "source": [
    "\n",
    "## Overview\n",
    "The PanGenome Graph Builder (PGGB) creates reference-free pangenomic graphs (https://github.com/pangenome/pggb). You will learn about the algorithm and its graphical output, its strengths and weaknesses, and you will build a yeast pangenomic graph."
   ]
  },
  {
   "cell_type": "markdown",
   "metadata": {},
   "source": [
    "## Learning Objectives\n",
    "+ Understand what types of graphs PGGB builds and their pros/cons\n",
    "+ Learn how to build graphs with PGGB"
   ]
  },
  {
   "cell_type": "markdown",
   "metadata": {},
   "source": [
    "## Get Started\n",
    "In this submodule you will learn how to build pangenomic graphs with PGGB.\n",
    "\n",
    "PGGB lecture:\n",
    "- Reference-Free Graphs with PGGB\n",
    "\n",
    "PGGB hands-on tutorials:\n",
    "- Yeast Dataset\n",
    "- PGGB graph generation\n",
    "- Graph inspection\n"
   ]
  },
  {
   "cell_type": "markdown",
   "metadata": {},
   "source": [
    "## Reference-Free Graphs with PGGB\n",
    "\n",
    "### PanGenome Graph Builder (PGGB)\n",
    "\n",
    "The PGGB algorithm creates *reference-free graphs* from: \n",
    "+ All-pairwise whole genome alignments \n",
    "+ Induces a graph from the alignments\n",
    "\n",
    "PGGB is built on the idea that a pangenome graph represents an alignment of the genomes in the graph, but infers the graph from all pairwise alignments instead of a multiple alignment.\n",
    "\n",
    "PGGB computes all pairwise alignments efficiently by focusing on long, colinear homologies, instead of using the more traditional k-mer matching alignment approach.\n",
    "\n",
    "Critically, pggb performs graph *normalization* to ensure that paths through the graph (e.g. chromosomes) have a linear structure while allowing for cyclic graph structures that capture structural variation.\n",
    "\n",
    "![Input Genomes](./Figures/pggbFlowDiagram.png)\n",
    "\n",
    "### Reference-Free Graphs\n",
    "\n",
    "https://academic.oup.com/bioinformatics/article/30/24/3476/2422268\n",
    "\n",
    "![Input Genomes](./Figures/InputGenomes.png)\n",
    "\n",
    "###  PGGB Algorithm\n",
    "\n",
    "1. Perform all-pairwise genome alignments using [wfmash](https://github.com/waveygang/wfmash)\n",
    "2. Convert alignments into a graph using [seqwish](https://github.com/ekg/seqwish)\n",
    "3. Progressively normalize graph with [smoothxg](https://github.com/pangenome/smoothxg) and [gfaffix](https://github.com/marschall-lab/GFAffix)\n",
    "\n"
   ]
  },
  {
   "cell_type": "markdown",
   "metadata": {},
   "source": [
    "## Yeast Genome Assemblies and Reads\n",
    "\n",
    "The [Yeast Population Reference Panel (YPRP)](https://yjx1217.github.io/Yeast_PacBio_2016/welcome/) is a panel that includes 12 yeast genome assemblies.\n",
    "More information is available in the [YPRP manuscript](https://www.ncbi.nlm.nih.gov/pmc/articles/PMC2659681/)\n",
    "\n",
    "  + 7 Saccharomyces cerevisiae (brewer’s yeast), including the S288C reference\n",
    "  + 5 *Saccharomyces paradoxus* (wild yeast)\n",
    "\n",
    "![Yeast Genomes: https://yjx1217.github.io/Yeast_PacBio_2016/welcome/](./Figures/Yeast.png)\n",
    "\n",
    "Yeast genomes are ~12 Mb and have 16 chromosomes.\n\n",
    "These yeast genomes were assembled with [LRSDAY](https://github.com/yjx1217/LRSDAY) Long-read Sequencing Data Analysis for Yeasts)\n",
    "\n",
    "+ [YPRP: 12 Yeast PacBio Assemblies (Chromosome level)](https://yjx1217.github.io/Yeast_PacBio_2016/data/)\n",
    "  + ~100-200x PacBio sequencing reads\n",
    "  + HGAP + Quiver polishing\n",
    "  + ~200-500x Illumina (Pilon correction)\n",
    "  + Manual curation\n",
    "  + Annotation\n",
    "\n"
   ]
  },
  {
   "cell_type": "markdown",
   "metadata": {},
   "source": [
    "### SK1 Illumina Reads\n",
    "\n",
    "SK1 is the most distant from S288C\n",
    "\n",
    "We will use SK1 reads later on to call variants\n",
    "\n",
    "![Yeast Genomes: https://yjx1217.github.io/Yeast_PacBio_2016/welcome/](./Figures/YeastB.png)\n",
    "\n"
   ]
  },
  {
   "cell_type": "markdown",
   "metadata": {},
   "source": [
    "### CUP1 Gene\n",
    "\n",
    "![](./Figures/StructuralRearrangements.png)\n",
    "[Structural Rearrangements](https://www.nature.com/articles/ng.3847)",
    "\n",
    "+ [CUP1](https://www.yeastgenome.org/locus/S000001095) - A gene involved in heavy metal (copper) tolerance with copy-number variation (CNV) in population.\n",
    "+ [YHR054C](https://www.yeastgenome.org/locus/S000001096) - Putative protein of unknown function.\n",
    "\n"
   ]
  },
{
   "cell_type": "markdown",
   "metadata": {},
   "source": [
    "### Preparing the Yeast Input Assemblies\n",
    "\n",
    "1. Get the three yeast genome assembly files (FASTA).\n",
    " + curl transfers a URL\n",
    " + --location tells curl to follow any redirects\n",
    " + --output gives it an output file\n"
   ]
  },
  {
   "cell_type": "code",
   "execution_count": null,
   "metadata": {},
   "outputs": [],
   "source": [
    "!curl --location --output S288C.genome.fa.gz http://yjx1217.github.io/Yeast_PacBio_2016/data/Nuclear_Genome/S288C.genome.fa.gz\n",
    "!curl --location --output Y12.genome.fa.gz http://yjx1217.github.io/Yeast_PacBio_2016/data/Nuclear_Genome/Y12.genome.fa.gz\n",
    "!curl --location --output SK1.genome.fa.gz http://yjx1217.github.io/Yeast_PacBio_2016/data/Nuclear_Genome/SK1.genome.fa.gz\n"
   ]
  },
  {
   "cell_type": "markdown",
   "metadata": {},
   "source": [
    "2. Change the fasta headers to include the yeast accession name\n",
    "[Pangenome Sequence Naming Specification](https://github.com/pangenome/PanSN-spec)\n\n",
    " + The for loop will work through each of the genome fasta files.\n",
    " + It will strip off the file suffix to get the yeast accession name.\n",
    " + It will then use sed to substitute the accession name in after the \">\" of the header line.\n",
    " + Finally, we will rename the file.\n"
   ]
  },
  {
   "cell_type": "code",
   "execution_count": null,
   "metadata": {},
   "outputs": [],
   "source": [
    "!for i in *genome.fa.gz; do\n",
      "!\tzcat $i | sed \"s\/>\/>${accession}_\/\" | gzip > prepend_$i",
      "!\n",
      "!\tmv prepend_$i $i\n",
    "!done\n"
   ]
  },
  {
   "cell_type": "markdown",
   "metadata": {},
   "source": [
    "3. Create a FASTA file containing all three yprp assemblies. Call it `yprp.all.fa`.\n"
   ]
  },
  {
   "cell_type": "code",
   "execution_count": null,
   "metadata": {},
   "outputs": [],
   "source": [
    "!cat *genome.fa.gz > yprp.all.fa\n"
   ]
  },
  {
   "cell_type": "markdown",
   "metadata": {},
   "source": [
    "4. Create a FASTA file containing chromosome VIII from every assembly. Call it `yprp.chrVIII.fa`.\n"
   ]
  },
  {
   "cell_type": "code",
   "execution_count": null,
   "metadata": {},
   "outputs": [],
   "source": [
    "!awk 'BEGIN{RS=\">\";FS=\"\\n\"} NR>1{fnme=$1\".fa\"; print \">\" $0 > fnme; close(fnme);}' yprp/assemblies/*.genome.fa && cat *.chrVIII.fa > yprp.chrVIII.fa && rm `ls | grep -v yprp`\n"
   ]
  },
  {
   "cell_type": "markdown",
   "metadata": {},
   "source": [
    "5. How can you see how many sequences are in this file to confirm the file looks correct?\n",
    "\n"
   ]
  },
  {
   "cell_type": "markdown",
   "metadata": {},
   "source": [
    "<details>\n",
    "<summary>Click for help</summary>\n",
    "<br>\n",
    "grep -c '>' yprp.all.fa\n",
    "</details>"
   ]
  },
  {
   "cell_type": "markdown",
   "metadata": {},
   "source": [
    "6. Compress the FASTA files\n",
    "\n",
    "We will compress the files with bgzip. It is similar to gzip but allows for much faster random access though it creates bigger files than gzip.\n",
    "[bgzip](https://www.htslib.org/doc/bgzip.html) the FASTA files.\n",
    "The -c parameter outputs the bgzipped file to standard output\n",
    "The \">\" redirects the standard output into a file\n"
   ]
  },
  {
   "cell_type": "code",
   "execution_count": null,
   "metadata": {},
   "outputs": [],
   "source": [
    "!bgzip -c yprp.all.fa > yprp.all.fa.gz\n",
    "!bgzip -c yprp.chrVIII.fa > yprp.chrVIII.fa.gz\n"
    ]
   },
  {
   "cell_type": "markdown",
   "metadata": {},
   "source": [
    "\n",
    "7. Index the bgzip files with [samtools](http://www.htslib.org/doc/samtools.html) [faidx](http://www.htslib.org/doc/samtools-faidx.html):\n"
   ]
  },
  {
    "cell_type": "code",
    "execution_count": null,
    "metadata": {},
    "outputs": [],
    "source": [
    "!samtools faidx yprp.all.fa.gz\n",
    "!samtools faidx yprp.chrVIII.fa.gz\n"
   ]
  },
  {
   "cell_type": "markdown",
   "id": "fa49092b",
   "metadata": {},
   "source": [
    "## Running pggb on Chromosome VIII\n",
    "\n",
    "Build a graph containing all the yprp assemblies using the following parameters:\n",
    "\n",
    "+ **-i yprp.chrVIII.fa**\n",
    "    + an input FASTA containing all sequences\n",
    "+ **-o output_chrVIIII**\n",
    "    + the directory where all output files should be placed\n",
    "+ **-n 12**\n",
    "    + the number of haplotypes (assemblies) in the input file\n",
    "+ **-t 20**\n",
    "    + the number of threads to use\n",
    "+ **-p 95**\n",
    "    + minimum sequence identity of alignment segments\n",
    "+ **-s 5000**\n",
    "    + nucleotide segment length when scaffolding the graph\n",
    "    \n",
    "NOTE: These arguments were taken from the [pggb paper](https://github.com/pangenome/pggb-paper/blob/main/workflows/AllSpecies.md).\n",
    "Refer to the paper for parameter suggestions for other species.\n",
    "\n"
   ]
  },
  {
    "cell_type": "code",
    "execution_count": null,
    "metadata": {},
    "outputs": [],
    "source": [
     "!pggb build -i yprp.chrVIII.fa.gz -o output_chrVIII -n 12 -t 20 -p 95\n"
   ]
  },
  {
   "cell_type": "markdown",
   "metadata": {},
   "source": [
     "Create a copy of the output graph with a simpler name.\n"
   ]
  },
  {
    "cell_type": "code",
    "execution_count": null,
    "metadata": {},
    "outputs": [],
    "source": [
     "!cp output_chrVIII/yprp.chrVIII.fa.gz.*.smooth.final.gfa yprp.chrVIII.pggb.gfa\n"
    ]
  },
  {
   "cell_type": "markdown",
   "metadata": {},
   "source": [
    "## Running pggb on all Chromosomes\n",
    "\n",
    "While you can run all the chromosomes the same way you ran chromosome VII, partitioning the sequences before building the graph allows us to parallelize the graph building.\n",
    "The partition-before-pggb command partitions the input FASTA into smaller FASTA \"communities\" containing sequences that should be in the same subgraph. This command uses the same parameters as pggb build.\n",
    "\n",
    "+ Will likely correspond to chromosomes if you have complete assemblies\n",
    "+ May improve run-time of normalization step and make downstream analysis easier\n",
    "+ Consider skipping if your assemblies/organism has complex structure you want represented in the graph, e.g. polyploidy, translocations, etc.\n",
    "\n",
    "The partition-before-pggb command will print a `pggb` command for every partition to the command line and to a log file: `output_all/yprp.all.fa.gz.*.log`\n",
    "\n"
   ]
  },
  {
    "cell_type": "code",
    "execution_count": null,
    "metadata": {},
    "outputs": [],
    "source": [
    "!partition-before-pggb -i yprp.all.fa.gz -o output_all -n 12 -t 20 -p 95 -s 5000\n"
    ]
  },
  {
   "cell_type": "markdown",
   "metadata": {},
   "source": [
    "Now use the commands on the screen or in the log file to run the 12 subgraphs.\n"
   ]
  },
  {
   "cell_type": "markdown",
   "metadata": {},
   "source": [
    "<details>\n",
    "<summary>Click for help</summary>\n",
    "<br>\n",
    "Add commands from log here.\n",
    "</details>"
   ]
  },
  {
   "cell_type": "markdown",
   "metadata": {},
   "source": [
    "### Insert quizzes"
   ]
  },
  {
   "cell_type": "code",
   "execution_count": null,
   "metadata": {},
   "outputs": [],
   "source": [
    "#Install jupyterquiz library\n",
    "%pip install jupyterquiz"
   ]
  },
  {
   "cell_type": "code",
   "execution_count": null,
   "metadata": {},
   "outputs": [],
   "source": [
    "#Load jupyterquiz library\n",
    "from jupyterquiz import display_quiz"
   ]
  },
  {
   "cell_type": "code",
   "execution_count": null,
   "metadata": {},
   "outputs": [],
   "source": [
    "#Display quiz as html\n",
    "#Instructions for creating quiz .json files and converting to html provided in the links below\n",
    "from IPython.display import IFrame\n",
    "IFrame('module_notebooks/html/quiz_building_graphs.html', width=800, height=400)"
   ]
  },
  {
   "cell_type": "markdown",
   "metadata": {},
   "source": [
    "## Conclusion\n",
    "This module explained PGGB's graph building algorithm and output and its strengths and weaknesses.\n",
    "You obtained the yeast genomes, prepared the input data, and created a yeast pangenomic graph of chromosome VIII and one of the entire genome.\n",
    "In the next module you will learn how to visualize and explore these graphs.\n"
   ]
  },
  {
   "cell_type": "markdown",
   "metadata": {},
   "source": [
    "## Cleanup\n",
    "Don't forget to shutdown the VM and delete any relevant resources. <br><br>"
   ]
  },
  {
   "cell_type": "markdown",
   "metadata": {},
   "source": [
    "<br>"
   ]
  },
  {
   "cell_type": "markdown",
   "metadata": {},
   "source": [
    "## Additional Notebook Options & Functionalities"
   ]
  },
  {
   "cell_type": "markdown",
   "metadata": {},
   "source": [
    "---------------------------------"
   ]
  },
  {
   "cell_type": "markdown",
   "metadata": {},
   "source": [
    "### Use alert cells to communicate important messages or information"
   ]
  },
  {
   "cell_type": "markdown",
   "metadata": {},
   "source": [
    "<div class=\"alert alert-block alert-danger\"> <b>Warning:</b> Here is a warning. Please take appropriate action</a>. </div>\n",
    "<div class=\"alert alert-block alert-warning\"> <b>Attention:</b> Please take note</a>. </div>\n",
    "<div class=\"alert alert-block alert-success\"> <b>Success:</b> Your action was successful</a>. </div>\n",
    "<div class=\"alert alert-block alert-info\"> <b>Tip:</b> Try this</a>. </div>"
   ]
  },
  {
   "cell_type": "markdown",
   "metadata": {},
   "source": [
    "### Stylize markdown cells and text"
   ]
  },
  {
   "cell_type": "markdown",
   "metadata": {},
   "source": [
    "<p style=\"background:blue;color:white;font-family:times new roman\"> Change cell background, text color, and/or font. </p>\n",
    "<code style=\"background:black;color:white\">>Make text look similar to command line. </code>"
   ]
  },
  {
   "cell_type": "markdown",
   "metadata": {},
   "source": [
    "**This is bold text.** <br>\n",
    "Another way to <b>bold</b> text. <br><br>\n",
    "*This is italicized text.* <br>\n",
    "Another way to <i>italicize</i> text. <br><br>\n",
    "<mark>Emphasize</mark> a section of text. <br><br>\n",
    "Insert LateX equations: $\\sqrt{n}$"
   ]
  },
  {
   "cell_type": "markdown",
   "metadata": {},
   "source": [
    "### Code syntax highlighting"
   ]
  },
  {
   "cell_type": "markdown",
   "metadata": {},
   "source": [
    "```python\n",
    "def my_python_function():\n",
    "  print(\"Hello from a function\")\n",
    "```"
   ]
  },
  {
   "cell_type": "markdown",
   "metadata": {},
   "source": [
    "### Create tables"
   ]
  },
  {
   "cell_type": "markdown",
   "metadata": {},
   "source": [
    "##### Using markdown syntax\n",
    "|Name|Address|Salary| \n",
    "|-----|-------|------| \n",
    "|Hanna|Brisbane|5000| \n",
    "|Adam|Sydney|4000|"
   ]
  },
  {
   "cell_type": "markdown",
   "metadata": {},
   "source": [
    "##### Using HTML syntax\n",
    "<table>\n",
    "<thead>\n",
    "<tr><th>Name</th><th>Address</th><th>Salary</th></tr>\n",
    "</thead>\n",
    "<tbody>\n",
    "<tr><td>Hanna</td><td>Brisbane</td><td>5000</td></tr>\n",
    "<tr><td>Adam</td><td>Sydney</td><td>4000</td></tr>\n",
    "</tbody>\n",
    "</table>"
   ]
  },
  {
   "cell_type": "markdown",
   "metadata": {},
   "source": [
    "### Provide additional details through dropdowns or hover text"
   ]
  },
  {
   "cell_type": "markdown",
   "metadata": {},
   "source": [
    "<details>\n",
    "<summary>Click for help</summary>\n",
    "<br>\n",
    "Put your detailed instructions, command, or helpful hint(s) here.\n",
    "</details>"
   ]
  },
  {
   "cell_type": "markdown",
   "metadata": {},
   "source": [
    "<span title=\"Here is where you should put more detailed instructions.\">Hover mouse over this text for further instructions</span>"
   ]
  },
  {
   "cell_type": "markdown",
   "metadata": {},
   "source": [
    "### Display links"
   ]
  },
  {
   "cell_type": "markdown",
   "metadata": {},
   "source": [
    "[Link To Nextflow Intro Video](https://www.youtube.com/watch?v=wbtMbJTo1xo)"
   ]
  },
  {
   "cell_type": "markdown",
   "metadata": {},
   "source": [
    "<br>"
   ]
  },
  {
   "cell_type": "markdown",
   "metadata": {},
   "source": [
    "## Notebook Embeddings\n",
    "---------------------------------"
   ]
  },
  {
   "cell_type": "markdown",
   "metadata": {},
   "source": [
    "### Embed images"
   ]
  },
  {
   "cell_type": "markdown",
   "metadata": {},
   "source": [
    "![myimage](images/OIP.jpeg)"
   ]
  },
  {
   "cell_type": "markdown",
   "metadata": {},
   "source": [
    "### Embed videos"
   ]
  },
  {
   "cell_type": "code",
   "execution_count": null,
   "metadata": {},
   "outputs": [],
   "source": [
    "from IPython.display import YouTubeVideo\n",
    "\n",
    "# Youtube\n",
    "YouTubeVideo(id='T9fbAkgINf0', height=200, width=400)"
   ]
  },
  {
   "cell_type": "code",
   "execution_count": null,
   "metadata": {},
   "outputs": [],
   "source": [
    "from IPython.display import Video\n",
    "\n",
    "#Sample from vimeo\n",
    "Video(\"videos/sample-mp4-file.mp4\",width=400, height=200)"
   ]
  },
  {
   "cell_type": "code",
   "execution_count": null,
   "metadata": {},
   "outputs": [],
   "source": [
    "from IPython.display import VimeoVideo\n",
    "VimeoVideo(id='281123163', width=400, height=200)"
   ]
  },
  {
   "cell_type": "markdown",
   "metadata": {},
   "source": [
    "### Embed html files"
   ]
  },
  {
   "cell_type": "code",
   "execution_count": null,
   "metadata": {},
   "outputs": [],
   "source": [
    "from IPython.display import IFrame\n",
    "IFrame(src='html/gut_1_fastqc.html', width=900, height=600)"
   ]
  },
  {
   "cell_type": "markdown",
   "metadata": {},
   "source": [
    "### Embed interactive IGV browser"
   ]
  },
  {
   "cell_type": "code",
   "execution_count": null,
   "metadata": {},
   "outputs": [],
   "source": [
    "%pip install --user igv-notebook"
   ]
  },
  {
   "cell_type": "code",
   "execution_count": null,
   "metadata": {},
   "outputs": [],
   "source": [
    "import igv_notebook\n",
    "\n",
    "igv_notebook.init()"
   ]
  },
  {
   "cell_type": "code",
   "execution_count": null,
   "metadata": {},
   "outputs": [],
   "source": [
    "b1 = igv_notebook.Browser(\n",
    "    {\n",
    "        \"genome\": \"hg19\",\n",
    "        \"locus\": \"chr22:24,376,166-24,376,456\",\n",
    "    }\n",
    ")"
   ]
  },
  {
   "cell_type": "markdown",
   "metadata": {},
   "source": [
    "Visit the [igvteam](https://github.com/igvteam/igv-notebook) Github page for additional information. <br><br>\n",
    "Or refer to our past workshop on [using igv-notebook in jupyter](reference_notebooks/igv_template.ipynb)."
   ]
  },
  {
   "cell_type": "markdown",
   "metadata": {},
   "source": [
    "<br>"
   ]
  },
  {
   "cell_type": "markdown",
   "metadata": {},
   "source": [
    "## Quizzes & Flashcards\n",
    "---------------------------------"
   ]
  },
  {
   "cell_type": "markdown",
   "metadata": {},
   "source": [
    "### Insert quizzes"
   ]
  },
  {
   "cell_type": "code",
   "execution_count": null,
   "metadata": {},
   "outputs": [],
   "source": [
    "#Install jupyterquiz library\n",
    "%pip install jupyterquiz"
   ]
  },
  {
   "cell_type": "code",
   "execution_count": null,
   "metadata": {},
   "outputs": [],
   "source": [
    "#Load jupyterquiz library\n",
    "from jupyterquiz import display_quiz"
   ]
  },
  {
   "cell_type": "code",
   "execution_count": null,
   "metadata": {},
   "outputs": [],
   "source": [
    "#Display quiz as html\n",
    "#Instructions for creating quiz .json files and converting to html provided in the links below\n",
    "from IPython.display import IFrame\n",
    "IFrame('html/quiz_example.html', width=800, height=400)"
   ]
  },
  {
   "cell_type": "markdown",
   "metadata": {},
   "source": [
    "### Insert flashcards"
   ]
  },
  {
   "cell_type": "code",
   "execution_count": null,
   "metadata": {},
   "outputs": [],
   "source": [
    "#Install jupytercards library\n",
    "%pip install jupytercards"
   ]
  },
  {
   "cell_type": "code",
   "execution_count": null,
   "metadata": {},
   "outputs": [],
   "source": [
    "#Display flashcard as html\n",
    "#Instructions for creating flashcard .json files and converting to html provided in the links below\n",
    "from IPython.display import IFrame\n",
    "IFrame('html/flashcard_example.html', width=600, height=600)"
   ]
  },
  {
   "cell_type": "markdown",
   "metadata": {},
   "source": [
    "For more details on constructing and embedding quizzes and flashcards using Python refer to this [notebook](reference_notebooks/python_quiz_template.ipynb). <br><br>\n",
    "For details on constructing and embedding quizzes and flashcards within a notebook using R refer to this [notebook](reference_notebooks/r_quiz_template.ipynb)."
   ]
  },
  {
   "cell_type": "markdown",
   "metadata": {},
   "source": [
    "<br>"
   ]
  },
  {
   "cell_type": "markdown",
   "metadata": {},
   "source": [
    "# Data Figures & Graphics"
   ]
  },
  {
   "cell_type": "markdown",
   "metadata": {},
   "source": [
    "---------------------------------------------------"
   ]
  },
  {
   "cell_type": "markdown",
   "metadata": {},
   "source": [
    "### Data visualization with python"
   ]
  },
  {
   "cell_type": "code",
   "execution_count": null,
   "metadata": {},
   "outputs": [],
   "source": [
    "#Install libraries\n",
    "%pip install matplotlib\n",
    "%pip install pandas\n",
    "%pip install seaborn\n",
    "%pip install numpy\n",
    "%pip install pyvis\n",
    "%pip install ipycytoscape"
   ]
  },
  {
   "cell_type": "code",
   "execution_count": null,
   "metadata": {},
   "outputs": [],
   "source": [
    "#Load libraries\n",
    "import matplotlib.pyplot as plt\n",
    "import pandas as pd\n",
    "import seaborn as sns\n",
    "import numpy as np"
   ]
  },
  {
   "cell_type": "markdown",
   "metadata": {},
   "source": [
    "#### Make volcano plots"
   ]
  },
  {
   "cell_type": "code",
   "execution_count": null,
   "metadata": {},
   "outputs": [],
   "source": [
    "toptable = pd.read_csv('viz_data/Toptable_VolcanoPlot.txt', sep='\\t')\n",
    "\n",
    "# Declare significance thresholds\n",
    "sig = 0.05\n",
    "FC = 0.6\n",
    "\n",
    "toptable['Significance'] = np.where((toptable['logFC'] > FC) & \n",
    "                                    (toptable['P.Value'] < sig), 'Up', \n",
    "                           np.where((toptable['logFC'] < -FC) &\n",
    "                                    (toptable['P.Value'] < sig), 'Down','Not_Sig'))\n",
    "# Count of Significance level\n",
    "toptable['Significance'].value_counts()\n",
    "\n",
    "# Add color to the plot based on the values above with the hue parameter\n",
    "sns.scatterplot(x='logFC', y=-np.log10(toptable['adj.P.Val']), hue='Significance', data=toptable)\n",
    "plt.show()"
   ]
  },
  {
   "cell_type": "markdown",
   "metadata": {},
   "source": [
    "#### Make heatmaps"
   ]
  },
  {
   "cell_type": "code",
   "execution_count": null,
   "metadata": {},
   "outputs": [],
   "source": [
    "# generate a matrix, red pill or blue pill?\n",
    "np.random.seed(100)\n",
    "\n",
    "nr1 = 4\n",
    "nr2 = 8\n",
    "nr3 = 6\n",
    "nr = nr1 + nr2 + nr3\n",
    "nc1 = 6\n",
    "nc2 = 8\n",
    "nc3 = 10\n",
    "nc = nc1 + nc2 + nc3\n",
    "\n",
    "mat1 = np.random.normal(1, 0.5, (nr1, nc1))\n",
    "mat2 = np.random.normal(0, 0.5, (nr2, nc1))\n",
    "mat3 = np.random.normal(0, 0.5, (nr3, nc1))\n",
    "mat4 = np.random.normal(0, 0.5, (nr1, nc2))\n",
    "mat5 = np.random.normal(1, 0.5, (nr2, nc2))\n",
    "mat6 = np.random.normal(0, 0.5, (nr3, nc2))\n",
    "mat7 = np.random.normal(0.5, 0.5, (nr1, nc3))\n",
    "mat8 = np.random.normal(0.5, 0.5, (nr2, nc3))\n",
    "mat9 = np.random.normal(1, 0.5, (nr3, nc3))\n",
    "\n",
    "mat = np.concatenate((np.concatenate((mat1, mat2, mat3), axis=0),\n",
    "                      np.concatenate((mat4, mat5, mat6), axis=0),\n",
    "                      np.concatenate((mat7, mat8, mat9), axis=0)), axis=1)\n",
    "\n",
    "mat = np.array(mat)\n",
    "np.random.shuffle(mat)\n",
    "np.random.shuffle(mat.T)\n",
    "\n",
    "row_names = [\"row\"+str(i) for i in range(1,nr+1)]\n",
    "col_names = [\"column\"+str(i) for i in range(1,nc+1)]\n",
    "\n",
    "mat = pd.DataFrame(mat, index=row_names, columns=col_names)\n",
    "\n",
    "# hate the default colors, so let's match it with the colors from the R notebook\n",
    "from matplotlib.colors import LinearSegmentedColormap\n",
    "red_white_blue = LinearSegmentedColormap.from_list(\"rbw\",[\"red\",\"white\",\"blue\"])\n",
    "\n",
    "sns.heatmap(mat,annot=False,cmap=red_white_blue, linewidth=.5)\n",
    "plt.show()"
   ]
  },
  {
   "cell_type": "markdown",
   "metadata": {},
   "source": [
    "#### Make gene networks"
   ]
  },
  {
   "cell_type": "code",
   "execution_count": null,
   "metadata": {},
   "outputs": [],
   "source": [
    "#Load additional network visualization libraries\n",
    "from pyvis.network import Network\n",
    "#from ipycytoscape import CytoscapeWidget #only needed if want to produce widget below\n",
    "import networkx as nx\n",
    "import requests"
   ]
  },
  {
   "cell_type": "code",
   "execution_count": null,
   "metadata": {},
   "outputs": [],
   "source": [
    "# Create a Network object\n",
    "net = Network(notebook=True, cdn_resources='remote')\n",
    "\n",
    "# Add nodes to the network\n",
    "net.add_node(\"A\", label = \"Gene A\")\n",
    "net.add_node(\"B\", label = \"Gene B\")\n",
    "net.add_node(\"C\", label = \"Gene C\")\n",
    "\n",
    "# Add edges to the network\n",
    "net.add_edge(\"A\", \"B\")\n",
    "net.add_edge(\"B\", \"C\")\n",
    "net.add_edge(\"C\", \"A\")\n",
    "\n",
    "# Show the network\n",
    "net.show(\"network_example.html\")"
   ]
  },
  {
   "cell_type": "code",
   "execution_count": null,
   "metadata": {},
   "outputs": [],
   "source": [
    "#create a list of proteins or genes of interest\n",
    "protein_list = ['TPH1','COMT','SLC18A2','HTR1B','HTR2C','HTR2A','MAOA',\n",
    "            'TPH2','HTR1A','HTR7','SLC6A4','GABBR2','POMC','GNAI3',\n",
    "            'NPY','ADCY1','PDYN','GRM2','GRM3','GABBR1']\n",
    "proteins = '%0d'.join(protein_list)\n",
    "\n",
    "url = 'https://string-db.org/api/tsv/network?identifiers=' + proteins + '&species=9606'\n",
    "r = requests.get(url)\n",
    "\n",
    "lines = r.text.split('\\n') # pull the text from the response object and split based on new lines\n",
    "data = [l.split('\\t') for l in lines] # split each line into its components based on tabs\n",
    "# convert to dataframe using the first row as the column names; drop empty, final row\n",
    "df = pd.DataFrame(data[1:-1], columns = data[0]) \n"
   ]
  },
  {
   "cell_type": "code",
   "execution_count": null,
   "metadata": {},
   "outputs": [],
   "source": [
    "df.head()"
   ]
  },
  {
   "cell_type": "code",
   "execution_count": null,
   "metadata": {},
   "outputs": [],
   "source": [
    "# dataframe with the preferred names of the two proteins and the score of the interaction\n",
    "interactions = df[['preferredName_A', 'preferredName_B', 'score']] \n",
    "\n",
    "G=nx.Graph(name='Protein Interaction Graph')\n",
    "interactions = np.array(interactions)\n",
    "for i in range(len(interactions)):\n",
    "    interaction = interactions[i]\n",
    "    a = interaction[0] # protein a node\n",
    "    b = interaction[1] # protein b node\n",
    "    w = float(interaction[2]) # score as weighted edge where high scores = low weight\n",
    "    G.add_weighted_edges_from([(a,b,w)]) # add weighted edge to graph\n",
    "\n",
    "pos = nx.spring_layout(G) # position the nodes using the spring layout\n",
    "plt.figure(figsize=(11,11),facecolor=[0.7,0.7,0.7,0.4])\n",
    "nx.draw_networkx(G)\n",
    "\n",
    "#cyto = CytoscapeWidget()\n",
    "#cyto.graph.add_graph_from_networkx(G)\n",
    "\n",
    "#display(cyto)\n",
    "plt.axis('off')\n",
    "plt.show()"
   ]
  },
  {
   "cell_type": "markdown",
   "metadata": {},
   "source": [
    "### Data visualization with R\n",
    "[Open R Notebook](./reference_notebooks/r_viz_template.ipynb)"
   ]
  }
 ],
 "metadata": {},
 "nbformat": 4,
 "nbformat_minor": 4
}
