{
 "cells": [
  {
   "cell_type": "markdown",
   "metadata": {},
   "source": [
    "# Pangenomics\n",
    "--------------------------------------------"
   ]
  },
  {
   "cell_type": "markdown",
   "metadata": {},
   "source": [
    "# Variant Calling with vg"
   ]
  },
  {
   "cell_type": "markdown",
   "metadata": {},
   "source": [
    "## Overview\n",
    "\n",
    "Variants can be called within the pangenomic graph and by aligning reads to the graph. You will learn how to call variants both ways in this submodule."
   ]
  },
  {
   "cell_type": "markdown",
   "metadata": {},
   "source": [
    "## Learning Objectives\n",
    "+ Understand different types of variants\n",
    "+ Understand our ability to call variants with different types of reads and pangenomic graphs\n",
    "+ Learn how to call and interpret variants with vg"
   ]
  },
  {
   "cell_type": "markdown",
   "metadata": {},
   "source": [
    "## Get Started\n",
    "\n",
    "First we will learn how to identify variants that are supported by the graph. Then we'll look at identifying novel variants that are not in the graphs."
   ]
  },
  {
   "cell_type": "markdown",
   "metadata": {},
   "source": [
    "### Call Variants\n",
    "\n",
    "We will look for variants that are supported by the graph as well as for variants that are novel (not in the graph but supported by the reads aligned to the graph).\n",
    "\n"
   ]
  },
  {
   "cell_type": "markdown",
   "metadata": {},
   "source": [
    "## Calling Graph Supported Variants\n",
    "\n",
    "Compute read support for variation already in the graph.\n",
    "\n",
    "\n",
    "**vg pack**\n",
    "\n",
    "The parameters:\n",
    "\n",
    "-Q 5  \n",
    "+ ignore mapping and base quality < 5\n",
    "\n",
    "-s 5  \n",
    "+ ignore the first and last 5bp of each read\n",
    "\n",
    "-o S288C.SK1.illumina.pack  \n",
    "    + the output pack file\n",
    "    \n",
    "-t 20  \n",
    "    + use 20 threads"
   ]
  },
  {
   "cell_type": "code",
   "execution_count": null,
   "metadata": {},
   "outputs": [],
   "source": [
    "!vg pack -x S288C.xg -g S288C.SK1.illumina.gam -Q 5 -s 5 -o S288C.SK1.illumina.pack -t 20"
   ]
  },
  {
   "cell_type": "markdown",
   "metadata": {},
   "source": [
    "Generate a VCF from the read support.\n",
    "\n",
    "**vg call**\n",
    "\n",
    "The parameters:\n",
    "\n",
    "-k S288C.SK1.illumina.pack\n",
    "+ The read support file to read in\n",
    "\n",
    "-t 20\n",
    "+ Use 20 threads"
   ]
  },
  {
   "cell_type": "code",
   "execution_count": null,
   "metadata": {},
   "outputs": [],
   "source": [
    "!vg call S288C.xg -k S288C.SK1.illumina.pack -t 20 > S288C.SK1.illumina.graph_calls.vcf"
   ]
  },
  {
   "cell_type": "markdown",
   "metadata": {},
   "source": [
    "## Calling Novel Variants\n",
    "\n",
    "Augment the graph with the mapped reads.\n",
    "\n",
    "**vg augment**\n",
    "\n",
    "The Parameters: XXX fix these params or delete them (We alread did this in another chapter?)\n",
    "\n",
    "-A\n",
    "+ The read alignment\n",
    "\n",
    "-t 20\n",
    "+ Use 20 threads\n",
    "\n",
    "\n",
    "NOTE: This only supports VG files. Indexes used for mapping must be built from the same VG file being augmented (i.e. indexes built from GFA files that were then converted to VG won’t work.)\n"
   ]
  },
  {
   "cell_type": "code",
   "execution_count": null,
   "metadata": {},
   "outputs": [],
   "source": [
    "!vg augment S288C.vg S288C.SK1.illumina.gam -A S288C.SK1.illumina.aug.gam -t 20 > S288C.SK1.illumina.aug.vg"
   ]
  },
  {
   "cell_type": "markdown",
   "metadata": {},
   "source": [
    "Index the augmented graph.\n",
    "\n",
    "XXX Do we need params here?"
   ]
  },
  {
   "cell_type": "code",
   "execution_count": null,
   "metadata": {},
   "outputs": [],
   "source": [
    "!vg index -x S288C.SK1.illumina.aug.xg S288C.SK1.illumina.aug.vg -t 20"
   ]
  },
  {
   "cell_type": "markdown",
   "metadata": {},
   "source": [
    "Compute read support for novel variation."
   ]
  },
  {
   "cell_type": "code",
   "execution_count": null,
   "metadata": {},
   "outputs": [],
   "source": [
    "!vg pack -x S288C.SK1.illumina.aug.xg -g S288C.SK1.illumina.aug.gam -Q 5 -s 5 -o S288C.SK1.illumina.aug.pack -t 20"
   ]
  },
  {
   "cell_type": "markdown",
   "metadata": {},
   "source": [
    "Generate a VCF from the support."
   ]
  },
  {
   "cell_type": "code",
   "execution_count": null,
   "metadata": {},
   "outputs": [],
   "source": [
    "!vg call S288C.SK1.illumina.aug.xg -k S288C.SK1.illumina.aug.pack -t 20 > S288C.SK1.illumina.aug_calls.vcf"
   ]
  },
  {
   "cell_type": "code",
   "execution_count": null,
   "metadata": {},
   "outputs": [],
   "source": [
    "## Calling Variants Already in the Graph using read support XXX\n",
    "\n",
    "Output variants used to construct graph\n",
    "\n",
    "\n",
    "**vg deconstruct**\n",
    "\n",
    "The parameters:\n",
    "\n",
    "-P S288C\n",
    "    + report variants relative to paths with names that start with S288C (XXX expand)\n",
    "\n",
    "NOTE: S288C.deconstruct.vcf might not be identical to S288C.vcf because VG takes liberties with variants when constructing the graph.\n",
    "  XXX Remind people the differnce in how the 2 were made.\n"
   ]
  },
  {
   "cell_type": "code",
   "execution_count": null,
   "metadata": {},
   "outputs": [],
   "source": [
    "!vg deconstruct S288C.xg -P S288C -t 20 > S288C.deconstruct.vcf"
   ]
  },
  {
   "cell_type": "markdown",
   "metadata": {},
   "source": [
    "## Exercises\n",
    "\n",
    "1. Use vg to index the chromosome VIII graph\n",
    "2. Use vg to map SK1 reads to the chromosome VIII graph\n",
    "3. Use vg to call variants on chromosome VIII read mapping GAMS\n"
   ]
  },
  {
   "cell_type": "markdown",
   "metadata": {},
   "source": [
    "## Conclusion\n",
    "\n",
    "In this submodule, you learned different ways to call and characterize variants from the graph, including variants supported within the graph and variants supported by reads mapped to the graph."
   ]
  },
  {
   "cell_type": "markdown",
   "metadata": {},
   "source": [
    "## Clean up\n",
    "No cleanup is necessary for this submodule. Don't forget to shutdown your Workbench when you are done working through this module!"
   ]
  }
 ],
 "metadata": {},
 "nbformat": 4,
 "nbformat_minor": 4
}
