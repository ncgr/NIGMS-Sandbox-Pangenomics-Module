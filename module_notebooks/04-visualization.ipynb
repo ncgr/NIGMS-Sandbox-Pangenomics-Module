{
 "cells": [
  {
   "cell_type": "markdown",
   "metadata": {},
   "source": [
    "# Pangenomics\n",
    "--------------------------------------------"
   ]
  },
  {
   "cell_type": "markdown",
   "metadata": {},
   "source": [
    "# Visualizing Graphs with Bandage"
   ]
  },
  {
   "cell_type": "markdown",
   "metadata": {},
   "source": [
    "## Overview\n",
    "\n",
    "Bandage can be used to visualize and interact with pangenomic graphs. You will learn how to visualize graphs with Bandage and how to BLAST DNA sequences and visualize them on the graph."
   ]
  },
  {
   "cell_type": "markdown",
   "metadata": {},
   "source": [
    "## Learning Objectives\n",
    "+ Learn how to visualize pangenomic graphs using Bandage\n",
    "+ Learn how to BLAST sequences against the graph and visualize them within Bandage\n",
    "+ Learn how to trace paths through the graph"
   ]
  },
  {
   "cell_type": "markdown",
   "metadata": {},
   "source": [
    "## Get Started\n",
    "\n",
    "In this submodule you will learn how to visualize graphs with Bandage, how to BLAST query sequences directly against the graph in Bandage, and how to trace paths through the graph.\n",
    "\n",
    "#### Visualizing Genomes\n",
    "\n",
    "#### Bandage \n",
    "- Overview\n",
    "- Visualization in Bandage\n",
    "- BLASTing Pangenomic Graphs\n",
    "- Paths\n",
    "\n",
    "----------------------\n",
    "\n",
    "## Visualizing Genomes\n",
    "\n",
    "Pangenomic graphs can be very complex, often looking like \"hairballs\" such as those in the figure below. Bandage allows us to zoom in on interesting regions to visualize and interact with them.\n",
    "\n",
    "<figure>\n",
    "  <img\n",
    "    src=\"./Figures/hairballsB.png\"\n",
    "    alt=\"Compressed de Bruijn graphs “hairballs”\" />\n",
    "  <figcaption><a href=\"https://academic.oup.com/bioinformatics/article/30/24/3476/2422268\">https://academic.oup.com/bioinformatics/article/30/24/3476/2422268</a></figcaption>\n",
    "</figure>\n"
   ]
  },
  {
   "cell_type": "markdown",
   "metadata": {},
   "source": [
    "----------------------\n",
    "\n",
    "## Bandage\n",
    "\n",
    "Bandage is an interactive graph visualizer. The Bandage acronym stands for:\n",
    "a **B**ioinformatics **A**pplication for **N**avigating **D**e novo **A**ssembly **G**raphs **E**asily\n",
    "\n",
    "<figure>\n",
    "  <img\n",
    "    src=\"./Figures/Bandage.png\"\n",
    "    alt=\"Bandage logo\" />\n",
    "  <figcaption><a href=\"https://rrwick.github.io/Bandage/\">https://rrwick.github.io/Bandage/</a></figcaption>\n",
    "</figure>\n",
    "\n",
    "In addition to visualizing graphs, Bandage has BLAST integration that allows you to: \n",
    "- Query the graph with DNA sequences.\n",
    "- Build a local BLAST database of the graph.\n",
    "- Do a web BLAST search with sequences from nodes.\n",
    "\n",
    "Finally, Bandage also allows you to label and color nodes by uploading comma separated value (CSV) text files with metadata. Details on creating CSV files can be found [here](https://github.com/rrwick/Bandage/wiki/CSV-labels).\n"
   ]
  },
  {
   "cell_type": "markdown",
   "metadata": {},
   "source": [
    "### Open Bandage\n",
    "\n",
    "1. Open up Bandage in your browser:\n",
    "\n",
    "From the Launcher tab (File : New Launcher), scroll down to the bottom. In the \"Visualization Software\" section, click on \"Bandage\"."
   ]
  },
  {
   "cell_type": "markdown",
   "metadata": {},
   "source": [
    "### Load Graph\n",
    "\n",
    "2. Once in Bandage, choose \"File : Load Graph\". Navigate to \"yprp.chrVIII.pggb.gfa\" (click on \"Computer\" then \"/\" then navigate to /home/jupyter/NIGMS-Sandbox-Pangenomics-Module/module_notebooks/graphs/yprp.chrVIII.pggb.gfa).\n",
    "\n",
    "\n",
    "3. Click on \"Draw Graph\"."
   ]
  },
  {
   "cell_type": "markdown",
   "metadata": {},
   "source": [
    "<div class=\"alert alert-block alert-info\"> <b>NOTE:</b> It will draw the graph differently every time."
   ]
  },
  {
   "cell_type": "markdown",
   "metadata": {},
   "source": [
    "4. Under \"Graph Information\", choose \"More Info\" to see more stats about the graph."
   ]
  },
  {
   "cell_type": "markdown",
   "metadata": {},
   "source": [
    "----------------------\n",
    "\n",
    "## BLAST graph\n",
    "\n",
    "1. Open up \"Graph Search\" and then click on \"Create/view graph search\".\n",
    "\n",
    "2. Click on \"Build BLAST database\" to build a database from the graph.\n",
    "\n",
    "3. Click on \"Load from FASTA file\" and choose the \"genes.fa\" file.\n",
    "\n",
    "4. Click \"Run BLAST search\"."
   ]
  },
  {
   "cell_type": "markdown",
   "metadata": {},
   "source": [
    "5. Take a look at the table down below and see the hits that both of the genes have and the colors each has been assigned.\n",
    "\n",
    "6. Hit \"close\"."
   ]
  },
  {
   "cell_type": "markdown",
   "metadata": {},
   "source": [
    "7. Under \"Graph Drawing\", change scope to \"Around Query Hits\" and in the \"Distance\" box, type in 100. This will show the CUP1 and YHR054C gene hits plus the surrounding 100 nodes.\n",
    "\n",
    "8. Under \"Graph Display\", change \"Random Colours\" to \"Gray Color\" so that the gene hits will stand out.\n",
    "\n",
    "9. Scroll down on the lefthand side and click on \"Annotations\". Double-click on the \"Blast Hits\" that appears under annotations. Click on \"Solid\" and click on the \"x\" in the upper right to close the screen. This will show the blast hits in solid colors."
   ]
  },
  {
   "cell_type": "markdown",
   "metadata": {},
   "source": [
    "<div class=\"alert alert-block alert-info\"> <b>NOTE:</b> If you don't see both blue (CUP1) and green (YHR054C) genes then choose \"Query: All\" under \"Graph Search\"."
   ]
  },
  {
   "cell_type": "markdown",
   "metadata": {},
   "source": [
    "Your graph should look something like this:\n",
    "\n",
    "Blue = CUP1 genes  \n",
    "Green = YHR054C genes\n",
    "\n",
    "<figure>\n",
    "  <img\n",
    "    src=\"./Figures/cup1only.png\"\n",
    "    alt=\"Yeast CUP1 structure\" />\n",
    "  <figcaption><Yeast CUP1 Structure</figcaption>\n",
    "</figure>\n"
   ]
  },
  {
   "cell_type": "markdown",
   "metadata": {},
   "source": [
    "<div class=\"alert alert-block alert-info\"> <b>NOTE:</b> The graph layout algorithm does not lay out the graph the same each time so yours might look slightly different. "
   ]
  },
  {
   "cell_type": "markdown",
   "metadata": {},
   "source": [
    "----------------------\n",
    "\n",
    "## Paths\n",
    "\n",
    "Paths through the graph show how each of the assemblies goes through each of the segments or nodes. In other words, the SK1_chrVIII path would be the sequence of nodes that you traverse if you laid out SK1's chrVIII on the graph."
   ]
  },
  {
   "cell_type": "markdown",
   "metadata": {},
   "source": [
    "<div class=\"alert alert-block alert-info\"> <b>NOTE:</b> There might be some theoretical paths through the graph that no assembly actually takes. In addition, not all nodes will be traversed by all paths."
   ]
  },
  {
   "cell_type": "markdown",
   "metadata": {},
   "source": [
    "1. Look at the SK1 path through the CUP1 region of the graph. On the righthand side under \"Find paths\", in the name box, start typing \"SK1_chrVIII\" (it should pop up as you type and you can choose it).\n",
    "\n",
    "2. Click on \"Find Path\" and dismiss the \"Nodes not found\" dialog that pops up (\"x\" in the upper right of the dialog box). The nodes not found are the nodes in the SK1 genome assembly path that are not in our view.\n",
    "\n",
    "3. Click on \"recolor\" and then \"set colour\" and choose a color. This will color any nodes this genome goes through, though the coloring will be underneath the BLAST hit colors. It will also change the color under \"Graph Display\" to \"Custom Colours.\""
   ]
  },
  {
   "cell_type": "markdown",
   "metadata": {},
   "source": [
    "<div class=\"alert alert-block alert-info\"> <b>NOTE:</b> You can toggle the gene BLAST hit colors on and off by double-clicking on \"BLAST hits\" under \"Annotation\" to see the paths more clearly (if BLAST hits are off) or to see the genes in relation to the BLAST hits (if BLAST hits are on). You can also drag the nodes around to further explore the graph."
   ]
  },
  {
   "cell_type": "markdown",
   "metadata": {},
   "source": [
    "4. See if you can figure out how to trace the highlighted path through the graph. To help, you can have Bandage show the node labels (`Node labels: Name` on the lefthand panel) and compare them to the paths from the GFA file (see more information in the video linked below).\n",
    "\n",
    "Example: Extract the S288C subpath for the CUP1 region out of the GFA file. Based on the Bandage visualization with node labels on, the relevant nodes range from ~7200-7700. We will use `grep` to get the S288C_chrVIII path line, `sed` to introduce hard returns so that each node is on its own line, and then `awk` to get the relevant node numbers. We will redirect the output into a file called *S288C_CUP1_subpath.txt*. Then take a look at the file using `head`."
   ]
  },
  {
   "cell_type": "code",
   "execution_count": null,
   "metadata": {},
   "outputs": [],
   "source": [
    "!grep \"^P.S288C_chrVIII\" graphs/yprp.chrVIII.pggb.gfa | sed 's/+,/\\n/g' | awk '$1>=7200 && $1 <=7800{print}' > graphs/S288C_CUP1_subpath.txt\n",
    "\n",
    "!head graphs/S288C_CUP1_subpath.txt"
   ]
  },
  {
   "cell_type": "markdown",
   "metadata": {},
   "source": [
    "5. When you are done, set the color under \"Graph Display\" to \"Gray Color\" to remove the path."
   ]
  },
  {
   "cell_type": "markdown",
   "metadata": {},
   "source": [
    "<div class=\"alert alert-block alert-success\"> <b>Try this in Bandage:</b>  \n",
    "    <ul>\n",
    "        <li>Identify the Y12_chrVIII path and count how many CUP1 genes there are.</li>\n",
    "        <li>Identify the S288C_chrVIII path and count how many CUP1 genes there are.</li>\n",
    "    </ul>"
   ]
  },
  {
   "cell_type": "markdown",
   "metadata": {},
   "source": [
    "### Quiz\n",
    "\n",
    "Run the code below to take the quiz."
   ]
  },
  {
   "cell_type": "code",
   "execution_count": null,
   "metadata": {},
   "outputs": [],
   "source": [
    "#Display quiz as html\n",
    "#Instructions for creating quiz .json files and converting to html provided in the links below\n",
    "from IPython.display import IFrame\n",
    "IFrame('../html/quiz_cup1.html', width=800, height=400)"
   ]
  },
  {
   "cell_type": "markdown",
   "metadata": {},
   "source": [
    "Your graphs of the CUP1 region with the paths highlighted should look similar to those below, though the way it is layed out might look slightly different. Take a look at the video for more information about how to follow the three paths through the CUP1 region.\n",
    "\n",
    "Blue = CUP1 genes  \n",
    "Green = YHR054C genes\n",
    "\n",
    "\n",
    "SK1 path = light blue\n",
    "\n",
    "<figure>\n",
    "  <img\n",
    "    src=\"./Figures/SK1.png\"\n",
    "    alt=\"SK1 CUP1 structure\" />\n",
    "  <figcaption><SK1 CUP1 Path</figcaption>\n",
    "</figure>\n",
    "\n",
    "\n",
    "Y12 path = yellow\n",
    "\n",
    "<figure>\n",
    "  <img\n",
    "    src=\"./Figures/Y12.png\"\n",
    "    alt=\"Y12 CUP1 structure\" />\n",
    "  <figcaption><Y12 CUP1 Path</figcaption>\n",
    "</figure>\n",
    "\n",
    "\n",
    "S288C path = pink\n",
    "\n",
    "<figure>\n",
    "  <img\n",
    "    src=\"./Figures/S288C.png\"\n",
    "    alt=\"S288C CUP1 structure\" />\n",
    "  <figcaption><S288C CUP1 Path</figcaption>\n",
    "</figure>\n"
   ]
  },
  {
   "cell_type": "markdown",
   "metadata": {},
   "source": [
    "And here is the published figure that you saw in the previous chapter. The number of CUP1 genes and YHR054C genes we found in our graph match those in the figures (see video for more details)."
   ]
  },
  {
   "cell_type": "markdown",
   "metadata": {},
   "source": [
    "<figure>\n",
    "  <img\n",
    "    src=\"./Figures/StructuralRearrangements.png\"\n",
    "    alt=\"Yeast CUP1 structure\" />\n",
    "  <figcaption><a href=\"https://yjx1217.github.io/Yeast_PacBio_2016/welcome/\">https://yjx1217.github.io/Yeast_PacBio_2016/welcome/</a></figcaption>\n",
    "</figure>\n"
   ]
  },
  {
   "cell_type": "markdown",
   "metadata": {},
   "source": [
    "<div class=\"alert alert-block alert-info\"> <b>NOTE:</b> Some of the genes are labelled in the figure above as pseudogenes or partial genes, which is hard to tell from our graphs."
   ]
  },
  {
   "cell_type": "markdown",
   "metadata": {},
   "source": [
    "----------------------\n",
    "\n",
    "## Conclusion\n",
    "You have learned how to visualize a pangenomic graph, find genes using BLAST, and interact with the graph structures.\n",
    "\n",
    "In the next submodule, you will learn how to index graphs to get them ready for downstream analyses.\n",
    "\n",
    "----------------------"
   ]
  },
  {
   "cell_type": "markdown",
   "metadata": {},
   "source": [
    "## Clean up\n",
    "\n",
    "<div class=\"alert alert-warning\">No cleanup is necessary for this submodule. Don't forget to shutdown your Workbench when you are done working through this module!.</div>"
   ]
  }
 ],
 "metadata": {
  "kernelspec": {
   "display_name": "nigms-pangenomics",
   "language": "python",
   "name": "conda-env-nigms-pangenomics-nigms-pangenomics"
  },
  "language_info": {
   "codemirror_mode": {
    "name": "ipython",
    "version": 3
   },
   "file_extension": ".py",
   "mimetype": "text/x-python",
   "name": "python",
   "nbconvert_exporter": "python",
   "pygments_lexer": "ipython3",
   "version": "3.12.9"
  }
 },
 "nbformat": 4,
 "nbformat_minor": 4
}
