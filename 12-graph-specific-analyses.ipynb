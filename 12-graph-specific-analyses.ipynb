{
 "cells": [
  {
   "cell_type": "markdown",
   "id": "2545e637",
   "metadata": {},
   "source": [
    "# Graph-specific Analyses\n",
    "\n",
    "![Analysis](./Figures/GraphSpecific.png){width=50%} \n",
    "\n",
    "## Frequented Region (FR) Algorithm\n",
    "\n",
    "Identify regions in a graph that are co-visited by a set of supporting\n",
    "paths from individual sequences in the pangenome.\n",
    "\n",
    "![FR](./Figures/FRAlg.png){width=80%} "
   ]
  },
  {
   "cell_type": "markdown",
   "id": "42b56940",
   "metadata": {},
   "source": [
    "1. Similar evolutionary histories\n",
    "2. Similar selection pressures\n",
    "\n",
    "3. Heuristic but scalable\n",
    "4. Node merging with noise tolerance\n",
    "    + Error\n",
    "    + Divergence\n",
    "5. Nucleotide level\n",
    "\n",
    "### A few of the parameters\n",
    "\n",
    "1. penetrance (𝛼)\n",
    "minimum fraction of nodes\n",
    "2. the maximum insertion parameter (κ)\n",
    "maximum number of inserted nodes\n",
    "\n",
    "## Yeast Insertion for Alcohol Tolerance\n",
    "\n",
    "### 17kb insertion on chromosome XIV\n",
    "\n",
    "![Alcohol Tolerance Insertion](./Figures/etohTolerance.png){width=100%} \n",
    "\n",
    "### 17kb insertion across all 55 strains\n",
    "\n",
    "+ 9 of 20 additional alcohol related strains share EC1118’s inserted FRs. \n",
    "+ Strains sharing four or more FRs are highlighted.\n",
    "+ 5 genes inserted"
   ]
  },
  {
   "cell_type": "markdown",
   "id": "c9bb5f36",
   "metadata": {},
   "source": [
    "![Insertion](./Figures/Insertion.png){width=100%} \n",
    "\n",
    "## SARS-CoV-2\n",
    "\n",
    "+ Identify conserved genomic regions\n",
    "    + Vaccine and treatment targets\n",
    "\n",
    "+ Identify genomic shifts over time and geographic space\n",
    "    + Mutations affecting spread and virulence\n",
    "\n",
    "+ Identify genomic regions that differentiate strains\n",
    "    + Implications in modelling and treatment\n",
    " \n",
    "![Virus Cartoon](./Figures/Virus.png){width=20%}\n",
    "\n",
    "## Genomic shifts across time and space\n",
    "\n",
    "733 SARS-CoV-2 genomes from the beginning of the pandemic through April\n",
    "\n",
    "Highlight\n",
    "\n",
    "+ Early strains:\n",
    "    + (Wuhan, 12/30/2019)\n",
    "    + (Italy, 4/27/2020)\n",
    "    \n",
    "+ **Spike protein**\n",
    "    + Engages the human ACE2 cell receptor to gain entry into the host cell. Target for vaccines, template for antibody production, and candidate for generating entry inhibitors.\n",
    "    \n",
    "### Wuhan & Italy compared to 733 strain support\n",
    "\n",
    "Spike protein conserved, especially end Genomic shift\n",
    "\n",
    "![Shift](./Figures/Shift.png){width=100%}\n",
    "\n",
    "![Path Support](./Figures/PathSupport.png){width=100%}\n",
    "\n",
    "### D614G mutation\n",
    "\n",
    "A mutation seen in Europe in February that spread across the globe to become the dominant strain. Preliminary analyses suggest it might increase contagion and/or virulence and that strains people with immunity to the original strain might not be immune to the mutated strain. The figure shows the region has undergone genomic shift and isn’t conserved in all the genomes.\n",
    "\n",
    "![D614G](./Figures/D614G.png){width=100%}\n",
    "\n",
    "### Conserved haplotype blocks and selection coefficients\n",
    "\n",
    "##### Soft and incomplete selective sweeps{-}\n",
    "\n",
    "![Haplotype Blocks](./Figures/haplotype.png){width=80%}\n"
   ]
  },
  {
   "cell_type": "markdown",
   "id": "2565aadc",
   "metadata": {},
   "source": [
    "![ORF1a](./Figures/Orf1a.png){width=100%}\n",
    "\n",
    "## Medicago truncatula\n",
    "\n",
    "![M. truncatula](./Figures/Medicago.png){width=50%}\n",
    "\n",
    "+ Model legume\n",
    "+ 450 Mb genome\n",
    "+ Selfing\n",
    "+ Whole genome duplications\n",
    "+ High level of rearrangements and gene family expansions\n",
    "\n",
    "### Medicago Pan-13 genome size curve\n",
    "\n",
    "![M. truncatula genome](./Figures/Medicago2.png){width=100%}\n",
    "\n",
    "+ Zhou, P., Silverstein, K.A., Ramaraj, T., Guhlin, J., Denny, R., Liu,\n",
    "J., Farmer, A.D., Steele, K.P., Stupar, R.M. & Miller, J.R. Exploring\n",
    "structural variation and gene family architecture with De Novo\n",
    "assemblies of 15 Medicago genomes. BMC genomics 18, 261 (2017).\n",
    "\n",
    "### Medicago Pan-13 *proteome* size curve\n",
    "\n",
    "![M. truncatula proteome](./Figures/MedicagoProteome.png){width=100%}\n",
    "\n",
    "### Medicago HapMap Summary\n",
    "\n",
    "1. As much as 22% of the genome is involved in large structural changes;\n",
    "2. Medicago 13 pangenome expands reference space by 16% (63 Mbp);\n",
    "3. Pangenome analysis revealed that 42% (180 Mbp) of genomic sequences are missing in one or more assemblies, while pan-proteome analysis identified 67% (50,700) of all ortholog groups as dispensable;\n",
    "4. Environmentally Sensitive Gene Families found to be enriched in the accession-specific gene pool.\n",
    "\n",
    "### Medicago: 23 accessions for de novo assembly \n",
    "\n",
    "1. 15 genomes from 3 phylogenetic hubs (incl. A17)\n",
    "2. 6 genomes from RIL parents\n",
    "3. 3 “random” genomes\n",
    "\n",
    "![Accessions](./Figures/Accessions.png){width=60%}\n",
    "\n",
    "### Medicago: LEED..PEED (LP) family\n",
    "\n",
    "1. Short secreted peptides\n",
    "2. Transcribed in nitrogen-fixing nodules but absent from other plant tissues\n",
    "3. Not found in other sequenced legumes\n",
    "4. M. truncatula A17 (reference)\n",
    "    + 12 LP genes on chromosome 7\n",
    "    + 1 LP gene on chromosome 4\n",
    "    \n",
    "+ leucine:glutamic acid:glutamic acid:aspartic acid\n",
    "+ proline:glutamic acid:glutamic acid:aspartic acid\n",
    "\n",
    "Genomic Characterization of the LEED..PEEDs, a Gene Family Unique to the Medicago Lineage\n",
    "Diana I. Trujillo, Kevin A. T. Silverstein and Nevin D. Young \n",
    "G3: GENES, GENOMES, GENETICS October 1, 2014 vol. 4 no. 10 2003-2012; https://doi.org/10.1534/g3.114.011874\n",
    "\n",
    "#### LEED..PEED{-}\n",
    "\n",
    "![LEED..PEED](./Figures/LeedPeed.png){width=100%}\n",
    "\n",
    "### *Medicago truncatula*\n",
    "\n",
    "1. Horizontal gene transfer among symbionts and between symbionts and plants\n",
    "\n",
    "2. Nodule specific gene families\n",
    "\n",
    "3. Expansion of plant gene families\n",
    "\n",
    "## Using Machine Learning to Connect Genotype to Phenotype\n",
    "\n",
    "![Predicting Phenotype](./Figures/GWAS.png){width=100%}\n",
    "\n",
    "### Yeast\n",
    "\n",
    "1. FR matrix as features\n",
    "2. Random Forest\n",
    "3. Predict Phenotypes\n",
    "\n",
    "### Yeast Root Mean Square Error (RMSE)\n",
    "\n",
    "![RMSE](./Figures/RMSE.png){width=100%}\n",
    "\n",
    "![RMSE](./Figures/RMSE2.png){width=100%}\n",
    "\n",
    "![Predicted Phenotype](./Figures/Phenotype.png){width=100%}"
   ]
  },
  {
   "cell_type": "markdown",
   "id": "d4af5206",
   "metadata": {},
   "source": [
    "## VG and Machine Learning\n",
    "\n",
    "### vg vectorize (xg graph or gcsa)\n",
    "\n",
    "![Predicted Phenotype](./Figures/Vectorize1.png){width=100%}\n",
    "\n",
    "![Predicted Phenotype](./Figures/Vectorize2.png){width=100%}\n"
   ]
  },
  {
   "cell_type": "markdown",
   "id": "52125c6c",
   "metadata": {},
   "source": [
    "## Running FindFRs3\n",
    "\n",
    "Let's look for frequented regions in the cuttlefish graphs. Note that FindFRs3 is a heuristic algorithm, which means that results can vary slightly from run to run. You're FR numbers might look a bit different than mine.\n",
    "\n",
    "This version is more efficient and uses reduced-GFA format. It also will look for alternate paths in the same part of the graph.\n",
    "\n",
    "We'll use the cuttlefish reduced-GFA graphs. Note that you need to use the same kmer size in FindFRs3 that you used in cuttlefish.\n",
    "\n",
    "Go into your cuttlefish directory (if you aren't already there)"
   ]
  },
  {
   "cell_type": "code",
   "execution_count": null,
   "id": "4e9fbe0b",
   "metadata": {
    "eval": false
   },
   "outputs": [],
   "source": [
    "cd ~/cuttlefish"
   ]
  },
  {
   "cell_type": "markdown",
   "id": "ed92525d",
   "metadata": {},
   "source": [
    "Let's get usage."
   ]
  },
  {
   "cell_type": "code",
   "execution_count": null,
   "id": "1a332135",
   "metadata": {
    "eval": false
   },
   "outputs": [],
   "source": [
    "java -jar /opt/FindFRs3.jar"
   ]
  },
  {
   "cell_type": "markdown",
   "id": "de1aec94",
   "metadata": {},
   "source": [
    "Missing required options: n, p, b, a, k, m  \n",
    "usage: FindFRs3  \n",
    " -a,--alpha <arg>    alpha parameter  \n",
    " -b,--bed <arg>      BED output file  \n",
    " -k,--kmer <arg>     k-mer size  \n",
    " -ka,--kappa <arg>   kappa parameter (default = 0)  \n",
    " -l,--minlen <arg>   min avg support length parameter (bp)  \n",
    " -m,--minsup <arg>   min support parameter  \n",
    " -n,--seg <arg>      GFA3 seg file  \n",
    " -p,--seq <arg>      GFA3 seq file  \n",
    "\n",
    "Run FindFRs3 on the cuttlefish graph (~15min)"
   ]
  },
  {
   "cell_type": "code",
   "execution_count": null,
   "id": "b669e3fd",
   "metadata": {
    "eval": false
   },
   "outputs": [],
   "source": [
    "java -Xmx26g -jar /opt/FindFRs3.jar -a 0.7 -k 63 -ka 10 -m 2 -l 100 -b 12genomes.k63.a70.ka10.m2.l100.bed -n 12genomes.k63.f3.cf_seg -p 12genomes.k63.f3.cf_seq"
   ]
  },
  {
   "cell_type": "markdown",
   "id": "be2ad1d3",
   "metadata": {},
   "source": [
    "Take a look at the output files (note that yours might be a little different):  \n",
    "BED file (connects fr nodes to input assemblies)  \n",
    "fr nodes  \n",
    "fr variant paths"
   ]
  },
  {
   "cell_type": "code",
   "execution_count": null,
   "id": "a0b8b473",
   "metadata": {
    "eval": false,
    "lines_to_next_cell": 2
   },
   "outputs": [],
   "source": [
    "head 12genomes.k63.a70.ka10.m2.l100.bed\n",
    "head 12genomes.k63.a70.ka10.m2.l100.bed.frs\n",
    "head 12genomes.k63.a70.ka10.m2.l100.bed.frv"
   ]
  },
  {
   "cell_type": "markdown",
   "id": "22de4479",
   "metadata": {},
   "source": [
    "How many segments are there in the cuttlefish GFA? [Hint: count the lines in 12genomes.k63.f3.cf_seg]\n",
    "\n",
    "How many frs are there? [Hint: count the lines in 12genomes.k63.f3.cf_seq.bed.frs]\n",
    "\n",
    "Haw many paths through those frs are there? [Hint: count the lines in 12genomes.k63.f3.cf_seq.bed.frv]\n",
    "\n",
    "## CUP1 region"
   ]
  },
  {
   "cell_type": "markdown",
   "id": "312e8a3e",
   "metadata": {},
   "source": [
    "![Structural Rearrangement](./Figures/StructuralRearrangements.png){width=100%}\n",
    " \n",
    "Find the region in the graph based on its S288C coordinates  \n",
    "\n",
    "Let's pull out S288C chrVIII and sort by position so we can look for the S288C path through the CUP1 region:  \n",
    "S288C.chrVIII:213045-233214\n"
   ]
  },
  {
   "cell_type": "code",
   "execution_count": null,
   "id": "1e3b113f",
   "metadata": {
    "eval": false
   },
   "outputs": [],
   "source": [
    "grep S288C.chrVIII 12genomes.k63.a70.ka10.m2.l100.bed|sort -nk2"
   ]
  },
  {
   "cell_type": "markdown",
   "id": "e1d4ff54",
   "metadata": {},
   "source": [
    "<!--\n",
    "S288C.chrVIII\t209011\t209136\tfr18473:0\n",
    "S288C.chrVIII\t213728\t215320\tfr7:0\n",
    "S288C.chrVIII\t215726\t217318\tfr7:0\n",
    "S288C.chrVIII\t217724\t219317\tfr7:1\n",
    "S288C.chrVIII\t219723\t221314\tfr7:3\n",
    "S288C.chrVIII\t221952\t223316\tfr7:4\n",
    "S288C.chrVIII\t223722\t225243\tfr7:2\n",
    "S288C.chrVIII\t225720\t227312\tfr7:0\n",
    "S288C.chrVIII\t227718\t229310\tfr7:0\n",
    "S288C.chrVIII\t229716\t231308\tfr7:0\n",
    "S288C.chrVIII\t231714\t233307\tfr7:1\n",
    "S288C.chrVIII\t242374\t242442\tfr708:0\n",
    "-->"
   ]
  },
  {
   "cell_type": "markdown",
   "id": "2c2f2046",
   "metadata": {},
   "source": [
    "What are the flanking frs (reminder, yours might be different)?\n",
    "\n",
    "<!--fr18473:0 and fr708:0-->\n",
    "\n",
    "Let's find the segments in the S288C paths for these flanking frs."
   ]
  },
  {
   "cell_type": "code",
   "execution_count": null,
   "id": "8fcd40af",
   "metadata": {
    "eval": false
   },
   "outputs": [],
   "source": [
    "grep -E \"fr18473:0|fr708:0\" 12genomes.k63.a70.ka10.m2.l100.bed.frv"
   ]
  },
  {
   "cell_type": "markdown",
   "id": "28baace0",
   "metadata": {},
   "source": [
    "<!--\n",
    "fr708:0\t 57988274-\n",
    "fr18473:0\t 4582018-\n",
    "-->\n",
    "\n",
    "Now find the S288C segments that span the region between the flanking frs.\n",
    "\n",
    "The cf_seq file has the full paths for each of the chromosomes. Let's look at S288C.chrVIII."
   ]
  },
  {
   "cell_type": "code",
   "execution_count": null,
   "id": "bdae6bc5",
   "metadata": {
    "eval": false
   },
   "outputs": [],
   "source": [
    "grep S288C.chrVIII 12genomes.k63.f3.cf_seq"
   ]
  },
  {
   "cell_type": "markdown",
   "id": "e5bf0c81",
   "metadata": {},
   "source": [
    "Let's get each of the fields on their own line."
   ]
  },
  {
   "cell_type": "code",
   "execution_count": null,
   "id": "37889083",
   "metadata": {
    "eval": false
   },
   "outputs": [],
   "source": [
    "grep S288C.chrVIII 12genomes.k63.f3.cf_seq | sed 's/\\s\\+/\\n/g' > S288C.chrVIII.segs.txt\n",
    "head S288C.chrVIII.segs.txt"
   ]
  },
  {
   "cell_type": "markdown",
   "id": "258f1920",
   "metadata": {},
   "source": [
    "Now grab all the segments in the S288C path between and including your flanking segments. You could do this manually by searching for one then scrolling to the other but let's work on our unix skills.\n",
    "\n",
    "First, find which row each segment is on in the S288C.chrVIII.segs.txt file."
   ]
  },
  {
   "cell_type": "code",
   "execution_count": null,
   "id": "8c235458",
   "metadata": {
    "eval": false
   },
   "outputs": [],
   "source": [
    "grep -n 57988274 S288C.chrVIII.segs.txt\n",
    "grep -n 4582018 S288C.chrVIII.segs.txt"
   ]
  },
  {
   "cell_type": "markdown",
   "id": "2b3b25aa",
   "metadata": {},
   "source": [
    "<!--\n",
    "6510:57988274-\n",
    "5636:4582018-\n",
    "-->\n",
    "\n",
    "Now, we'll remove lines after those we want, then remove lines before those we want. We'll also remove the + and - signs at the end of each segment."
   ]
  },
  {
   "cell_type": "code",
   "execution_count": null,
   "id": "ad8237bf",
   "metadata": {
    "eval": false
   },
   "outputs": [],
   "source": [
    "head -6510 S288C.chrVIII.segs.txt | tail -n +5636 | sed 's/[+-]//' > S288C.segs.txt"
   ]
  },
  {
   "cell_type": "markdown",
   "id": "c2f1c227",
   "metadata": {},
   "source": [
    "<!--includes the flanking frs-->\n",
    "\n",
    "We can use gfatools view to pull out the gfa for these segments. Before we fed in only one segment but you can also feed in a file of segments. Check out the usage to figure out how."
   ]
  },
  {
   "cell_type": "code",
   "execution_count": null,
   "id": "51ddfecb",
   "metadata": {
    "eval": false
   },
   "outputs": [],
   "source": [
    "gfatools view"
   ]
  },
  {
   "cell_type": "markdown",
   "id": "8c1476b1",
   "metadata": {},
   "source": [
    "Usage: gfatools view [options] <in.gfa>  \n",
    "Options:  \n",
    "  -v INT        verbose level [2]  \n",
    "  -l STR/@FILE  segment list to subset []  \n",
    "  -R STR        a region like chr1:101-200 (a 1-based closed region) []  \n",
    "  -r INT        subset radius (effective with -l) [0]  \n",
    "  -d            delete the list of segments (requiring -l; ignoring -r)  \n",
    "  -M            remove multiple edges  \n",
    "  -S            don't print sequences  "
   ]
  },
  {
   "cell_type": "markdown",
   "id": "a0467e36",
   "metadata": {},
   "source": [
    "We'll pull the S288C segments out of the cuttlefish GFA1 file."
   ]
  },
  {
   "cell_type": "code",
   "execution_count": null,
   "id": "058270bb",
   "metadata": {
    "eval": false
   },
   "outputs": [],
   "source": [
    "gfatools view -l @S288C.segs.txt -r 0 12genomes.k63.f1.gfa1 > S288C.0.segs.gfa"
   ]
  },
  {
   "cell_type": "markdown",
   "id": "e57b71fc",
   "metadata": {},
   "source": [
    "View it in bandage and blast the CUP1 and YHR054C genes against it.\n",
    "\n",
    "![Structural Rearrangement](./Figures/S288C.cup1.0.segs.png){width=100%}"
   ]
  },
  {
   "cell_type": "markdown",
   "id": "a995ebb8",
   "metadata": {},
   "source": [
    "Now let's expand the graph so that we capture some nearby paths from other yeast strains."
   ]
  },
  {
   "cell_type": "code",
   "execution_count": null,
   "id": "69475186",
   "metadata": {
    "eval": false
   },
   "outputs": [],
   "source": [
    "gfatools view -l @S288C.segs.txt -r 10 12genomes.k63.f1.gfa1 > S288C.10.segs.gfa"
   ]
  },
  {
   "cell_type": "markdown",
   "id": "6f0a8bd1",
   "metadata": {},
   "source": [
    "View it in bandage and blast the CUP1 and YHR054C genes.\n",
    "\n",
    "![Structural Rearrangement](./Figures/S288C.cup1.10.segs.png){width=100%}\n",
    "Zoomed in.\n",
    "\n",
    "![Structural Rearrangement](./Figures/S288C.cup1.10.segs.zoom.png){width=100%}\n",
    "\n"
   ]
  }
 ],
 "metadata": {
  "jupytext": {
   "cell_metadata_filter": "eval,-all",
   "main_language": "bash",
   "notebook_metadata_filter": "-all"
  }
 },
 "nbformat": 4,
 "nbformat_minor": 5
}
