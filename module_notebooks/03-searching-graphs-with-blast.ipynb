{
 "cells": [
  {
   "cell_type": "markdown",
   "metadata": {},
   "source": [
    "# Pangenomics\n",
    "--------------------------------------------"
   ]
  },
  {
   "cell_type": "markdown",
   "metadata": {},
   "source": [
    "# Searching Graphs with BLAST"
   ]
  },
  {
   "cell_type": "markdown",
   "metadata": {},
   "source": [
    "\n",
    "## Overview\n",
    "In this submodule you will learn how to search graphs with BLAST. In other words, you can use a DNA sequence, such as your favorite gene, to search the pangenomic graph, discover the structure of the graph, and explore homologous sequences."
   ]
  },
  {
   "cell_type": "markdown",
   "metadata": {},
   "source": [
    "## Learning Objectives\n",
    "+ Use BLAST to search a pangenome graph"
   ]
  },
  {
   "cell_type": "markdown",
   "metadata": {},
   "source": [
    "## Getting Started\n",
    "\n",
    "In this submodule you will extract some yeast (S288C) gene sequences for CUP1 and YHR054C and learn how to use them to search pangenomic graphs.\n",
    "\n",
    "#### Extract gene sequences:\n",
    "     - CUP1\n",
    "     - YHR054C\n",
    "\n",
    "#### BLAST \n",
    "     - Short BLAST intro\n",
    "     - BLAST graph\n",
    "\n",
    "----------------------\n",
    "\n",
    "## Get the CUP1 and YHR054C gene sequences\n",
    "\n",
    "We will blast the CUP1 (YHR053C) and YHR054C gene sequences against a linearized version of the graph but first we need to extract the gene sequences from S288C. There are multiple copies of each but we'll grab the first instance and use it to identify all copies through BLAST alignment.\n",
    "\n",
    "\n",
    "<div class=\"alert alert-block alert-success\"> <b>Gene Coordinates:</b><br>  \n",
    "    CUP1 S288C_chrVIII:213043-213228<br>\n",
    "    YHR054C S288C_chrVIII:213693-214757<br>\n",
    "    Both are on the \"-\" strand.</a> </div>  \n",
    "    <ul>\n",
    "      "
   ]
  },
  {
   "cell_type": "markdown",
   "metadata": {},
   "source": [
    "1. To extract the sequences, use `samtools faidx` and feed in the coordinates. We'll get the CUP1 sequence first and redirect it into a file in the *genes* directory called *genes.fa*. Then we'll extract the YHR054C gene and append it to the same file.\n",
    "\n",
    "The parameters:\n",
    "\n",
    "`-i`  reverse-complement  \n",
    "`input fasta`:`region coordinates`"
   ]
  },
  {
   "cell_type": "code",
   "execution_count": 1,
   "metadata": {},
   "outputs": [],
   "source": [
    "!samtools faidx -i assemblies/yprp.chrVIII.fa S288C_chrVIII:213043-213228 > genes/genes.fa\n",
    "\n",
    "!samtools faidx -i assemblies/yprp.chrVIII.fa S288C_chrVIII:213693-214757 >> genes/genes.fa"
   ]
  },
  {
   "cell_type": "markdown",
   "metadata": {},
   "source": [
    "2. Take a look at the file you just made."
   ]
  },
  {
   "cell_type": "code",
   "execution_count": 2,
   "metadata": {},
   "outputs": [
    {
     "name": "stdout",
     "output_type": "stream",
     "text": [
      ">S288C_chrVIII:213043-213228/rc\n",
      "ATGTTCAGCGAATTAATTAACTTCCAAAATGAAGGTCATGAGTGCCAATG\n",
      "CCAATGTGGTAGCTGCAAAAATAATGAACAATGCCAAAAATCATGTAGCT\n",
      "GCCCAACGGGGTGTAACAGCGACGACAAATGCCCCTGCGGTAACAAGTCT\n",
      "GAAGAAACCAAGAAGTCATGCTGCTCTGGGAAATGA\n",
      ">S288C_chrVIII:213693-214757/rc\n",
      "ATGGTACCCGCTGCTGAAAACCTATCTCCGATACCTGCCTCTATTGATAC\n",
      "GAACGACATTCCTTTAATTGCTAACGATTTAAAATTACTGGAAACGCAAG\n",
      "CAAAATTGATAAATATTCTGCAAGGTGTTCCTTTCTACTTGCCAGTAAAT\n",
      "TTAACCAAAATTGAAAGTCTGTTAGAAACCTTGACTATGGGCGTGAGTAA\n",
      "TACAGTAGACTTATATTTTCATGACAACGAAGTCAGAAAAGAATGGAAAG\n",
      "ACACTTTAAATTTTATCAATACCATTGTTTATACAAATTTTTTCCTTTTT\n",
      "GTTCAAAACGAATCCTCTTTGTCCATGGCAGTTCAACATTCTTCTAACAA\n",
      "CAATAAGACCTCGAACTCTGAAAGATGTGCAAAGGATCTGATGAAAATTA\n",
      "TTTCTAATATGCACATTTTTTACTCAATAACATTTAATTTTATCTTCCCC\n",
      "ATAAAGTCGATAAAGTCATTTTCAAGCGGCAATAATCGCTTTCATTCTAA\n",
      "TGGTAAAGAATTTTTATTCGCAAATCATTTTATTGAAATCTTACAGAATT\n",
      "TTATAGCAATCACATTTGCTATTTTCCAACGTTGTGAAGTAATATTATAT\n",
      "GACGAATTTTACAAAAATCTTTCAAATGAGGAGATTAATGTTCAATTGCT\n",
      "ATTGATTCATGACAAGATTTTGGAAATTTTAAAAAAAATAGAAATTATCG\n",
      "TATCCTTTTTACGAGATGAAATGAATAGCAACGGAAGTTTCAAATCTATT\n",
      "AAAGGTTTCAACAAGGTTTTGAATCTGATTAAATATATGCTGAGATTTAG\n",
      "CAAGAAAAAACAAAATTTTGCGAGAAACTCTGATAACAATAATGTTACAG\n",
      "ATTATAGTCAGTCGGCGAAGAACAAAAATGTTCTCTTGAAATTCCCCGTT\n",
      "AGTGAACTGAACAGAATCTATTTAAAATTTAAGGAGATTTCAGATTTTTT\n",
      "AATGGAAAGAGAAGTTGTCCAAAGGAGTATAATTATTGACAAGGATTTGG\n",
      "AATCTGATAATCTGGGTATTACTACGGCAAACTTCAACGATTTCTATGAT\n",
      "GCATTTTATAATTAG\n"
     ]
    }
   ],
   "source": [
    "!cat genes/genes.fa"
   ]
  },
  {
   "cell_type": "markdown",
   "metadata": {},
   "source": [
    "3. Let's rename the sequences so they have the gene names rather than coordinates. Use `sed`.\n",
    "\n",
    "The parameters:\n",
    "\n",
    "`-i` edit in place"
   ]
  },
  {
   "cell_type": "code",
   "execution_count": 3,
   "metadata": {},
   "outputs": [],
   "source": [
    "!sed -i 's/S288C_chrVIII:213043-213228.rc/CUP1/' genes/genes.fa\n",
    "\n",
    "!sed -i 's/S288C_chrVIII:213693-214757.rc/YHR054C/' genes/genes.fa"
   ]
  },
  {
   "cell_type": "markdown",
   "metadata": {},
   "source": [
    "4. Take a look at it again."
   ]
  },
  {
   "cell_type": "code",
   "execution_count": 4,
   "metadata": {},
   "outputs": [
    {
     "name": "stdout",
     "output_type": "stream",
     "text": [
      ">CUP1\n",
      "ATGTTCAGCGAATTAATTAACTTCCAAAATGAAGGTCATGAGTGCCAATG\n",
      "CCAATGTGGTAGCTGCAAAAATAATGAACAATGCCAAAAATCATGTAGCT\n",
      "GCCCAACGGGGTGTAACAGCGACGACAAATGCCCCTGCGGTAACAAGTCT\n",
      "GAAGAAACCAAGAAGTCATGCTGCTCTGGGAAATGA\n",
      ">YHR054C\n",
      "ATGGTACCCGCTGCTGAAAACCTATCTCCGATACCTGCCTCTATTGATAC\n",
      "GAACGACATTCCTTTAATTGCTAACGATTTAAAATTACTGGAAACGCAAG\n",
      "CAAAATTGATAAATATTCTGCAAGGTGTTCCTTTCTACTTGCCAGTAAAT\n",
      "TTAACCAAAATTGAAAGTCTGTTAGAAACCTTGACTATGGGCGTGAGTAA\n",
      "TACAGTAGACTTATATTTTCATGACAACGAAGTCAGAAAAGAATGGAAAG\n",
      "ACACTTTAAATTTTATCAATACCATTGTTTATACAAATTTTTTCCTTTTT\n",
      "GTTCAAAACGAATCCTCTTTGTCCATGGCAGTTCAACATTCTTCTAACAA\n",
      "CAATAAGACCTCGAACTCTGAAAGATGTGCAAAGGATCTGATGAAAATTA\n",
      "TTTCTAATATGCACATTTTTTACTCAATAACATTTAATTTTATCTTCCCC\n",
      "ATAAAGTCGATAAAGTCATTTTCAAGCGGCAATAATCGCTTTCATTCTAA\n",
      "TGGTAAAGAATTTTTATTCGCAAATCATTTTATTGAAATCTTACAGAATT\n",
      "TTATAGCAATCACATTTGCTATTTTCCAACGTTGTGAAGTAATATTATAT\n",
      "GACGAATTTTACAAAAATCTTTCAAATGAGGAGATTAATGTTCAATTGCT\n",
      "ATTGATTCATGACAAGATTTTGGAAATTTTAAAAAAAATAGAAATTATCG\n",
      "TATCCTTTTTACGAGATGAAATGAATAGCAACGGAAGTTTCAAATCTATT\n",
      "AAAGGTTTCAACAAGGTTTTGAATCTGATTAAATATATGCTGAGATTTAG\n",
      "CAAGAAAAAACAAAATTTTGCGAGAAACTCTGATAACAATAATGTTACAG\n",
      "ATTATAGTCAGTCGGCGAAGAACAAAAATGTTCTCTTGAAATTCCCCGTT\n",
      "AGTGAACTGAACAGAATCTATTTAAAATTTAAGGAGATTTCAGATTTTTT\n",
      "AATGGAAAGAGAAGTTGTCCAAAGGAGTATAATTATTGACAAGGATTTGG\n",
      "AATCTGATAATCTGGGTATTACTACGGCAAACTTCAACGATTTCTATGAT\n",
      "GCATTTTATAATTAG\n"
     ]
    }
   ],
   "source": [
    "!cat genes/genes.fa"
   ]
  },
  {
   "cell_type": "markdown",
   "metadata": {},
   "source": [
    "Note that the CUP1 gene is much shorter than the other gene."
   ]
  },
  {
   "cell_type": "markdown",
   "metadata": {},
   "source": [
    "----------------------\n",
    "\n",
    "## BLAST\n",
    "\n",
    "The Basic Local Alignment Search Tool (BLAST) tool allows you to compare DNA sequences in order to efficiently identify the best matches. Here we will use BLAST to search the DNA sequences in the pangenome for matches to two adjacent genes ([Altschul, Stephen F., et al. 1990](https://doi.org/10.1016/S0022-2836(05)80360-2)).\n",
    "\n",
    "\n",
    "### BLAST the graph manually\n",
    "\n",
    "1. Create a FASTA file containing the graph sequence.\n",
    "\n",
    "\n",
    "<div class=\"alert alert-block alert-info\"> <b>NOTE:</b> Because each node is exported as its own fasta sequence, some sequences are very short, including many that are only a single nucleotide long."
   ]
  },
  {
   "cell_type": "code",
   "execution_count": 5,
   "metadata": {},
   "outputs": [
    {
     "name": "stdout",
     "output_type": "stream",
     "text": [
      "[M::main] Version: 0.4-r214-dirty\n",
      "[M::main] CMD: gfatools gfa2fa graphs/yprp.chrVIII.pggb.gfa\n",
      "[M::main] Real time: 0.020 sec; CPU: 0.021 sec\n"
     ]
    }
   ],
   "source": [
    "!gfatools gfa2fa graphs/yprp.chrVIII.pggb.gfa > graphs/yprp.chrVIII.pggb.fa"
   ]
  },
  {
   "cell_type": "markdown",
   "metadata": {},
   "source": [
    "2. Build a BLAST database for the FASTA using `makeblastdb`.\n",
    "\n",
    "The parameters:\n",
    "\n",
    "`-in` fasta_file_from_graph&nbsp;&nbsp;&nbsp;the file to build a database for  \n",
    "`-input_type` fasta &nbsp;&nbsp;&nbsp;&nbsp;&nbsp;&nbsp;&nbsp;&nbsp;&nbsp;&nbsp;&nbsp;&nbsp;&nbsp;&nbsp;&nbsp;  the format of the input file (fasta)  \n",
    "`-dbtype` nucl  &nbsp;&nbsp;&nbsp;&nbsp;&nbsp;&nbsp;&nbsp;&nbsp;&nbsp;&nbsp;&nbsp;&nbsp;&nbsp;&nbsp;&nbsp;&nbsp;&nbsp;&nbsp;&nbsp;&nbsp;&nbsp;&nbsp;&nbsp; type of sequence (nucl=DNA)"
   ]
  },
  {
   "cell_type": "code",
   "execution_count": 6,
   "metadata": {},
   "outputs": [
    {
     "name": "stdout",
     "output_type": "stream",
     "text": [
      "\n",
      "\n",
      "Building a new DB, current time: 04/28/2025 21:33:30\n",
      "New DB name:   /home/jupyter/NIGMS-Sandbox-Pangenomics-Module/module_notebooks/graphs/yprp.chrVIII.pggb.fa\n",
      "New DB title:  graphs/yprp.chrVIII.pggb.fa\n",
      "Sequence type: Nucleotide\n",
      "Keep MBits: T\n",
      "Maximum file size: 3000000000B\n",
      "Adding sequences from FASTA; added 19252 sequences in 0.19645 seconds.\n",
      "\n",
      "\n"
     ]
    }
   ],
   "source": [
    "!makeblastdb -in graphs/yprp.chrVIII.pggb.fa -input_type fasta -dbtype nucl"
   ]
  },
  {
   "cell_type": "markdown",
   "metadata": {},
   "source": [
    "3. Now, BLAST the genes against the database you just made. Use tabular format.\n",
    "\n",
    "The parameters\n",
    "\n",
    "`-db`  database  \n",
    "`-query` query (the genes, in our case)  \n",
    "`-outfmt` output format (6=tab)"
   ]
  },
  {
   "cell_type": "code",
   "execution_count": 7,
   "metadata": {},
   "outputs": [],
   "source": [
    "!blastn -db graphs/yprp.chrVIII.pggb.fa -outfmt 6 -query genes/genes.fa > genes/genesXyprp.chrVIII.pggb.fa.txt"
   ]
  },
  {
   "cell_type": "markdown",
   "metadata": {},
   "source": [
    "The columns are:\n",
    "+ *qseqid*      query or source (gene) sequence id\n",
    "+ *sseqid*      subject or target (reference genome) sequence id\n",
    "+ *pident*      percentage of identical positions\n",
    "+ *length*      alignment length (sequence overlap)\n",
    "+ *mismatch*    number of mismatches\n",
    "+ *gapopen*     number of gap openings\n",
    "+ *qstart*      start of alignment in query\n",
    "+ *qend*        end of alignment in query\n",
    "+ *sstart*      start of alignment in subject\n",
    "+ *send*        end of alignment in subject\n",
    "+ *evalue*      expect value (the number of equally good or better alignments expected by chance)\n",
    "+ *bitscore*    bit score"
   ]
  },
  {
   "cell_type": "markdown",
   "metadata": {},
   "source": [
    "4. Take a look at the BLAST output."
   ]
  },
  {
   "cell_type": "code",
   "execution_count": 8,
   "metadata": {},
   "outputs": [
    {
     "name": "stdout",
     "output_type": "stream",
     "text": [
      "CUP1\t7899\t100.000\t186\t0\t0\t1\t186\t456\t271\t9.20e-97\t344\n",
      "CUP1\t7715\t100.000\t186\t0\t0\t1\t186\t1524\t1339\t9.20e-97\t344\n",
      "CUP1\t7715\t100.000\t186\t0\t0\t1\t186\t5523\t5338\t9.20e-97\t344\n",
      "CUP1\t7715\t100.000\t186\t0\t0\t1\t186\t7521\t7336\t9.20e-97\t344\n",
      "CUP1\t7715\t99.462\t186\t0\t1\t1\t186\t3521\t3337\t1.54e-94\t337\n",
      "CUP1\t7773\t99.457\t184\t1\t0\t1\t184\t1130\t947\t5.54e-94\t335\n",
      "CUP1\t7851\t100.000\t164\t0\t0\t1\t164\t164\t1\t1.56e-84\t303\n",
      "CUP1\t7790\t100.000\t164\t0\t0\t1\t164\t164\t1\t1.56e-84\t303\n",
      "CUP1\t7732\t100.000\t164\t0\t0\t1\t164\t164\t1\t1.56e-84\t303\n",
      "CUP1\t7698\t100.000\t164\t0\t0\t1\t164\t164\t1\t1.56e-84\t303\n",
      "CUP1\t7638\t100.000\t164\t0\t0\t1\t164\t164\t1\t1.56e-84\t303\n",
      "CUP1\t7602\t100.000\t134\t0\t0\t31\t164\t134\t1\t7.42e-68\t248\n",
      "CUP1\t7605\t100.000\t29\t0\t0\t1\t29\t29\t1\t1.74e-09\t54.7\n",
      "YHR054C\t7715\t100.000\t1065\t0\t0\t1\t1065\t3053\t1989\t0.0\t1967\n",
      "YHR054C\t7715\t100.000\t1065\t0\t0\t1\t1065\t7052\t5988\t0.0\t1967\n",
      "YHR054C\t7715\t100.000\t1065\t0\t0\t1\t1065\t9050\t7986\t0.0\t1967\n",
      "YHR054C\t7715\t99.626\t1069\t0\t4\t1\t1065\t5054\t3986\t0.0\t1949\n",
      "YHR054C\t7715\t100.000\t1054\t0\t0\t1\t1054\t1054\t1\t0.0\t1947\n",
      "YHR054C\t7899\t99.905\t1053\t1\t0\t13\t1065\t1973\t921\t0.0\t1940\n",
      "YHR054C\t7883\t100.000\t286\t0\t0\t428\t713\t286\t1\t1.27e-151\t529\n",
      "YHR054C\t7821\t100.000\t286\t0\t0\t428\t713\t286\t1\t1.27e-151\t529\n",
      "YHR054C\t7763\t100.000\t286\t0\t0\t428\t713\t286\t1\t1.27e-151\t529\n",
      "YHR054C\t7671\t100.000\t261\t0\t0\t428\t688\t261\t1\t1.01e-137\t483\n",
      "YHR054C\t7892\t100.000\t210\t0\t0\t126\t335\t210\t1\t2.26e-109\t388\n",
      "YHR054C\t7827\t100.000\t210\t0\t0\t126\t335\t210\t1\t2.26e-109\t388\n",
      "YHR054C\t7769\t100.000\t210\t0\t0\t126\t335\t210\t1\t2.26e-109\t388\n",
      "YHR054C\t7677\t100.000\t210\t0\t0\t126\t335\t210\t1\t2.26e-109\t388\n",
      "YHR054C\t7874\t100.000\t129\t0\t0\t838\t966\t129\t1\t2.40e-64\t239\n",
      "YHR054C\t7812\t100.000\t129\t0\t0\t838\t966\t129\t1\t2.40e-64\t239\n",
      "YHR054C\t7754\t100.000\t129\t0\t0\t838\t966\t129\t1\t2.40e-64\t239\n",
      "YHR054C\t7660\t100.000\t129\t0\t0\t838\t966\t129\t1\t2.40e-64\t239\n",
      "YHR054C\t7895\t100.000\t111\t0\t0\t14\t124\t111\t1\t2.44e-54\t206\n",
      "YHR054C\t7830\t100.000\t111\t0\t0\t14\t124\t111\t1\t2.44e-54\t206\n",
      "YHR054C\t7772\t100.000\t111\t0\t0\t14\t124\t111\t1\t2.44e-54\t206\n",
      "YHR054C\t7680\t100.000\t111\t0\t0\t14\t124\t111\t1\t2.44e-54\t206\n",
      "YHR054C\t7877\t100.000\t99\t0\t0\t738\t836\t99\t1\t1.14e-47\t183\n",
      "YHR054C\t7815\t100.000\t99\t0\t0\t738\t836\t99\t1\t1.14e-47\t183\n",
      "YHR054C\t7757\t100.000\t99\t0\t0\t738\t836\t99\t1\t1.14e-47\t183\n",
      "YHR054C\t7663\t100.000\t99\t0\t0\t738\t836\t99\t1\t1.14e-47\t183\n",
      "YHR054C\t7809\t100.000\t98\t0\t0\t968\t1065\t108\t11\t4.11e-47\t182\n",
      "YHR054C\t7751\t100.000\t98\t0\t0\t968\t1065\t108\t11\t4.11e-47\t182\n",
      "YHR054C\t7657\t100.000\t98\t0\t0\t968\t1065\t108\t11\t4.11e-47\t182\n",
      "YHR054C\t7824\t100.000\t90\t0\t0\t337\t426\t90\t1\t1.15e-42\t167\n",
      "YHR054C\t7766\t100.000\t90\t0\t0\t337\t426\t90\t1\t1.15e-42\t167\n",
      "YHR054C\t7674\t100.000\t90\t0\t0\t337\t426\t90\t1\t1.15e-42\t167\n",
      "YHR054C\t7871\t100.000\t87\t0\t0\t968\t1054\t87\t1\t5.35e-41\t161\n",
      "YHR054C\t7886\t100.000\t75\t0\t0\t352\t426\t75\t1\t2.51e-34\t139\n"
     ]
    }
   ],
   "source": [
    "!cat genes/genesXyprp.chrVIII.pggb.fa.txt"
   ]
  },
  {
   "cell_type": "markdown",
   "metadata": {},
   "source": [
    "The CUP1 lines with the header added are below for convience."
   ]
  },
  {
   "cell_type": "markdown",
   "metadata": {},
   "source": [
    "| qseqid | sseqid | pident  | length | mismatch | gapopen | qstart | qend | sstart | send | evalue   | bitscore |\n",
    "|--------|--------|---------|--------|----------|---------|--------|------|--------|------|----------|----------|\n",
    "| CUP1   | 7641   | 100.000 | 186    | 0        | 0       | 1      | 186  | 456    | 271  | 9.35e-97 | 344      |\n",
    "| CUP1   | 7460   | 100.000 | 186    | 0        | 0       | 1      | 186  | 1524   | 1339 | 9.35e-97 | 344      |\n",
    "| CUP1   | 7460   | 100.000 | 186    | 0        | 0       | 1      | 186  | 5523   | 5338 | 9.35e-97 | 344      |\n",
    "| CUP1   | 7460   | 100.000 | 186    | 0        | 0       | 1      | 186  | 7521   | 7336 | 9.35e-97 | 344      |\n",
    "| CUP1   | 7460   | 99.462  | 186    | 0        | 1       | 1      | 186  | 3521   | 3337 | 1.56e-94 | 337      |\n",
    "| CUP1   | 7518   | 99.457  | 184    | 1        | 0       | 1      | 184  | 1130   | 947  | 5.63e-94 | 335      |\n",
    "| CUP1   | 7593   | 100.000 | 164    | 0        | 0       | 1      | 164  | 164    | 1    | 1.59e-84 | 303      |\n",
    "| CUP1   | 7535   | 100.000 | 164    | 0        | 0       | 1      | 164  | 164    | 1    | 1.59e-84 | 303      |\n",
    "| CUP1   | 7477   | 100.000 | 164    | 0        | 0       | 1      | 164  | 164    | 1    | 1.59e-84 | 303      |\n",
    "| CUP1   | 7443   | 100.000 | 164    | 0        | 0       | 1      | 164  | 164    | 1    | 1.59e-84 | 303      |\n",
    "| CUP1   | 7383   | 100.000 | 164    | 0        | 0       | 1      | 164  | 164    | 1    | 1.59e-84 | 303      |\n",
    "| CUP1   | 7347   | 100.000 | 134    | 0        | 0       | 31     | 164  | 134    | 1    | 7.54e-68 | 248      |\n",
    "| CUP1   | 7350   | 100.000 | 29     | 0        | 0       | 1      | 29   | 29     | 1    | 1.76e-09 | 54.7     |"
   ]
  },
  {
   "cell_type": "markdown",
   "metadata": {},
   "source": [
    "Run the flashcard code below for more information on the BLAST output."
   ]
  },
  {
   "cell_type": "code",
   "execution_count": 12,
   "metadata": {},
   "outputs": [
    {
     "data": {
      "text/html": [
       "\n",
       "        <iframe\n",
       "            width=\"800\"\n",
       "            height=\"400\"\n",
       "            src=\"../html/flashcard_blastout.html\"\n",
       "            frameborder=\"0\"\n",
       "            allowfullscreen\n",
       "            \n",
       "        ></iframe>\n",
       "        "
      ],
      "text/plain": [
       "<IPython.lib.display.IFrame at 0x7f1ac5ddcf80>"
      ]
     },
     "execution_count": 12,
     "metadata": {},
     "output_type": "execute_result"
    }
   ],
   "source": [
    "from IPython.display import IFrame\n",
    "IFrame('../html/flashcard_blastout.html', width=800, height=400)"
   ]
  },
  {
   "cell_type": "markdown",
   "metadata": {},
   "source": [
    "----------------------\n",
    "\n",
    "## Conclusion\n",
    "\n",
    "In this submodule, you learned how to BLAST against a pangenomic graph. Specifically, you searched for the CUP1 and YHR054C genes in the graph.\n",
    "\n",
    "BLASTing gene sequences allows you to find out where genes of interest are in the FASTA file exported from the pangenomic graph. It also allows you to identify copy numbers of the genes.\n",
    "\n",
    "In the next submodule you will learn how visualize graphs and to BLAST directly against the graph and visualize the result.\n",
    "\n",
    "----------------------"
   ]
  },
  {
   "cell_type": "markdown",
   "metadata": {},
   "source": [
    "## Clean up\n",
    "\n",
    "<div class=\"alert alert-warning\">No cleanup is necessary for this submodule. Don't forget to shutdown your Workbench when you are done working through this module!.</div>"
   ]
  }
 ],
 "metadata": {
  "environment": {
   "kernel": "conda-env-nigms-pangenomics-nigms-pangenomics",
   "name": "workbench-notebooks.m129",
   "type": "gcloud",
   "uri": "us-docker.pkg.dev/deeplearning-platform-release/gcr.io/workbench-notebooks:m129"
  },
  "kernelspec": {
   "display_name": "nigms-pangenomics (Local)",
   "language": "python",
   "name": "conda-env-nigms-pangenomics-nigms-pangenomics"
  },
  "language_info": {
   "codemirror_mode": {
    "name": "ipython",
    "version": 3
   },
   "file_extension": ".py",
   "mimetype": "text/x-python",
   "name": "python",
   "nbconvert_exporter": "python",
   "pygments_lexer": "ipython3",
   "version": "3.12.10"
  }
 },
 "nbformat": 4,
 "nbformat_minor": 4
}
