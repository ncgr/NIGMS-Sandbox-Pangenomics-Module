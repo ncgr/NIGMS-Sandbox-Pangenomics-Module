{
 "cells": [
  {
   "cell_type": "markdown",
   "metadata": {},
   "source": [
    "# Pangenomics\n",
    "--------------------------------------------"
   ]
  },
  {
   "cell_type": "markdown",
   "metadata": {},
   "source": [
    "# Visualizing Graphs with Bandage"
   ]
  },
  {
   "cell_type": "markdown",
   "metadata": {},
   "source": [
    "## Overview\n",
    "\n",
    "Bandage can be used to visualize and interact with pangenomic graphs. You will learn how to visualize graphs with Bandage and how to BLAST DNA sequences and visualize them on the graph."
   ]
  },
  {
   "cell_type": "markdown",
   "metadata": {},
   "source": [
    "## Learning Objectives\n",
    "+ Learn how to visualize pangenomic graphs using Bandage\n",
    "+ Learn how to BLAST sequences against the graph and visualize them within Bandage"
   ]
  },
  {
   "cell_type": "markdown",
   "metadata": {},
   "source": [
    "## Prerequisites\n",
    "Open up Bandage in your browswer:\n",
    "- From the Launcher tab (File : New Launcher), scroll down to the \"Visualization Software\" section and click on \"Bandage\"."
   ]
  },
  {
   "cell_type": "markdown",
   "metadata": {},
   "source": [
    "## Get Started\n",
    "\n",
    "### Visualizing Genomes\n",
    "\n",
    "Pangenomic graphs can be very complex, often looking like \"hairballs\". Bandage allows us to zoom in on interesting regions to visualize and interact with them.\n",
    "\n",
    "![Compressed de Bruijn graphs “hairballs”: https://academic.oup.com/bioinformatics/article/30/24/3476/2422268](./Figures/hairballsB.png)\n"
   ]
  },
  {
   "cell_type": "markdown",
   "metadata": {},
   "source": [
    "#### Graphical Fragment Assembly (GFA) format\n",
    "\n",
    "Bandage uses the Graphical Fragment Asembly (GFA) format.\n",
    "\n",
    "GFA was:\n",
    "+ Originally developed for representing genomes during assembly\n",
    "+ Now used for pangenomics\n",
    "\n",
    "More information on GFA format is available [here:](https://github.com/GFA-spec/GFA-spec).\n"
   ]
  },
  {
   "cell_type": "markdown",
   "metadata": {},
   "source": [
    "#### Bandage\n",
    "\n",
    "Bandage is an interactive graph visualizer. The Bandage acronym stands for:\n",
    "a **B**ioinformatics **A**pplication for **N**avigating **D**e novo **A**ssembly **G**raphs **E**asily\n",
    "\n",
    "![Bandage: https://rrwick.github.io/Bandage/](./Figures/Bandage.png)\n",
    "\n",
    "In addition to visualizing graphs, Bandage has BLAST integration that allows you to query the graph with DNA sequences.\n",
    "\n",
    "+ BLAST integration\n",
    "  + Can build a local BLAST database of the graph\n",
    "  + Can do a web BLAST search with sequences from nodes\n",
    "\n",
    "Bandage also allows you to label and color nodes by uploading comma separated value (CSV) text files with metadata.\n",
    "\n",
    "Details on creating CSV files can be found [here:](https://github.com/rrwick/Bandage/wiki/CSV-labels).\n"
   ]
  },
  {
   "cell_type": "markdown",
   "metadata": {},
   "source": [
    "##### Example graph\n",
    "\n",
    "XXX in progress\n",
    "\n",
    "1. Copy the following example graph from inbre to your computer:\n",
    "```\n",
    "inbre.ncgr.org:/home/<username>/viz/yprp/example/S288C.SK1.minigraph.gfa\n",
    "```\n",
    "2. Open Bandage and load the graph\n",
    "3. Spend some time exploring the graph\n",
    "4. If your have BLAST, find [CUP1](https://www.yeastgenome.org/locus/S000001095) and [YHR054C](https://www.yeastgenome.org/locus/S000001096) via BLAST\n",
    "  + How many copies are in the graph?\n",
    "  + What does the structure it’s in look like?\n",
    "  + Take a screenshot of the region that CUP1 is in with the gene colored\n"
   ]
  },
  {
   "cell_type": "markdown",
   "metadata": {},
   "source": [
    "## Conclusion\n",
    "Provide an overview of the lessons and skills learned from the module."
   ]
  },
  {
   "cell_type": "markdown",
   "metadata": {},
   "source": [
    "## Clean up\n",
    "No cleanup is necessary for this submodule. Don't forget to shutdown your Workbench when you are done working through this module!"
   ]
  }
 ],
 "metadata": {
  "environment": {
   "kernel": "",
   "name": "workbench-notebooks.m126",
   "type": "gcloud",
   "uri": "us-docker.pkg.dev/deeplearning-platform-release/gcr.io/workbench-notebooks:m126"
  },
  "kernelspec": {
   "display_name": "",
   "name": ""
  },
  "language_info": {
   "name": ""
  }
 },
 "nbformat": 4,
 "nbformat_minor": 4
}
