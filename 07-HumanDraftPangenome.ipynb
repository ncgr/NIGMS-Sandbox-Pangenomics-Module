{
 "cells": [
  {
   "cell_type": "markdown",
   "id": "3c52dee8",
   "metadata": {},
   "source": [
    "# Draft Human Pangenome Reference\n",
    "\n",
    "![https://www.nature.com/articles/s41586-023-05896-x](./Figures/HumanPangenomePaper.png){width=60%}\n",
    "\n",
    "## Samples\n",
    "47 phased, diploid genomes (aim for 350)\n",
    "\n",
    "* 29 lymphoblastoid cell lines \\\n",
    "    + “limiting selection to those lines classified as karyotypically  normal and with low passage (to avoid artefacts from cell culture)” "
   ]
  },
  {
   "cell_type": "markdown",
   "id": "9ef7ef64",
   "metadata": {},
   "source": [
    "* 18 sequenced by others (some supplemented) \\\n",
    "    + Aimed for “genetic and biogeographic diversity”"
   ]
  },
  {
   "cell_type": "markdown",
   "id": "04b60bf7",
   "metadata": {},
   "source": [
    "![](./Figures/diversity.png){width=70%}\n",
    "\n",
    "**Population_Code\tDescription\tSuper_Population_Code**\n",
    "\n",
    "ASW\tAmerican's of African Ancestry in SW USA AFR\\\n",
    "ACB\tAfrican Carribean in Barbados AFR\\\n",
    "PUR\tPuerto Rican from Puerto Rica\tAMR\\\n",
    "CLM\tColombian from Medellian, Colombia AMR\\\n",
    "PEL\tPeruvian from Lima, Peru AMR\\\n",
    "\n",
    "MSL\tMende in Sierra Leone AFR\\\n",
    "GWD Gambian in Western Division AFR\\\n",
    "YRI\tYoruba in Ibadan, Nigera AFR\\\n",
    "ESN\tEsan in Nigera AFR\\\n",
    "MKK Maasai in Kinyawa, Kenya AFR\\\n",
    "\n",
    "PJL Punjabi in Lahore, Pakistan SAS\\\n",
    "\n",
    "CHS\tSouthern Han Chinese\tEAS\\\n",
    "KHV\tKinh in Ho Chi Minh City, Vietnam\tEAS\\\n",
    "\n",
    "**Super-Populations**\n",
    "\n",
    "AFR, African\\\n",
    "AMR, Ad Mixed American\\\n",
    "EAS, East Asian\\\n",
    "EUR, European\\\n",
    "SAS, South Asian\\"
   ]
  },
  {
   "cell_type": "markdown",
   "id": "04507ec4",
   "metadata": {},
   "source": [
    "## Strategy\n",
    "\n",
    "**Sequencing** \\\n",
    "\n",
    "PacBio HiFi \\\n",
    "Oxford Nanopore \\\n",
    "Bionano optical maps \\\n",
    "High-coverage Hi-C \\\n",
    "Illumina short-read sequencing \\\n",
    "High-coverage Illumina sequencing data for both parents\n",
    "\n",
    "**Assembly**\\\n",
    "\n",
    "Trio-HiFiasm\n",
    "\n",
    "**Graphs** \\\n",
    "\n",
    "<span style=\"color: green;\">*Minigraph*</span> \\\n",
    "* Fast pangenome graph builder based on the minimap2 aligner \\\n",
    "* Only structural variation >=50nt\n",
    "\n",
    "<span style=\"color: green;\">*Minigraph-Cactus (MC)*</span> \\\n",
    "* Refines minigraph output to include SNPs and other small variants \\\n",
    "* Rewrote minigraph to write chains of minimizers \\\n",
    "* Rewrote cactus to be able to read in minigraph output\n",
    "\n",
    "<span style=\"color: green;\">*PanGenome Graph Builder (PGGB)*</span> \\\n",
    "* All pairwise genome assembly alignments -> graph \\\n",
    "* Uses graph normalization to make sure that chromosome paths are linear \\\n",
    "* Allows for cyclic graph structures that capture structural variation.\n",
    "\n",
    "![](./Figures/graphcompare.png){width=80%}\n",
    "\n",
    "## Results\n",
    "\n",
    "**More Genetic Variation Captured**\n",
    "\n",
    "<span style=\"color: green;\">*The pangenome captures more polymorphic sequences*</span>\n",
    "\n",
    "* 119 Mb of euchromatic polymorphic sequences\n",
    "  * 90 MB = structural variation\n",
    "\n",
    "* 1,115 gene duplications"
   ]
  },
  {
   "cell_type": "markdown",
   "id": "a64f31a4",
   "metadata": {},
   "source": [
    "<span style=\"color: green;\">*We can align more (short) reads to the pangenome*</span>\n",
    "![](./Figures/morevariation2.png){width=80%}\n",
    "\n",
    "<!-- If we had captured all human diversity in the pangenome, the regression lines wouldn't slope downward; the most diverse samples are still not finding perfect matches for all their reads-->\n",
    "\n",
    "<span style=\"color: green;\">*We can call more variants more accurately*</span>\n",
    "\n",
    "Aligning short reads to the pangenome\n",
    "\n",
    "* lowered error in small variants by 34%\\\n",
    "* increased structural variants calls per haplotype by 104% (“vast majority”)\n"
   ]
  },
  {
   "cell_type": "markdown",
   "id": "4f0e28f5",
   "metadata": {},
   "source": [
    "<span style=\"color: green;\">*We can call variants across a broad set of populations*</span>\n",
    "\n",
    "<!-- \"Small variants\" -->\n",
    "\n",
    "![](./Figures/morevariation.png){width=80%}\n"
   ]
  },
  {
   "cell_type": "markdown",
   "id": "64b52cd0",
   "metadata": {},
   "source": [
    "<span style=\"color: green;\">*Variation in complex, medically-relevant Regions*</span>\n",
    "\n",
    "HLA region (helps the immune system distinguish between self and invader)\n",
    "\n",
    "![HLA genes](./Figures/hla_genes.png){width=80%}\n",
    "\n",
    "![HLA haplotypes](./Figures/hla_haplotypes.png){width=80%}"
   ]
  },
  {
   "cell_type": "markdown",
   "id": "5e312544",
   "metadata": {},
   "source": [
    "Rh region (involved in Rh blood type)\n",
    "\n",
    "![Rh genes](./Figures/rh_genes.png){width=80%}\n",
    "\n",
    "![Rh haplotypes](./Figures/rh_haplotypes.png){width=80%}"
   ]
  }
 ],
 "metadata": {},
 "nbformat": 4,
 "nbformat_minor": 5
}
