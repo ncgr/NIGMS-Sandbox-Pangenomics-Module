{
 "cells": [
  {
   "cell_type": "markdown",
   "metadata": {},
   "source": [
    "# Pangenomics\n",
    "--------------------------------------------"
   ]
  },
  {
   "cell_type": "markdown",
   "metadata": {},
   "source": [
    "# Searching Graphs with BLAST"
   ]
  },
  {
   "cell_type": "markdown",
   "metadata": {},
   "source": [
    "\n",
    "## Overview\n",
    "Here you will learn how to search graphs with BLAST. In other words, you can use a DNA sequence, such as your favorite gene, to search the pangenomic graph, discover the structure of the graph, and explore homologous sequences."
   ]
  },
  {
   "cell_type": "markdown",
   "metadata": {},
   "source": [
    "## Learning Objectives\n",
    "+ Learn how to use BLAST to search a pangenome graph"
   ]
  },
  {
   "cell_type": "markdown",
   "metadata": {},
   "source": [
    "## Get Started\n",
    "\n",
    "### Get the CUP1 and YHR054C gene sequences\n",
    "\n",
    "We will blast the CUP1 (YHR053C) and YHR054C gene sequences against a linearized version of the graph.\n",
    "\n",
    "First, get the gene sequences. There are multiple copies of each but we'll grab the first instance and use it to identify all copies through BLAST alignment.\n",
    "\n",
    "CUP1  \n",
    "S288C_chrVIII:213043-213228\n",
    "\n",
    "YHR054C  \n",
    "S288C_chrVIII:213693-214757\n",
    "\n",
    "Both are on the \"-\" strand.\n",
    "\n",
    "Use `samtools faidx`.\n",
    "\n",
    "The parameters:\n",
    "\n",
    "-i  reverse-complement  \n",
    "input fasta  \n",
    "region coordinates"
   ]
  },
  {
   "cell_type": "code",
   "execution_count": null,
   "metadata": {},
   "outputs": [],
   "source": [
    "!samtools faidx -i yprp.chrVIII.fa S288C_chrVIII:213043-213228 > genes.bed\n",
    "\n",
    "!samtools faidx -i yprp.chrVIII.fa S288C_chrVIII:213693-214757 >> genes.bed"
   ]
  },
  {
   "cell_type": "markdown",
   "metadata": {},
   "source": [
    "Take a look at the file you just made."
   ]
  },
  {
   "cell_type": "code",
   "execution_count": null,
   "metadata": {},
   "outputs": [],
   "source": [
    "!cat genes.bed"
   ]
  },
  {
   "cell_type": "markdown",
   "metadata": {},
   "source": [
    "Let's rename the sequences so they have the gene names rather than coordinates. Use `sed`.\n",
    "\n",
    "The parameters:\n",
    "\n",
    "-i edit in place"
   ]
  },
  {
   "cell_type": "code",
   "execution_count": null,
   "metadata": {},
   "outputs": [],
   "source": [
    "!sed -i 's/S288C_chrVIII:213043-213228.rc/CUP1/' genes.bed\n",
    "\n",
    "!sed -i 's/S288C_chrVIII:213693-214757.rc/YHR054C/' genes.bed"
   ]
  },
  {
   "cell_type": "markdown",
   "metadata": {},
   "source": [
    "Take a look at it again."
   ]
  },
  {
   "cell_type": "code",
   "execution_count": null,
   "metadata": {},
   "outputs": [],
   "source": [
    "!cat genes.bed"
   ]
  },
  {
   "cell_type": "markdown",
   "metadata": {},
   "source": [
    "### BLAST the graph manually\n",
    "\n",
    "Create a FASTA file containing the graph sequence"
   ]
  },
  {
   "cell_type": "code",
   "execution_count": null,
   "metadata": {},
   "outputs": [],
   "source": [
    "!gfatools gfa2fa yprp.chrVIII.pggb.gfa > yprp.chrVIII.pggb.fa"
   ]
  },
  {
   "cell_type": "markdown",
   "metadata": {},
   "source": [
    "Build a BLAST database for the FASTA using `makeblastdb`.\n",
    "\n",
    "The parameters:\n",
    "\n",
    "-in fasta_file_from_graph&nbsp;&nbsp;&nbsp;the file to build a database for  \n",
    "-input_type fasta &nbsp;&nbsp;&nbsp;&nbsp;&nbsp;&nbsp;&nbsp;&nbsp;&nbsp;&nbsp;&nbsp;&nbsp;&nbsp;&nbsp;&nbsp;  the format of the input file (fasta)  \n",
    "-dbtype nucl  &nbsp;&nbsp;&nbsp;&nbsp;&nbsp;&nbsp;&nbsp;&nbsp;&nbsp;&nbsp;&nbsp;&nbsp;&nbsp;&nbsp;&nbsp;&nbsp;&nbsp;&nbsp;&nbsp;&nbsp;&nbsp;&nbsp;&nbsp; type of sequence (nucl=DNA)"
   ]
  },
  {
   "cell_type": "code",
   "execution_count": null,
   "metadata": {},
   "outputs": [],
   "source": [
    "!makeblastdb -in yprp.chrVIII.pggb.fa -input_type fasta -dbtype nucl"
   ]
  },
  {
   "cell_type": "markdown",
   "metadata": {},
   "source": [
    "   \n",
    "Query the database for [CUP1](https://www.yeastgenome.org/locus/S000001095) and [YHR054C](https://www.yeastgenome.org/locus/S000001096)\n",
    "```\n",
    "blastn -db yprp.chrVIII.pggb.fa -query S288C_YHR053C_CUP1-1_genomic.fsa\n",
    "```\n",
    "\n",
    "XXX Move this to the bandage chapter\n",
    "View your Chromsome VIII chunk graph with Bandage (exercise):\n",
    "\n",
    "1. Find the CUP1 and YHR054C BLAST hits by node ID\n",
    "2. Take a screenshot\n",
    "\n"
   ]
  },
  {
   "cell_type": "markdown",
   "metadata": {},
   "source": [
    "## Conclusion\n",
    "\n",
    "You learned how to blast against a pangenomic graph. Specifically, you searched for the CUP1 and YHR054C genes in the graph."
   ]
  },
  {
   "cell_type": "markdown",
   "metadata": {},
   "source": [
    "## Clean up\n",
    "No cleanup is necessary for this submodule. Don't forget to shutdown your Workbench when you are done working through this module!"
   ]
  }
 ],
 "metadata": {
  "environment": {
   "kernel": "conda-env-nigms-pangenomics-nigms-pangenomics",
   "name": "workbench-notebooks.m127",
   "type": "gcloud",
   "uri": "us-docker.pkg.dev/deeplearning-platform-release/gcr.io/workbench-notebooks:m127"
  },
  "kernelspec": {
   "display_name": "nigms-pangenomics",
   "language": "python",
   "name": "conda-env-nigms-pangenomics-nigms-pangenomics"
  },
  "language_info": {
   "codemirror_mode": {
    "name": "ipython",
    "version": 3
   },
   "file_extension": ".py",
   "mimetype": "text/x-python",
   "name": "python",
   "nbconvert_exporter": "python",
   "pygments_lexer": "ipython3",
   "version": "3.12.8"
  }
 },
 "nbformat": 4,
 "nbformat_minor": 4
}
