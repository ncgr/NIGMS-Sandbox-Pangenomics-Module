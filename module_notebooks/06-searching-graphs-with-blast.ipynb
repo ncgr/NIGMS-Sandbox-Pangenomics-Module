{
 "cells": [
  {
   "cell_type": "markdown",
   "metadata": {},
   "source": [
    "# Pangenomics\n",
    "--------------------------------------------"
   ]
  },
  {
   "cell_type": "markdown",
   "metadata": {},
   "source": [
    "# Searching Graphs with BLAST"
   ]
  },
  {
   "cell_type": "markdown",
   "metadata": {},
   "source": [
    "\n",
    "## Overview\n",
    "Here you will learn how to search graphs with BLAST. In other words, you can use a DNA sequence, such as your favorite gene, to search the pangenomic graph, discover the structure of the graph, and explore homologous sequences."
   ]
  },
  {
   "cell_type": "markdown",
   "metadata": {},
   "source": [
    "## Learning Objectives\n",
    "+ Learn how to use BLAST to search a pangenome graph"
   ]
  },
  {
   "cell_type": "markdown",
   "metadata": {},
   "source": [
    "## Prerequisites\n",
    "- List any APIs that should be enabled.\n",
    "- List cloud platform account roles that must be assigned.\n",
    "- List necessary cloud platform access."
   ]
  },
  {
   "cell_type": "markdown",
   "metadata": {},
   "source": [
    "## Get Started\n",
    "\n",
    "### BLAST the graph manually\n",
    "\n",
    "Create a FASTA file containing the graph sequence\n",
    "```\n",
    "gfatools gfa2fa yprp.chrVIII.pggb.gfa > yprp.chrVIII.pggb.fa\n",
    "```\n",
    "\n",
    "Build a BLAST database for the FASTA\n",
    "```\n",
    "makeblastdb -in yprp.chrVIII.pggb.fa -input_type fasta -dbtype nucl\n",
    "```\n",
    "+ **-in yprp.chrVIII.pggb.fa**\n",
    "    + the file to build a database for\n",
    "+ **-input_type fasta**\n",
    "    + the input file is a FASTA\n",
    "+ **-dbtype nucl**\n",
    "    + the type of sequence in the input file is DNA\n",
    "    \n",
    "Query the database for [CUP1](https://www.yeastgenome.org/locus/S000001095) and [YHR054C](https://www.yeastgenome.org/locus/S000001096)\n",
    "```\n",
    "blastn -db yprp.chrVIII.pggb.fa -query S288C_YHR053C_CUP1-1_genomic.fsa\n",
    "```\n",
    "\n",
    "XXX Move this to the bandage chapter\n",
    "View your Chromsome VIII chunk graph with Bandage (exercise):\n",
    "\n",
    "1. Find the CUP1 and YHR054C BLAST hits by node ID\n",
    "2. Take a screenshot\n",
    "\n"
   ]
  },
  {
   "cell_type": "markdown",
   "metadata": {},
   "source": [
    "## Conclusion\n",
    "Provide an overview of the lessons and skills learned from the module."
   ]
  },
  {
   "cell_type": "markdown",
   "metadata": {},
   "source": [
    "## Clean up\n",
    "No cleanup is necessary for this submodule. Don't forget to shutdown your Workbench when you are done working through this module!"
   ]
  }
 ],
 "metadata": {
  "environment": {
   "kernel": "",
   "name": "workbench-notebooks.m126",
   "type": "gcloud",
   "uri": "us-docker.pkg.dev/deeplearning-platform-release/gcr.io/workbench-notebooks:m126"
  },
  "kernelspec": {
   "display_name": "",
   "name": ""
  },
  "language_info": {
   "name": ""
  }
 },
 "nbformat": 4,
 "nbformat_minor": 4
}
