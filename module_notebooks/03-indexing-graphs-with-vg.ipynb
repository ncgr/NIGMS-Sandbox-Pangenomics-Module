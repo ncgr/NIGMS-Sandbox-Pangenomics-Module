{
 "cells": [
  {
   "cell_type": "markdown",
   "metadata": {},
   "source": [
    "# Pangenomics\n",
    "--------------------------------------------"
   ]
  },
  {
   "cell_type": "markdown",
   "metadata": {},
   "source": [
    "# Indexing Graphs with vg"
   ]
  },
  {
   "cell_type": "markdown",
   "metadata": {},
   "source": [
    "## Overview\n",
    "\n",
    "The Variation Graph Toolkit (VG) allows us to perform different operations on pangenomic graphs. You will learn about VG's capabilities and use VG to index PGGB graphs and get some stats."
   ]
  },
  {
   "cell_type": "markdown",
   "metadata": {},
   "source": [
    "## Learning Objectives\n",
    "+ Understand VG and the different things it can be used for\n",
    "+ Learn how to index graphs \n",
    "+ Get stats on the graphs"
   ]
  },
  {
   "cell_type": "markdown",
   "metadata": {},
   "source": [
    "## Get Started\n",
    "\n",
    "We will use the Variation Graph Toolkit (VG) to index our PGGB graphs, map sequences to them, and call variants.\n",
    "\n",
    "However, VG can also create graphs and do many other steps in pangenomic analysis.\n",
    "If you would like to learn about how to construct and manipulate graphs using VG and other pangenomic tools, please see [our virtual workshops](https://inbre.ncgr.org/ncgr-workshops/upcoming-ncgr-workshops.html).\n"
   ]
  },
  {
   "cell_type": "markdown",
   "metadata": {},
   "source": [
    "### Variation Graph Toolkit (VG)\n",
    "\n",
    "While we will not use VG to create pangenomics graphs in this module, it is important to understand the kinds of graphs that VG understands.\n",
    "\n",
    "VG creates graphs that are cyclic, meaning that paths through the graph can be revisited.\n",
    "This is important for capturing, for example, duplicated genomic regions.\n",
    "\n",
    "VG graphs are otherwise general.\n",
    "They are considered reference graphs, iterative, and reference-free.\n",
    "\n",
    "VG has tools that can do the following pangenomic steps.\n",
    "\n",
    "+ Constructs graphs\n",
    "+ Manipulates graphs\n",
    "+ Indexes graphs\n",
    "+ Maps sequences to graphs\n",
    "+ Calls variants on mapped sequences\n",
    "+ Visualizes graphs\n",
    "\n",
    "VG can also do:\n",
    "\n",
    "+ [Transcriptomic analysis](https://github.com/vgteam/vg#transcriptomic-analysis)\n",
    "+ Assembly-based pipelines\n",
    "+ So much more\n",
    "\n",
    "Citation:\n",
    "\n",
    "![Garrison, E., Sirén, J., Novak, A. et al.](./Figures/VGref.png)\n",
    "\n",
    "![vg Graph Genomics Pipeline: https://github.com/vgteam/vg](./Figures/VGpipe.png)\n",
    "\n",
    "\n",
    "A reference genome \"decorated\" with variants:\n",
    "\n",
    "![GRAF™ Pan Genome Reference: https://www.sevenbridges.com/graf/](./Figures/GRAF.png)\n",
    " "
   ]
  },
  {
   "cell_type": "markdown",
   "metadata": {},
   "source": [
    "### VG Index Formats\n",
    "\n",
    "VG has several different index formats.\n",
    "\n",
    "XG (lightweight graph / path representation)\n",
    "\n",
    "+ Binary file containing graph structure (nodes, edges, paths) but no sequences\n",
    "+ Complex data structure that answers graph queries efficiently\n",
    "\n",
    "GCSA (Generalized Compressed Suffix Array)\n",
    "\n",
    "+ Equivalent to .sa file created by bwa index\n",
    "+ Binary file containing a suffix array that efficiently looks up where sequences occur in the graph\n",
    "\n",
    "For more information, visit https://github.com/vgteam/vg/wiki/File-Formats"
   ]
  },
  {
   "cell_type": "markdown",
   "metadata": {},
   "source": [
    "### Converting our graphs from GFA to VG format\n",
    "\n",
    "Previously, you created these graphs using PGGB:  \n",
    "yprp.chrVIII.pggb.gfa (a graph for yeast chromosome VIII)  \n",
    "output_allchrs/*/*gfa (16 subgraphs representing the 16 yeast chromosomes)  \n",
    "yprp.yprp.fullgenome.pggb.gfa.pggb.gfa (a graph for the entire yeast genome)\n",
    "\n",
    "Before indexing, we need to convert the graphs from GFA to VG format.\n",
    "\n",
    "NOTE: You can index a GFA file rather than a VG file but this may have implications for mapping reads.\n",
    "There’s also an [autoindex](https://github.com/vgteam/vg/wiki/Automatic-indexing-for-read-mapping-and-downstream-inference) command."
   ]
  },
  {
   "cell_type": "code",
   "execution_count": null,
   "metadata": {},
   "outputs": [],
   "source": [
    "!vg convert -f yprp.chrVIII.pggb.gfa > yprp.chrVIII.pggb.vg"
   ]
  },
  {
   "cell_type": "markdown",
   "metadata": {},
   "source": [
    "<div class=\"alert alert-block alert-info\"> <b>Try this for the full graph (yprp.fullgenome.pggb.gfa):\n",
    "</b>  \n",
    "    <ul>\n",
    "        <li>Create a blank code cell below.</li>\n",
    "        <li>Convert yprp.fullgenome.pggb.gfa from GFA format to VG, calling the result \"yprp.fullgenome.pggb.vg\"</li></a>. </div>\n",
    "    </ul>\n"
   ]
  },
  {
   "cell_type": "markdown",
   "metadata": {},
   "source": [
    "<details>\n",
    "<summary>Click for help</summary>\n",
    "<br>\n",
    "!vg convert -f yprp.fullgenome.pggb.gfa > yprp.fullgenome.pggb.vg\n",
    "</details>"
   ]
  },
  {
   "cell_type": "markdown",
   "metadata": {},
   "source": [
    "Now practice on the 16 chromosome subgraphs. Convert each one to vg format. You could do each one individually but a for loop will make it easier. The gfa files are labelled 0-15."
   ]
  },
  {
   "cell_type": "code",
   "execution_count": null,
   "metadata": {},
   "outputs": [],
   "source": [
    "!for i in {0..15}; \\\n",
    "do \\\n",
    "    vg convert -f output_allchrs/*/*community.${i}.fa*gfa > yprp.allchrs.${i}.vg; \\\n",
    "done"
   ]
  },
  {
   "cell_type": "markdown",
   "metadata": {},
   "source": [
    "At this point, you can continue to keep them separate but let's merge them into a single graph using 'vg combine'."
   ]
  },
  {
   "cell_type": "code",
   "execution_count": null,
   "metadata": {},
   "outputs": [],
   "source": [
    "!vg combine yprp.allchrs.*.vg > yprp.allchrs.pggb.vg"
   ]
  },
  {
   "cell_type": "markdown",
   "metadata": {},
   "source": [
    "### Indexing with VG\n",
    "\n",
    "Generate .xg and .gcsa files on the S288C.vg file that you generated previously using PGGB.\n",
    "\n",
    "The parameters:\n",
    "\n",
    "-x Name of the .xg index file  \n",
    "-g Name of the .gcsa index file (we will use this later)  \n",
    "-p Show progress\n",
    "\n",
    "First, we'll make the .xg index"
   ]
  },
  {
   "cell_type": "code",
   "execution_count": null,
   "metadata": {},
   "outputs": [],
   "source": [
    "!vg index -p -x yprp.chrVIII.pggb.xg yprp.chrVIII.pggb.vg"
   ]
  },
  {
   "cell_type": "markdown",
   "metadata": {},
   "source": [
    "We need to modify our graph to reduce the kmer offset because vg index for .gcsa has a maximum of 1024."
   ]
  },
  {
   "cell_type": "code",
   "execution_count": null,
   "metadata": {},
   "outputs": [],
   "source": [
    "!vg mod -X 256 yprp.chrVIII.pggb.vg > yprp.chrVIII.pggb.mod.vg"
   ]
  },
  {
   "cell_type": "markdown",
   "metadata": {},
   "source": [
    "Now we need to prune the graph because it is too complex to make a .gcsa index."
   ]
  },
  {
   "cell_type": "code",
   "execution_count": null,
   "metadata": {},
   "outputs": [],
   "source": [
    "!vg prune yprp.chrVIII.pggb.mod.vg > yprp.chrVIII.pggb.pruned.vg"
   ]
  },
  {
   "cell_type": "markdown",
   "metadata": {},
   "source": [
    "Now make the .gcsa index of the pruned graph. Use the -g paramater for .gcsa."
   ]
  },
  {
   "cell_type": "code",
   "execution_count": null,
   "metadata": {},
   "outputs": [],
   "source": [
    "!vg index -p -g yprp.chrVIII.pggb.gcsa yprp.chrVIII.pggb.pruned.vg"
   ]
  },
  {
   "cell_type": "markdown",
   "metadata": {},
   "source": [
    "And, finally, remove the pruned graph."
   ]
  },
  {
   "cell_type": "code",
   "execution_count": null,
   "metadata": {},
   "outputs": [],
   "source": [
    "!rm -f yprp.chrVIII.pggb.pruned.vg"
   ]
  },
  {
   "cell_type": "markdown",
   "metadata": {},
   "source": [
    "<div class=\"alert alert-block alert-info\"> <b>Try this for the full genome graph (yprp.fullgenome.pggb.vg):</b>  \n",
    "    <ul>\n",
    "        <li>Create a blank code cell below.</li>\n",
    "        <li>Create a .xg index.</li>\n",
    "        <li>Modify the graph to reduce the kmer offset.</li>\n",
    "        <li>Prune the modified graph.</li>\n",
    "        <li>Create a .gcsa index on the pruned graph using the prefix \"yprp.fullgenome.pggb\" for the result.</li>\n",
    "        <li>Remove the pruned graph.</li>        \n",
    "    </ul>"
   ]
  },
  {
   "cell_type": "markdown",
   "metadata": {},
   "source": [
    "<details>\n",
    "<summary>Click for help</summary>\n",
    "<br>\n",
    "\n",
    "!vg index -p -x yprp.fullgenome.pggb.xg yprp.fullgenome.pggb.vg\n",
    "\n",
    "!vg mod -X 256 yprp.fullgenome.pggb.vg > yprp.fullgenome.pggb.mod.vg\n",
    "\n",
    "!vg prune yprp.fullgenome.pggb.mod.vg > yprp.fullgenome.pggb.pruned.vg\n",
    "\n",
    "!vg index -p -g yprp.fullgenome.pggb.gcsa yprp.fullgenome.pggb.pruned.vg\n",
    "\n",
    "!rm -f yprp.fullgenome.pggb.pruned.vg\n",
    "\n",
    "</details>"
   ]
  },
  {
   "cell_type": "markdown",
   "metadata": {},
   "source": [
    "<div class=\"alert alert-block alert-info\"> <b>Now, try this for the combined graph, originally run as individual chromosomes (yprp.allchrs.pggb.vg):</b>  \n",
    "    <ul>\n",
    "        <li>Create a blank code cell below.</li>\n",
    "        <li>Create a .xg index.</li>\n",
    "        <li>Modify the graph to reduce the kmer offset.</li>\n",
    "        <li>Prune the modified graph.</li>\n",
    "        <li>Create a .gcsa index on the pruned graph using the prefix \"yprp.allchrs.pggb\" for the result.</li>\n",
    "        <li>Remove the pruned graph.</li>        \n",
    "    </ul>"
   ]
  },
  {
   "cell_type": "markdown",
   "metadata": {},
   "source": [
    "<details>\n",
    "<summary>Click for help</summary>\n",
    "<br>\n",
    "\n",
    "!vg index -p -x yprp.allchrs.pggb.xg yprp.allchrs.pggb.vg\n",
    "\n",
    "!vg mod -X 256 yprp.allchrs.pggb.vg > yprp.allchrs.pggb.mod.vg\n",
    "\n",
    "!vg prune yprp.allchrs.pggb.mod.vg > yprp.allchrs.pggb.pruned.vg\n",
    "\n",
    "!vg index -p -g yprp.allchrs.pggb.gcsa yprp.allchrs.pggb.pruned.vg\n",
    "\n",
    "!rm -f yprp.allchrs.pggb.pruned.vg\n",
    "\n",
    "</details>"
   ]
  },
  {
   "cell_type": "markdown",
   "metadata": {},
   "source": [
    "### Graph statistics\n",
    "\n",
    "Let's get some graph statistics for all 3 graphs, starting with the chrVIII graph.\n",
    "\n",
    "**vg stats**\n",
    "\n",
    "+ -z, --size             size of graph\n",
    "+ -N, --node-count       number of nodes in graph\n",
    "+ -E, --edge-count       number of edges in graph\n",
    "+ -l, --length           length of sequences in graph\n",
    "\n",
    "NOTE: the number of nodes and edges is given by default but calling them explicitly means they will be labeled."
   ]
  },
  {
   "cell_type": "code",
   "execution_count": null,
   "metadata": {},
   "outputs": [],
   "source": [
    "!vg stats -z -N -E -l yprp.chrVIII.pggb.vg"
   ]
  },
  {
   "cell_type": "markdown",
   "metadata": {},
   "source": [
    "The length of chromosome VIII is ~5.5-5.8k. So a size of just over 600k makes sense--it covers the full chromosome length plus a little more to account for regions that have diverged between our 3 accessions and, therefore, have more than one version in the graph."
   ]
  },
  {
   "cell_type": "markdown",
   "metadata": {},
   "source": [
    "<div class=\"alert alert-block alert-info\"> <b>Try this:</b>  \n",
    "    <ul>\n",
    "        <li>Create a blank code cell below.</li>\n",
    "        <li>Get stats for the graph created directly from the full genome (yprp.fullgenome.pggb.xg).</li>\n",
    "        <li>Get stats for the graph created by combining the 16 chromosomal subgraphs (yprp.allchrs.pggb.vg).</li>\n",
    "        <li>What differences do you notice between the stats for these two graphs?</li> \n",
    "    </ul>"
   ]
  },
  {
   "cell_type": "markdown",
   "metadata": {},
   "source": [
    "<details>\n",
    "<summary>Click for help</summary>\n",
    "<br>\n",
    "\n",
    "!vg stats -z -N -E -l yprp.fullgenome.pggb.vg\n",
    "\n",
    "!vg stats -z -N -E -l yprp.allchrs.pggb.vg\n",
    "\n",
    "The graph made directly from the full genome has more nodes and edges. This likely reflects the extra connections between chromosomes that you would expect in this graph, made with all the chromosomes at once, that are not in the other graph, where chromosomes were isolated during the building of the graph. These extra connections may have created additional nodes when they connected not quite identical sequence between chromosomes, splitting what would have been a single node of identical sequence into more than one node to take account of the sequence differences.\n",
    "\n",
    "The graph made from individual chromosome subgraphs has a slightly longer sequence length, possibly reflecting some duplication between chromosomes that wasn't fully merged.\n",
    "\n",
    "</details>"
   ]
  },
  {
   "cell_type": "markdown",
   "metadata": {},
   "source": [
    "## Conclusion\n",
    "In this submodule you learned about the VG toolkit and what it can be used for. You also learned how to index graphs with VG and indexed the PGGB graphs that you had previously made. You also learned how to obtain graph statistics. In the next submodule, you will learn how to map reads to the indexed graph."
   ]
  },
  {
   "cell_type": "markdown",
   "metadata": {},
   "source": [
    "## Clean up\n",
    "No cleanup is necessary for this submodule. Don't forget to shutdown your Workbench when you are done working through this module!"
   ]
  }
 ],
 "metadata": {},
 "nbformat": 4,
 "nbformat_minor": 4
}
