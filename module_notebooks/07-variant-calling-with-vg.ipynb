{
 "cells": [
  {
   "cell_type": "markdown",
   "metadata": {},
   "source": [
    "# Pangenomics\n",
    "--------------------------------------------"
   ]
  },
  {
   "cell_type": "markdown",
   "metadata": {},
   "source": [
    "# Variant Calling with VG"
   ]
  },
  {
   "cell_type": "markdown",
   "metadata": {},
   "source": [
    "## Overview\n",
    "\n",
    "Variants can be called both within the pangenomic graph and by aligning reads to the graph. You will learn how to call variants both ways in this submodule."
   ]
  },
  {
   "cell_type": "markdown",
   "metadata": {},
   "source": [
    "## Learning Objectives\n",
    "+ Specify different types of variants\n",
    "+ Discuss our ability to call variants with different types of reads and pangenomic graphs\n",
    "+ Call and interpret variants with VG"
   ]
  },
  {
   "cell_type": "markdown",
   "metadata": {},
   "source": [
    "## Getting Started\n",
    "\n",
    "When calling variants, we use aligned reads to find support for variants contained in the graph. For the original pangenome graph, it will find variants from the assemblies used to make the graph. You can also augment the pangenome graph with novel variants in the reads, creating an augemented pangenome graph that can be used to call variants.\n",
    "\n",
    "First we will learn how to identify variants that are supported by the graph. Then we'll look at identifying novel variants that are not in the graphs.\n",
    "\n",
    "#### Variant Calling\n",
    "- Variants supported by the graph\n",
    "- Novel variants"
   ]
  },
  {
   "cell_type": "markdown",
   "metadata": {},
   "source": [
    "----------------------\n",
    "\n",
    "## Call Variants\n",
    "\n",
    "We will look for two variant types:\n",
    "- Variants that are supported by the graph.\n",
    "- Variants that are novel (i.e. not in the graph but supported by the reads aligned to the graph).\n",
    "\n",
    "We will call variants against the graph, though you could also call variants using the surjected BAM file and traditional variant calling methods."
   ]
  },
  {
   "cell_type": "markdown",
   "metadata": {},
   "source": [
    "----------------------\n",
    "\n",
    "## Calling Graph Supported Variants\n",
    "\n",
    "1. Create a directory for the variants"
   ]
  },
  {
   "cell_type": "code",
   "execution_count": null,
   "metadata": {},
   "outputs": [],
   "source": [
    "!mkdir variants"
   ]
  },
  {
   "cell_type": "markdown",
   "metadata": {},
   "source": [
    "\n",
    "2. Compute read support for variation already in the graph using `vg pack`.\n",
    "\n",
    "The parameters:\n",
    "\n",
    "`-x`  the graph  \n",
    "`-g`  aligments in GAM format  \n",
    "`-Q`  ignore mapping and base qualities < N  \n",
    "`-s`  ignore the first and last N nucleotides of each read  \n",
    "`-o`  the output PACK file  \n",
    "`-t`  use N threads"
   ]
  },
  {
   "cell_type": "code",
   "execution_count": null,
   "metadata": {},
   "outputs": [],
   "source": [
    "!vg pack -x graphs/yprp.chrVIII.pggb.giraffe.gbz -g alignments/SK1xyprp.chrVIII.pggb.mapped.gam -Q 5 -s 5 -t 4 -o alignments/yprp.chrVIII.pggb.mapped.pack"
   ]
  },
  {
   "cell_type": "markdown",
   "metadata": {},
   "source": [
    "3. Generate a VCF from the read support using `vg call`.\n",
    "\n",
    "The parameters:\n",
    "\n",
    "`-k`  The read support file to read in  \n",
    "`-t`  The number of threads  \n",
    "`-z`  Restrict the search to GBZ haplotypes (can improve speed and accuracy); we won't use this here\n",
    "\n",
    "Also, feed in the graph as a positional argument: *graphs/yprp.chrVIII.pggb.giraffe.gbz*"
   ]
  },
  {
   "cell_type": "code",
   "execution_count": null,
   "metadata": {},
   "outputs": [],
   "source": [
    "!vg call -k alignments/yprp.chrVIII.pggb.mapped.pack -t 4 graphs/yprp.chrVIII.pggb.giraffe.gbz > variants/SK1xyprp.chrVIII.pggb.graph_calls.vcf"
   ]
  },
  {
   "cell_type": "markdown",
   "metadata": {},
   "source": [
    "<div class=\"alert alert-block alert-success\"> <b>Try this in the cell below:</b>  \n",
    "    <ul>\n",
    "        <li>Call variants in the full genome graph by computing read support and then generating a vcf file (variants/yprp.fullgenome.pggb.graph_calls.vcf).</li>\n",
    "    </ul>"
   ]
  },
  {
   "cell_type": "code",
   "execution_count": null,
   "metadata": {},
   "outputs": [],
   "source": [
    "# Call variants in the full genome graph"
   ]
  },
  {
   "cell_type": "markdown",
   "metadata": {},
   "source": [
    "<details>\n",
    "<summary>Click for help</summary>\n",
    "<br>\n",
    "!vg pack -x graphs/yprp.fullgenome.pggb.giraffe.gbz -g alignments/SK1xyprp.fullgenome.pggb.mapped.gam -Q 5 -s 5 -o alignments/yprp.fullgenome.pggb.mapped.pack -t 4   \n",
    "\n",
    "\n",
    "!vg call -k alignments/yprp.fullgenome.pggb.mapped.pack -t 4 graphs/yprp.fullgenome.pggb.giraffe.gbz > variants/yprp.fullgenome.pggb.graph_calls.vcf\n",
    "</details>"
   ]
  },
  {
   "cell_type": "markdown",
   "metadata": {},
   "source": [
    "----------------------\n",
    "\n",
    "## Variant Statistics\n",
    "\n",
    "1. We will use `bcftools stats` to get statistics on the graph-supported variants. We will use `grep` to get the summary numbers."
   ]
  },
  {
   "cell_type": "code",
   "execution_count": null,
   "metadata": {},
   "outputs": [],
   "source": [
    "!bcftools stats variants/SK1xyprp.chrVIII.pggb.graph_calls.vcf | grep \"^SN\""
   ]
  },
  {
   "cell_type": "markdown",
   "metadata": {},
   "source": [
    "Run the code below to see the flashcards."
   ]
  },
  {
   "cell_type": "code",
   "execution_count": null,
   "metadata": {},
   "outputs": [],
   "source": [
    "from IPython.display import IFrame\n",
    "IFrame('../html/flashcard_variants.html', width=800, height=400)"
   ]
  },
  {
   "cell_type": "markdown",
   "metadata": {},
   "source": [
    "<div class=\"alert alert-block alert-success\"> <b>Try this in the cell below:</b>  \n",
    "    <ul>\n",
    "        <li>Get statistics for variants supported by the full genome graph (variants/yprp.fullgenome.pggb.graph_calls.vcf).</li>\n",
    "    </ul>"
   ]
  },
  {
   "cell_type": "code",
   "execution_count": null,
   "metadata": {},
   "outputs": [],
   "source": [
    "# Statistics for variants supported by the full genome graph"
   ]
  },
  {
   "cell_type": "markdown",
   "metadata": {},
   "source": [
    "<details>\n",
    "<summary>Click for help</summary>\n",
    "<br>\n",
    "!bcftools stats variants/yprp.fullgenome.pggb.graph_calls.vcf | grep \"^SN\"\n",
    "</details>"
   ]
  },
  {
   "cell_type": "markdown",
   "metadata": {},
   "source": [
    "----------------------\n",
    "\n",
    "## Including Novel Variant Calls\n",
    "\n",
    "1. To call novel variants (i.e. those variants supported by the aligned reads),  we need to embed the variation from the reads we aligned back into the graph. To do this we need to convert the graph into a form that we can change. We will use `vg convert` to convert the .gbz file to a .vg file."
   ]
  },
  {
   "cell_type": "code",
   "execution_count": null,
   "metadata": {},
   "outputs": [],
   "source": [
    "!vg convert graphs/yprp.chrVIII.pggb.giraffe.gbz > graphs/yprp.chrVIII.pggb.giraffe.vg"
   ]
  },
  {
   "cell_type": "markdown",
   "metadata": {},
   "source": [
    "2. Now, we can augment the graph with the mapped reads using `vg augment`. This will embed the variation from the alignments back into the graph.\n",
    "\n",
    "The parameters:\n",
    "\n",
    "`-A`  new, augmented graph with aligned reads  \n",
    "`-t`  the number of threads to use  \n",
    "\n",
    "Also, feed in the the graph and the input alignment (GMA) file as positional arguments:  \n",
    "*graphs/yprp.chrVIII.pggb.giraffe.vg*  \n",
    "*alignments/SK1xyprp.chrVIII.pggb.mapped.gam*"
   ]
  },
  {
   "cell_type": "code",
   "execution_count": null,
   "metadata": {},
   "outputs": [],
   "source": [
    "!vg augment graphs/yprp.chrVIII.pggb.giraffe.vg alignments/SK1xyprp.chrVIII.pggb.mapped.gam -A alignments/SK1xyprp.chrVIII.pggb.mapped.aug.gam -t 4 > graphs/SK1xyprp.chrVIII.pggb.aug.vg "
   ]
  },
  {
   "cell_type": "markdown",
   "metadata": {},
   "source": [
    "3. Next, index the augmented graph using `vg index`. We will make a .xg index.\n",
    "\n",
    "The parameters:\n",
    "\n",
    "`-x`  output file  \n",
    "`-t`  the number of threads  \n",
    "\n",
    "Also, feed in the graph as a positional argument:  \n",
    "*graphs/SK1xyprp.chrVIII.pggb.aug.vg*"
   ]
  },
  {
   "cell_type": "code",
   "execution_count": null,
   "metadata": {},
   "outputs": [],
   "source": [
    "!vg index -t 4 -x graphs/SK1xyprp.chrVIII.pggb.aug.xg graphs/SK1xyprp.chrVIII.pggb.aug.vg"
   ]
  },
  {
   "cell_type": "markdown",
   "metadata": {},
   "source": [
    "4. Now that the variation from the reads is embedded into the graph along with the original variants, we can procede to call variants like we did above by computing read support as we show below."
   ]
  },
  {
   "cell_type": "code",
   "execution_count": null,
   "metadata": {},
   "outputs": [],
   "source": [
    "!vg pack -x graphs/SK1xyprp.chrVIII.pggb.aug.xg -g alignments/SK1xyprp.chrVIII.pggb.mapped.aug.gam -Q 5 -s 5 -o alignments/SK1xyprp.chrVIII.pggb.mapped.aug.pack -t 4"
   ]
  },
  {
   "cell_type": "markdown",
   "metadata": {},
   "source": [
    "5. Then, we generate a VCF from the support."
   ]
  },
  {
   "cell_type": "code",
   "execution_count": null,
   "metadata": {},
   "outputs": [],
   "source": [
    "!vg call graphs/SK1xyprp.chrVIII.pggb.aug.xg -k alignments/SK1xyprp.chrVIII.pggb.mapped.aug.pack -t 4 > variants/SK1xyprp.chrVIII.pggb.aug_calls.vcf"
   ]
  },
  {
   "cell_type": "markdown",
   "metadata": {},
   "source": [
    "6. Finally, we generate stats on this VCF file as we did above."
   ]
  },
  {
   "cell_type": "code",
   "execution_count": null,
   "metadata": {},
   "outputs": [],
   "source": [
    "!bcftools stats variants/SK1xyprp.chrVIII.pggb.aug_calls.vcf | grep \"^SN\""
   ]
  },
  {
   "cell_type": "markdown",
   "metadata": {},
   "source": [
    "<div class=\"alert alert-block alert-success\"> <b>Try this in the cells below:</b><br/>\n",
    "Call novel variants for the full genome graph (yprp.fullgenome.pggb.giraffe.gbz) by performing the following steps:\n",
    "    <ul>\n",
    "        <li>Convert the graph to .vg format.</li>\n",
    "        <li>Augment the graph to embed the read alignments.</li>\n",
    "        <li>Create an index (.xg).</li>\n",
    "        <li>Compute read support.</li>\n",
    "        <li>Generate a VCF.</li>\n",
    "        <li>Generate statistics.</li>\n",
    "    </ul>"
   ]
  },
  {
   "cell_type": "code",
   "execution_count": null,
   "metadata": {},
   "outputs": [],
   "source": [
    "# Convert the graph to vg format"
   ]
  },
  {
   "cell_type": "code",
   "execution_count": null,
   "metadata": {},
   "outputs": [],
   "source": [
    "# Augment the graph to embed the read alignments"
   ]
  },
  {
   "cell_type": "code",
   "execution_count": null,
   "metadata": {},
   "outputs": [],
   "source": [
    "# Create an index (xg)"
   ]
  },
  {
   "cell_type": "code",
   "execution_count": null,
   "metadata": {},
   "outputs": [],
   "source": [
    "# Compute read support"
   ]
  },
  {
   "cell_type": "code",
   "execution_count": null,
   "metadata": {},
   "outputs": [],
   "source": [
    "# Generate a VCF"
   ]
  },
  {
   "cell_type": "code",
   "execution_count": null,
   "metadata": {},
   "outputs": [],
   "source": [
    "# Generate statistics"
   ]
  },
  {
   "cell_type": "markdown",
   "metadata": {},
   "source": [
    "<details>\n",
    "<summary>Click for help</summary>\n",
    "<br>\n",
    "    \n",
    "!vg convert graphs/yprp.fullgenome.pggb.giraffe.gbz > graphs/yprp.fullgenome.pggb.giraffe.vg \n",
    "<br><br>\n",
    "!vg augment graphs/yprp.fullgenome.pggb.giraffe.vg alignments/SK1xyprp.fullgenome.pggb.mapped.gam -A alignments/SK1xyprp.fullgenome.pggb.mapped.aug.gam -t 4 > graphs/SK1xyprp.fullgenome.pggb.aug.vg \n",
    "<br><br>\n",
    "!vg index -t 4 -x graphs/SK1xyprp.fullgenome.pggb.aug.xg graphs/SK1xyprp.fullgenome.pggb.aug.vg\n",
    "<br><br>\n",
    "!vg pack -x graphs/SK1xyprp.fullgenome.pggb.aug.xg -g alignments/SK1xyprp.fullgenome.pggb.mapped.aug.gam -Q 5 -s 5 -o alignments/SK1xyprp.fullgenome.pggb.mapped.aug.pack -t 4\n",
    "<br><br>\n",
    "!vg call graphs/SK1xyprp.fullgenome.pggb.aug.xg -k alignments/SK1xyprp.fullgenome.pggb.mapped.aug.pack -t 4 > variants/SK1xyprp.fullgenome.pggb.aug_calls.vcf\n",
    "<br><br>\n",
    "!bcftools stats variants/SK1xyprp.fullgenome.pggb.aug_calls.vcf | grep \"^SN\"\n",
    "\n",
    "</details>"
   ]
  },
  {
   "cell_type": "markdown",
   "metadata": {},
   "source": [
    "----------------------\n",
    "\n",
    "## Variants used to construct the graph\n",
    "\n",
    "We can also pull out variants that are in the structure of the graph, which does not require aligning reads from a sample."
   ]
  },
  {
   "cell_type": "markdown",
   "metadata": {},
   "source": [
    "1. First, we will create a .xg formated graph with `vg index`."
   ]
  },
  {
   "cell_type": "code",
   "execution_count": null,
   "metadata": {},
   "outputs": [],
   "source": [
    "!vg index -t 4 -x graphs/yprp.chrVIII.pggb.xg graphs/yprp.chrVIII.pggb.vg"
   ]
  },
  {
   "cell_type": "markdown",
   "metadata": {},
   "source": [
    "2. Now, grab the variants from the graph using `vg deconstruct`.\n",
    "\n",
    "The parameters:\n",
    "  \n",
    "`-P` path prefix (variants will be called for all paths that start with this prefix)  \n",
    "`-t` number of threads\n",
    "\n",
    "Also, feed in the graph as a positional argument:  \n",
    "*Graph (xg)*\n",
    "\n",
    "<div class=\"alert alert-block alert-info\"> <b>NOTE:</b> VG takes liberties with variants when constructing the graph so this VCF might not be identical to those from other methods."
   ]
  },
  {
   "cell_type": "markdown",
   "metadata": {},
   "source": [
    "We will use the original chrVIII graph and export variants onto the S288C paths."
   ]
  },
  {
   "cell_type": "code",
   "execution_count": null,
   "metadata": {},
   "outputs": [],
   "source": [
    "!vg deconstruct graphs/yprp.chrVIII.pggb.xg -P S288C -t 20 > variants/yprp.chrVIII.pggb.S288Cpaths.deconstruct.vcf"
   ]
  },
  {
   "cell_type": "markdown",
   "metadata": {},
   "source": [
    "3. Get variant statistics."
   ]
  },
  {
   "cell_type": "code",
   "execution_count": null,
   "metadata": {},
   "outputs": [],
   "source": [
    "!bcftools stats variants/yprp.chrVIII.pggb.S288Cpaths.deconstruct.vcf | grep \"^SN\""
   ]
  },
  {
   "cell_type": "markdown",
   "metadata": {},
   "source": [
    "<div class=\"alert alert-block alert-success\"> <b>Try this for the full genome graph in the cell below:</b>  \n",
    "    <ul>\n",
    "        <li>Create an .xg version of graphs/yprp.fullgenome.pggb.vg using `vg index`</li>\n",
    "        <li>Deconstruct variants</li>\n",
    "        <li>Get the variant statistics.</li>\n",
    "    </ul>"
   ]
  },
  {
   "cell_type": "code",
   "execution_count": null,
   "metadata": {},
   "outputs": [],
   "source": [
    "# Index to create an .xg version"
   ]
  },
  {
   "cell_type": "code",
   "execution_count": null,
   "metadata": {},
   "outputs": [],
   "source": [
    "# Deconstruct variants from the full genome graph"
   ]
  },
  {
   "cell_type": "code",
   "execution_count": null,
   "metadata": {},
   "outputs": [],
   "source": [
    "# Get variant statistics"
   ]
  },
  {
   "cell_type": "markdown",
   "metadata": {},
   "source": [
    "<details>\n",
    "<summary>Click for help</summary>\n",
    "<br>\n",
    "!vg index -t 4 -x graphs/yprp.fullgenome.pggb.xg graphs/yprp.fullgenome.pggb.vg   \n",
    "<br><br>\n",
    "\n",
    "!vg deconstruct graphs/yprp.fullgenome.pggb.xg -P S288C -t 20 > variants/yprp.fullgenome.pggb.S288Cpaths.deconstruct.vcf\n",
    "<br><br>\n",
    "\n",
    "!bcftools stats variants/yprp.fullgenome.pggb.S288Cpaths.deconstruct.vcf | grep \"^SN\"\n",
    "\n",
    "</details>"
   ]
  },
  {
   "cell_type": "markdown",
   "metadata": {},
   "source": [
    "----------------------\n",
    "\n",
    "## Visualize the original and augmented graphs\n",
    "\n",
    "1. Compare CUP1 region of the original graph (yprp.chrVIII.pggb.gfa) and augmented graph (SK1xyprp.chrVIII.pggb.aug.vg, which we will convert to SK1xyprp.chrVIII.pggb.aug.gfa) in Bandage. First, convert the augmented graph to GFA format.\n",
    "\n",
    "The parameters:\n",
    "\n",
    "`-f`  output in GFA format\n",
    "\n",
    "Also, feed in the graph as a positional argument:  \n",
    "*graphs/SK1xyprp.chrVIII.pggb.aug.vg*"
   ]
  },
  {
   "cell_type": "code",
   "execution_count": null,
   "metadata": {},
   "outputs": [],
   "source": [
    "!vg convert -f graphs/SK1xyprp.chrVIII.pggb.aug.vg > graphs/SK1xyprp.chrVIII.pggb.aug.gfa"
   ]
  },
  {
   "cell_type": "markdown",
   "metadata": {},
   "source": [
    "2. Then visualize the CUP1 region in Bandage for the original graph (yprp.chrVIII.pggb.gfa) and the augmented graph (SK1xyprp.chrVIII.pggb.aug.gfa). In Bandage, under graph drawing, 100 is a good distance to use for the original graph and 200 for the augmented graphs. These distances will ensure that you extend far enough out from the BLAST hits so that the region is fully connected.\n",
    "\n",
    "<div class=\"alert alert-block alert-info\"> <b>NOTE:</b> The augmented graph is much bigger and it will have difficulty loading the entire chrVIII graph. So, before drawing the graph, BLAST the genes, then change the \"Scope\" to \"Around query hits,\" and change \"Distance\" to 200 for the augmented graph. Finally, click \"Draw Graph\" to apply these changes.</div>\n"
   ]
  },
  {
   "cell_type": "markdown",
   "metadata": {},
   "source": [
    "Run the code below to see the flashcard questions."
   ]
  },
  {
   "cell_type": "code",
   "execution_count": null,
   "metadata": {},
   "outputs": [],
   "source": [
    "from IPython.display import IFrame\n",
    "IFrame('../html/flashcard_viz.html', width=800, height=550)"
   ]
  },
  {
   "cell_type": "markdown",
   "metadata": {},
   "source": [
    "<details>\n",
    "<summary>Click for a copy of visualizations of the two graphs.</summary>\n",
    "<br>\n",
    "CUP1 region from the original graph.  \n",
    "\n",
    "<figure>\n",
    "  <img\n",
    "    src=\"./Figures/cup1only.png\"\n",
    "    alt=\"CUP1\" />\n",
    "  <figcaption></figcaption>\n",
    "</figure>\n",
    "\n",
    "<br>\n",
    "CUP1 region from the augmented graph.  \n",
    "\n",
    "<figure>\n",
    "  <img\n",
    "    src=\"./Figures/auggraph.png\"\n",
    "    alt=\"CUP1aug\" />\n",
    "  <figcaption></figcaption>\n",
    "</figure>\n",
    "\n",
    "</details>"
   ]
  },
  {
   "cell_type": "markdown",
   "metadata": {},
   "source": [
    "----------------------\n",
    "\n",
    "## Conclusion\n",
    "\n",
    "In this submodule, you learned different ways to call and characterize variants from the graph, including variants supported within the graph and novel variants supported by reads that were used to augment the graph."
   ]
  },
  {
   "cell_type": "markdown",
   "metadata": {},
   "source": [
    "----------------------\n",
    "\n",
    "## Module Review\n",
    "\n",
    "Congratulations, you have completed the pangenomics module!\n",
    "\n",
    "In this module, you learned about pangenomics and used a yeast dataset to build pangenomics graphs using PGGB. You learned how to search these graphs for regions that match DNA sequence queries using BLAST and how to interactively visualize these graphs using Bandage. In addition, you learned how to use VG to index the graphs, map reads to the graphs, and call variants. Well done!\n",
    "\n",
    "----------------------"
   ]
  },
  {
   "cell_type": "markdown",
   "metadata": {},
   "source": [
    "## Clean up\n",
    "\n",
    "<div class=\"alert alert-warning\">No cleanup is necessary for this submodule. Don't forget to shutdown your Workbench when you are done working through this module!  \n",
    "\n",
    "----------------------\n",
    "    \n",
    "If you do not plan to come back to review this module or to try to run your own data in this environment, delete your Workbench so you do not continue to incur charges.\n",
    "\n",
    "</div>"
   ]
  }
 ],
 "metadata": {
  "environment": {
   "kernel": "conda-env-nigms-pangenomics-nigms-pangenomics",
   "name": "workbench-notebooks.m127",
   "type": "gcloud",
   "uri": "us-docker.pkg.dev/deeplearning-platform-release/gcr.io/workbench-notebooks:m127"
  },
  "kernelspec": {
   "display_name": "nigms-pangenomics",
   "language": "python",
   "name": "conda-env-nigms-pangenomics-nigms-pangenomics"
  },
  "language_info": {
   "codemirror_mode": {
    "name": "ipython",
    "version": 3
   },
   "file_extension": ".py",
   "mimetype": "text/x-python",
   "name": "python",
   "nbconvert_exporter": "python",
   "pygments_lexer": "ipython3",
   "version": "3.12.10"
  }
 },
 "nbformat": 4,
 "nbformat_minor": 4
}
