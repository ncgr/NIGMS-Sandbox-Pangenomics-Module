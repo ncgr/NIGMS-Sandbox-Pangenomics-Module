{
 "cells": [
  {
   "cell_type": "raw",
   "id": "42fcafb1",
   "metadata": {},
   "source": [
    "---\n",
    "title: \"Pangenomics Workshop NCGR\"\n",
    "site: bookdown::bookdown_site\n",
    "documentclass: book\n",
    "bibliography: [book.bib, packages.bib]\n",
    "# url: your book url like https://bookdown.org/yihui/bookdown\n",
    "# cover-image: path to the social sharing image like images/cover.jpg\n",
    "description: |\n",
    "  This is the material for a Pangenomics course offered by NCGR in collaboration\n",
    "  with NM-INBRE.\n",
    "link-citations: yes\n",
    "github-repo: ncgr/Pangenomics-Bookdown\n",
    "---"
   ]
  },
  {
   "cell_type": "markdown",
   "id": "32a270d4",
   "metadata": {},
   "source": [
    "![Instructors](./Figures/JoannAlan.png){width=80%}\n",
    "\n",
    "# License and Copyright\n",
    "\n",
    "Creative Commons Attribution-NonCommercial-NoDerivatives 4.0\n",
    "https://creativecommons.org/licenses/by-nc-nd/4.0/\n",
    "\n",
    "© 2023 National Center for Genome Resources\n",
    "\n",
    "Please let us know who is using this document so we can account for them on our annual reports (thank you!) (you can email Ethan: eprice\\@ncgr.org and cc inbre\\@ncgr.org).\n",
    "\n",
    "This document is available at https://inbre.ncgr.org/pangenomics-workshop"
   ]
  }
 ],
 "metadata": {},
 "nbformat": 4,
 "nbformat_minor": 5
}
