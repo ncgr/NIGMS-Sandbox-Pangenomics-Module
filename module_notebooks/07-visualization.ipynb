{
 "cells": [
  {
   "cell_type": "markdown",
   "metadata": {},
   "source": [
    "# Pangenomics\n",
    "--------------------------------------------"
   ]
  },
  {
   "cell_type": "markdown",
   "metadata": {},
   "source": [
    "# Visualizing Graphs with Bandage"
   ]
  },
  {
   "cell_type": "markdown",
   "metadata": {},
   "source": [
    "## Overview\n",
    "\n",
    "Bandage can be used to visualize and interact with pangenomic graphs. You will learn how to visualize graphs with Bandage and how to BLAST DNA sequences and visualize them on the graph."
   ]
  },
  {
   "cell_type": "markdown",
   "metadata": {},
   "source": [
    "## Learning Objectives\n",
    "+ Learn how to visualize pangenomic graphs using Bandage\n",
    "+ Learn how to BLAST sequences against the graph and visualize them within Bandage"
   ]
  },
  {
   "cell_type": "markdown",
   "metadata": {},
   "source": [
    "## Get Started\n",
    "\n",
    "### Visualizing Genomes\n",
    "\n",
    "Pangenomic graphs can be very complex, often looking like \"hairballs\". Bandage allows us to zoom in on interesting regions to visualize and interact with them.\n",
    "\n",
    "![Compressed de Bruijn graphs “hairballs”: https://academic.oup.com/bioinformatics/article/30/24/3476/2422268](./Figures/hairballsB.png)\n"
   ]
  },
  {
   "cell_type": "markdown",
   "metadata": {},
   "source": [
    "### Bandage\n",
    "\n",
    "Bandage is an interactive graph visualizer. The Bandage acronym stands for:\n",
    "a **B**ioinformatics **A**pplication for **N**avigating **D**e novo **A**ssembly **G**raphs **E**asily\n",
    "\n",
    "![Bandage: https://rrwick.github.io/Bandage/](./Figures/Bandage.png)\n",
    "\n",
    "In addition to visualizing graphs, Bandage has BLAST integration that allows you to query the graph with DNA sequences.\n",
    "\n",
    "+ BLAST integration\n",
    "  + Can build a local BLAST database of the graph\n",
    "  + Can do a web BLAST search with sequences from nodes\n",
    "\n",
    "Bandage also allows you to label and color nodes by uploading comma separated value (CSV) text files with metadata.\n",
    "\n",
    "Details on creating CSV files can be found [here](https://github.com/rrwick/Bandage/wiki/CSV-labels).\n"
   ]
  },
  {
   "cell_type": "markdown",
   "metadata": {},
   "source": [
    "Open up Bandage in your browswer:\n",
    "\n",
    "- From the Launcher tab (File : New Launcher), scroll down to the \"Visualization Software\" section and click on \"Bandage\"."
   ]
  },
  {
   "cell_type": "markdown",
   "metadata": {},
   "source": [
    "Once in Bandage, choose \"File : Load Graph\". Navigate to \"yprp.chrVIII.pggb.gfa\" (click on \"Computer\" then \"/\" then navigate to /home/jupyter/NIGMS-Sandbox-Pangenomics-Module/module_notebooks/).\n",
    "\n",
    "Click on \"Draw Graph\". Note: it will draw the graph differently every time.\n",
    "\n",
    "Under \"Graph Information\", choose \"More Info\" to see more stats about the graph."
   ]
  },
  {
   "cell_type": "markdown",
   "metadata": {},
   "source": [
    "### BLAST graph\n",
    "\n",
    "Open up \"Graph Search\" and then click on \"Create/view graph search\".\n",
    "\n",
    "Click on \"Build BLAST database\" to build a database from the graph.\n",
    "\n",
    "Click on \"Load from FASTA file\" and choose the \"genes.fa\" file.\n",
    "\n",
    "Click \"Run BLAST search\"."
   ]
  },
  {
   "cell_type": "markdown",
   "metadata": {},
   "source": [
    "Take a look at the table down below and see the hits that both of the genes have and the colors each has been assigned.\n",
    "\n",
    "Hit \"close\"."
   ]
  },
  {
   "cell_type": "markdown",
   "metadata": {},
   "source": [
    "Under \"Graph Drawing\", change scope to \"Around Query Hits\" and in the \"Distance\" box, type in 100. This will show the CUP1 and YHR054C gene hits plus the surrounding 100 nodes.\n",
    "\n",
    "Under \"Graph Display\", change \"Random Colours\" to \"Gray Color\" so that the gene hits will stand out.\n",
    "\n",
    "Scroll down on the lefthand side and click on \"Annotations\". Double-click on the \"Blast Hits\" that appears under annotations. Click on \"Solid\" and click on the \"x\" in the upper right to close the screen. This will show the blast hits in solid colors.\n",
    "\n",
    "NOTE: If you don't see both blue (CUP1) and green (YHR054C) genes then choose \"Query: All\" under \"Graph Search\"."
   ]
  },
  {
   "cell_type": "markdown",
   "metadata": {},
   "source": [
    "<details>\n",
    "<summary>Graph of the CUP1 region.</summary>\n",
    "<br>\n",
    "The graph layout algorithm does not lay out the graph the same each time so yours might look slightly different.  \n",
    "    \n",
    "Blue = CUP1 genes  \n",
    "Green = YHR054C genes\n",
    "\n",
    "![CUP1 region](./Figures/CUP1region.png)\n",
    "</details>"
   ]
  },
  {
   "cell_type": "markdown",
   "metadata": {},
   "source": [
    "### Paths\n",
    "\n",
    "Look at the paths through the graph (ie. the paths that each of the accession's genome assembly takes through the graph). On the righthand side under \"Find paths\", in the name box, start typing \"Y12_chrVIII\" (it should pop up as you type and you can choose it).\n",
    "\n",
    "Click on \"Find Path\" and dismiss the \"Nodes not found\" dialog that pops up (\"x\" in the upper right of the dialog box). The nodes not found are the nodes in the Y12 genome assembly path that are not in our view.\n",
    "\n",
    "Click on \"recolor\" and then \"set colour\" and choose a color. This will color any nodes this genome goes through, though the coloring will be underneath the BLAST hit colors. It will also change the color under \"Graph Display\" to \"Custom Colours.\"\n",
    "\n",
    "NOTE: You can toggle the gene BLAST hit colors on and off by double-clicking on \"BLAST hits\" under \"Annotation\" to see the paths more clearly (if BLAST hits are off) or to see the genes in relation to the BLAST hits (if BLAST hits are on).\n",
    "\n",
    "NOTE: you can drag the nodes around to further explore the graph.\n",
    "\n",
    "When you are done, set the color under Graph Display\" to \"Gray Color\" to remove the path.\n",
    "\n",
    "Now identify the other 2 paths (SK1_chrVIII and S288C_chrVIII) and count how many CUP1 genes there are."
   ]
  },
  {
   "cell_type": "code",
   "execution_count": null,
   "metadata": {},
   "outputs": [],
   "source": [
    "#Load jupyterquiz library\n",
    "from jupyterquiz import display_quiz"
   ]
  },
  {
   "cell_type": "code",
   "execution_count": null,
   "metadata": {},
   "outputs": [],
   "source": [
    "#Display quiz as html\n",
    "#Instructions for creating quiz .json files and converting to html provided in the links below\n",
    "from IPython.display import IFrame\n",
    "IFrame('../html/quiz_cup1.html', width=800, height=400)"
   ]
  },
  {
   "cell_type": "markdown",
   "metadata": {},
   "source": [
    "<details>\n",
    "<summary>Graphs of the CUP1 region with the paths highlighted.</summary>\n",
    "<br>\n",
    "The graph layout algorithm does not lay out the graph the same each time so yours might look slightly different.  \n",
    "    \n",
    "Blue = CUP1 genes  \n",
    "Green = YHR054C genes\n",
    "\n",
    "Y12 = yellow\n",
    "\n",
    "![Y12](./Figures/Y12cup1.png)\n",
    "\n",
    "\n",
    "SK1 = light blue\n",
    "\n",
    "![SK1](./Figures/SK1cup1.png)\n",
    "\n",
    "\n",
    "S288C = pink\n",
    "\n",
    "![S288C](./Figures/S288Ccup1.png)\n",
    "\n",
    "</details>"
   ]
  },
  {
   "cell_type": "markdown",
   "metadata": {},
   "source": [
    "And here is the published figure that you saw in the previous chapter. The number of CUP1 genes and YHR054C genes we found in our graph match those in the figures. Note that some of the genes are labelled in the figure as pseudogenes or partial genes, which is hard to tell from our graphs."
   ]
  },
  {
   "cell_type": "markdown",
   "metadata": {},
   "source": [
    "<details>\n",
    "<summary>Figure showing the CUP1 region across several yeast accessions.</summary>\n",
    "<br>\n",
    "\n",
    "![Yeast Genomes: https://yjx1217.github.io/Yeast_PacBio_2016/welcome/](./Figures/YeastB.png)\n",
    "\n",
    "</details>\n",
    "\n"
   ]
  },
  {
   "cell_type": "markdown",
   "metadata": {},
   "source": [
    "## Conclusion\n",
    "You have learned how to visualize a pangenomic graph, find genes using BLAST, and interact with the graph structures."
   ]
  },
  {
   "cell_type": "markdown",
   "metadata": {},
   "source": [
    "## Clean up\n",
    "No cleanup is necessary for this submodule. Don't forget to shutdown your Workbench when you are done working through this module!"
   ]
  }
 ],
 "metadata": {
  "environment": {
   "kernel": "conda-env-nigms-pangenomics-nigms-pangenomics",
   "name": "workbench-notebooks.m127",
   "type": "gcloud",
   "uri": "us-docker.pkg.dev/deeplearning-platform-release/gcr.io/workbench-notebooks:m127"
  },
  "kernelspec": {
   "display_name": "nigms-pangenomics",
   "language": "python",
   "name": "conda-env-nigms-pangenomics-nigms-pangenomics"
  },
  "language_info": {
   "codemirror_mode": {
    "name": "ipython",
    "version": 3
   },
   "file_extension": ".py",
   "mimetype": "text/x-python",
   "name": "python",
   "nbconvert_exporter": "python",
   "pygments_lexer": "ipython3",
   "version": "3.12.8"
  }
 },
 "nbformat": 4,
 "nbformat_minor": 4
}
