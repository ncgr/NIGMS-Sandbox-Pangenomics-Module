{
 "cells": [
  {
   "cell_type": "markdown",
   "metadata": {},
   "source": [
    "# Pangenomics\n",
    "--------------------------------------------"
   ]
  },
  {
   "cell_type": "markdown",
   "metadata": {},
   "source": [
    "# Variant Calling with vg"
   ]
  },
  {
   "cell_type": "markdown",
   "metadata": {},
   "source": [
    "## Overview\n",
    "\n",
    "Variants can be called within the pangenomic graph and by aligning reads to the graph. You will learn how to call variants both ways in this submodule."
   ]
  },
  {
   "cell_type": "markdown",
   "metadata": {},
   "source": [
    "## Learning Objectives\n",
    "+ Understand different types of variants\n",
    "+ Understand our ability to call variants with different types of reads and pangenomic graphs\n",
    "+ Learn how to call and interpret variants with vg"
   ]
  },
  {
   "cell_type": "markdown",
   "metadata": {},
   "source": [
    "## Get Started\n",
    "\n",
    "First we will learn how to identify variants that are supported by the graph. Then we'll look at identifying novel variants that are not in the graphs."
   ]
  },
  {
   "cell_type": "markdown",
   "metadata": {},
   "source": [
    "### Call Variants\n",
    "\n",
    "We will look for variants in the aligned reads that are supported by the graph as well as for variants that are novel (not in the graph but supported by the reads aligned to the graph).\n",
    "\n",
    "We will call variants against the graph, though you could also call variants using the surjected BAM file and traditional variant calling methods."
   ]
  },
  {
   "cell_type": "markdown",
   "metadata": {},
   "source": [
    "### Calling Graph Supported Variants\n",
    "\n",
    "Compute read support for variation already in the graph using `vg pack`.\n",
    "\n",
    "The parameters:\n",
    "\n",
    "-x  the graph \n",
    "-g  aligments in gam format  \n",
    "-Q  ignore mapping and base qualities < N  \n",
    "-s  ignore the first and last N nucleotides of each read  \n",
    "-o  the output pack file  \n",
    "-t  use N threads"
   ]
  },
  {
   "cell_type": "code",
   "execution_count": null,
   "metadata": {},
   "outputs": [],
   "source": [
    "!vg pack -x yprp.chrVIII.pggb.giraffe.gbz -g SK1xyprp.chrVIII.pggb.mapped.gam -Q 5 -s 5 -t 4 -o yprp.chrVIII.pggb.mapped.pack"
   ]
  },
  {
   "cell_type": "markdown",
   "metadata": {},
   "source": [
    "Generate a VCF from the read support using `vg call`.\n",
    "\n",
    "The parameters:\n",
    "\n",
    "-k  The read support file to read in  \n",
    "-t  The number of threads\n",
    "The graph"
   ]
  },
  {
   "cell_type": "code",
   "execution_count": null,
   "metadata": {},
   "outputs": [],
   "source": [
    "!vg call -k yprp.chrVIII.pggb.mapped.pack -t 4 yprp.chrVIII.pggb.giraffe.gbz > SK1xyprp.chrVIII.pggb.graph_calls.vcf"
   ]
  },
  {
   "cell_type": "markdown",
   "metadata": {},
   "source": [
    "<div class=\"alert alert-block alert-info\"> <b>Try this:</b>  \n",
    "    <ul>\n",
    "        <li>Create a blank code cell below.</li>\n",
    "        <li>Call variants in the full genome graph by computing read support and then generating a vcf file.</li>\n",
    "    </ul>"
   ]
  },
  {
   "cell_type": "markdown",
   "metadata": {},
   "source": [
    "<details>\n",
    "<summary>Click for help</summary>\n",
    "<br>\n",
    "!vg pack -x yprp.fullgenome.pggb.giraffe.gbz -g SK1xyprp.fullgenome.pggb.mapped.gam -Q 5 -s 5 -o yprp.fullgenome.pggb.mapped.pack -t 4   \n",
    "\n",
    "\n",
    "!vg call -k yprp.fullgenome.pggb.mapped.pack -t 4 yprp.fullgenome.pggb.giraffe.gbz > yprp.fullgenome.pggb.graph_calls.vcf\n",
    "</details>"
   ]
  },
  {
   "cell_type": "markdown",
   "metadata": {},
   "source": [
    "### Including Novel Variant Calls\n",
    "\n",
    "To call novel variants, those variants supported by the aligned reads, we need to embed the variation from the reads we aligned back into the graph. To do this we need to convert the graph into a form that we can change. We will use `vg convert` to convert the .gbz file to a .vg file."
   ]
  },
  {
   "cell_type": "code",
   "execution_count": null,
   "metadata": {},
   "outputs": [],
   "source": [
    "!vg convert yprp.chrVIII.pggb.giraffe.gbz > yprp.chrVIII.pggb.giraffe.vg"
   ]
  },
  {
   "cell_type": "markdown",
   "metadata": {},
   "source": [
    "Now, we can augment the graph with the mapped reads using `vg augment`. This will embed the variation from the alignments back into the graph.\n",
    "\n",
    "The Parameters:\n",
    "\n",
    "-A  new, augmented graph with aligned reads  \n",
    "-t  the number of threads to use  \n",
    "The graph  \n",
    "The input alignment (gam) file\n"
   ]
  },
  {
   "cell_type": "code",
   "execution_count": null,
   "metadata": {},
   "outputs": [],
   "source": [
    "!vg augment yprp.chrVIII.pggb.giraffe.vg SK1xyprp.chrVIII.pggb.mapped.gam -A SK1xyprp.chrVIII.pggb.mapped.aug.gam -t 4 > SK1xyprp.chrVIII.pggb.aug.vg "
   ]
  },
  {
   "cell_type": "markdown",
   "metadata": {},
   "source": [
    "Index the augmented graph using `vg index`. We will make a .xg index.\n",
    "\n",
    "The prameters:\n",
    "\n",
    "-x  output file\n",
    "-t  the number of threads  \n",
    "The input graph"
   ]
  },
  {
   "cell_type": "code",
   "execution_count": null,
   "metadata": {},
   "outputs": [],
   "source": [
    "!vg index -t 4 -x SK1xyprp.chrVIII.pggb.aug.xg SK1xyprp.chrVIII.pggb.aug.vg"
   ]
  },
  {
   "cell_type": "markdown",
   "metadata": {},
   "source": [
    "Now that the variation from the reads is embedded into the graph along with the original variants, we can procede to call variants like we did above. \n",
    "\n",
    "Compute read support."
   ]
  },
  {
   "cell_type": "code",
   "execution_count": null,
   "metadata": {},
   "outputs": [],
   "source": [
    "!vg pack -x SK1xyprp.chrVIII.pggb.aug.xg -g SK1xyprp.chrVIII.pggb.mapped.aug.gam -Q 5 -s 5 -o SK1xyprp.chrVIII.pggb.mapped.aug.pack -t 4"
   ]
  },
  {
   "cell_type": "markdown",
   "metadata": {},
   "source": [
    "Generate a VCF from the support."
   ]
  },
  {
   "cell_type": "code",
   "execution_count": null,
   "metadata": {},
   "outputs": [],
   "source": [
    "!vg call SK1xyprp.chrVIII.pggb.aug.xg -k SK1xyprp.chrVIII.pggb.mapped.aug.pack -t 4 > SK1xyprp.chrVIII.pggb.aug_calls.vcf"
   ]
  },
  {
   "cell_type": "markdown",
   "metadata": {},
   "source": [
    "Generate stats on this VCF file. We will use `grep` to pull out the rows that start with SN."
   ]
  },
  {
   "cell_type": "code",
   "execution_count": null,
   "metadata": {},
   "outputs": [],
   "source": [
    "!bcftools stats SK1xyprp.chrVIII.pggb.aug_calls.vcf | grep \"^SN\""
   ]
  },
  {
   "cell_type": "markdown",
   "metadata": {},
   "source": [
    "SNPs = single nucleotide polymorphisms (a single nucleotide change; reference and alternate alleles are all of length 1)  \n",
    "MNPs = multi-nucleotide polymorphisms (reference and alternate alleles are all of the same length and that length is >1)  \n",
    "indels = insertion/deletion (reference and alternate alleles are of different lengths)\n",
    "others = more complex variants\n",
    "multiallelic sites = more than one alternate allele\n",
    "multiallelic SNP sites = more than one alternate allele at a SNP site"
   ]
  },
  {
   "cell_type": "markdown",
   "metadata": {},
   "source": [
    "<div class=\"alert alert-block alert-info\"> <b>Try this:</b>  \n",
    "    <ul>\n",
    "        <li>Create a blank code cell below.</li>\n",
    "        <li>Call novel variants for the yprp.fullgenome.pggb.giraffe.gbz graph.</li>\n",
    "        <li>+ Convert the graph to vg format.</li>\n",
    "        <li>+ Augment the graph to embed the read alignments into it.</li>\n",
    "        <li>+ Create an index (xg).</li>\n",
    "        <li>+ Compute read support.</li>\n",
    "        <li>+ Generate a VCF.</li>\n",
    "        <li>+ Generate statistics.</li>\n",
    "    </ul>"
   ]
  },
  {
   "cell_type": "markdown",
   "metadata": {},
   "source": [
    "<details>\n",
    "<summary>Click for help</summary>\n",
    "<br>\n",
    "    \n",
    "!vg convert yprp.fullgenome.pggb.giraffe.gbz > yprp.fullgenome.pggb.giraffe.vg \n",
    "\n",
    "!vg augment yprp.fullgenome.pggb.giraffe.vg SK1xyprp.fullgenome.pggb.mapped.gam -A SK1xyprp.fullgenome.pggb.mapped.aug.gam -t 4 > SK1xyprp.fullgenome.pggb.aug.vg \n",
    "\n",
    "!vg index -t 4 -x SK1xyprp.fullgenome.pggb.aug.xg SK1xyprp.fullgenome.pggb.aug.vg\n",
    "\n",
    "!vg pack -x SK1xyprp.fullgenome.pggb.aug.xg -g SK1xyprp.fullgenome.pggb.mapped.aug.gam -Q 5 -s 5 -o SK1xyprp.fullgenome.pggb.mapped.aug.pack -t 4\n",
    "\n",
    "!vg call SK1xyprp.fullgenome.pggb.aug.xg -k SK1xyprp.fullgenome.pggb.mapped.aug.pack -t 4 > SK1xyprp.fullgenome.pggb.aug_calls.vcf\n",
    "\n",
    "!bcftools stats SK1xyprp.fullgenome.pggb.aug_calls.vcf | grep \"^SN\"\n",
    "\n",
    "</details>"
   ]
  },
  {
   "cell_type": "code",
   "execution_count": null,
   "metadata": {},
   "outputs": [],
   "source": [
    "## Variants used to construct the graph\n",
    "\n",
    "We can also pull out variants that are in the structure of the graph, which does not require aligning reads from a sample."
   ]
  },
  {
   "cell_type": "markdown",
   "metadata": {},
   "source": [
    "First, we will create a .xg formated graph with `vg index`."
   ]
  },
  {
   "cell_type": "code",
   "execution_count": null,
   "metadata": {},
   "outputs": [],
   "source": [
    "!vg index -t 4 -x yprp.chrVIII.pggb.xg yprp.chrVIII.pggb.vg"
   ]
  },
  {
   "cell_type": "markdown",
   "metadata": {},
   "source": [
    "Now, grab the variants from the graph using `vg deconstruct`.\n",
    "\n",
    "The parameters:\n",
    "\n",
    "Graph (xg)\n",
    "-P path prefix (variants will be called for all paths that start with this prefix)  \n",
    "-t number of threads\n",
    "\n",
    "NOTE: VG takes liberties with variants when constructing the graph so this VCF might not be identical to those from other methods."
   ]
  },
  {
   "cell_type": "raw",
   "metadata": {},
   "source": [
    "We will use the original chrVIII graph and export variants onto the S288C paths."
   ]
  },
  {
   "cell_type": "code",
   "execution_count": null,
   "metadata": {},
   "outputs": [],
   "source": [
    "!vg deconstruct yprp.chrVIII.pggb.xg -P S288C -t 20 > yprp.chrVIII.pggb.S288Cpaths.deconstruct.vcf"
   ]
  },
  {
   "cell_type": "markdown",
   "metadata": {},
   "source": [
    "<div class=\"alert alert-block alert-info\"> <b>Try this:</b>  \n",
    "    <ul>\n",
    "        <li>Create a blank code cell below.</li>\n",
    "        <li>Deconstruct variants from the full genome graph (yprp.fullgenome.pggb.giraffe.vg)</li>\n",
    "        <li>Hint: first you will need to create and .xg version using `vg index`</li>\n",
    "    </ul>"
   ]
  },
  {
   "cell_type": "markdown",
   "metadata": {},
   "source": [
    "<details>\n",
    "<summary>Click for help</summary>\n",
    "<br>\n",
    "!vg index -t 4 -x yprp.fullgenome.pggb.xg yprp.fullgenome.pggb.vg   \n",
    "\n",
    "\n",
    "!vg deconstruct yprp.fullgenome.pggb.xg -P S288C -t 20 > yprp.fullgenome.pggb.S288Cpaths.deconstruct.vcf\n",
    "</details>"
   ]
  },
  {
   "cell_type": "markdown",
   "metadata": {},
   "source": [
    "### Visualize the original and augmented graphs\n",
    "\n",
    "Compare CUP1 region of the original graph (yprp.chrVIII.pggb.gfa) and augmented graph (SK1xyprp.chrVIII.pggb.aug.vg, which we will convert to SK1xyprp.chrVIII.pggb.aug.gfa) in bandage. First, convert the augmented graph to gfa format.\n",
    "\n",
    "The parameters:\n",
    "\n",
    "-f  output in GFA format"
   ]
  },
  {
   "cell_type": "code",
   "execution_count": null,
   "metadata": {},
   "outputs": [],
   "source": [
    "vg convert -f SK1xyprp.chrVIII.pggb.aug.vg > SK1xyprp.chrVIII.pggb.aug.gfa"
   ]
  },
  {
   "cell_type": "markdown",
   "metadata": {},
   "source": [
    "Now visualize the CUP1 region of each .gfa file in bandage.\n",
    "\n",
    "NOTE: The augmented graph is much bigger and it will have difficulty loading the entire chrVIII graph. So, before drawing the graph, blast the genes. Change the \"Scope\" to \"Around query hits\". Change \"Distance\" to 200 for the augmented graph. Then click \"Draw Graph\".  \n"
   ]
  },
  {
   "cell_type": "markdown",
   "metadata": {},
   "source": [
    "<div class=\"alert alert-block alert-info\"> <b>Questions:</b>  \n",
    "    <ul>\n",
    "        <li>What differences do you see between the CUP1 region in both graphs?</li>\n",
    "        <li>How do the number of nodes, number of edges, and the total length differ between the original and the augmented graph?</li>\n",
    "    </ul>"
   ]
  },
  {
   "cell_type": "markdown",
   "metadata": {},
   "source": [
    "<details>\n",
    "<summary>Click for possible answers</summary>\n",
    "<br>\n",
    "CUP1 region from the original graph.  \n",
    "\n",
    "![CUP1 region](./Figures/CUP1region.png)\n",
    "\n",
    "CUP1 region from the augmented graph.\n",
    "\n",
    "![CUP1 region](./Figures/auggraph.png)\n",
    "\n",
    "These graphs are actually fairly similar except the augment graph is much more broken up, making the graph look like it has more \"dotted\" lines. There are small differences in the loops, especially the double loop near the 2 straight ends.\n",
    "\n",
    "\n",
    "|        | Original | Augmented |\n",
    "|--------|----------|-----------|\n",
    "| Nodes  | 18,856   | 590,574   |\n",
    "| Edges  | 25,371   | 886,845   |\n",
    "| Length | 623,013  | 938,699   |\n",
    "\n",
    "\n",
    "The augmented graph is broken into many more pieces. This is expected given that adding in variation breaks nodes. It is also much longer, capturing more genetic variation.\n",
    "</details>"
   ]
  },
  {
   "cell_type": "markdown",
   "metadata": {},
   "source": [
    "## Conclusion\n",
    "\n",
    "In this submodule, you learned different ways to call and characterize variants from the graph, including variants supported within the graph and variants supported by reads mapped to the graph."
   ]
  },
  {
   "cell_type": "markdown",
   "metadata": {},
   "source": [
    "## Clean up\n",
    "No cleanup is necessary for this submodule. Don't forget to shutdown your Workbench when you are done working through this module!"
   ]
  }
 ],
 "metadata": {
  "kernelspec": {
   "display_name": "nigms-pangenomics",
   "language": "python",
   "name": "conda-env-nigms-pangenomics-nigms-pangenomics"
  },
  "language_info": {
   "codemirror_mode": {
    "name": "ipython",
    "version": 3
   },
   "file_extension": ".py",
   "mimetype": "text/x-python",
   "name": "python",
   "nbconvert_exporter": "python",
   "pygments_lexer": "ipython3",
   "version": "3.12.9"
  }
 },
 "nbformat": 4,
 "nbformat_minor": 4
}
