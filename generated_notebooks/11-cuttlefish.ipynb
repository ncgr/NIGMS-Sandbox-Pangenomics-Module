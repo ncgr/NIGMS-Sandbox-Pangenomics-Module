{
 "cells": [
  {
   "cell_type": "markdown",
   "id": "79711edd",
   "metadata": {},
   "source": [
    "# Cuttlefish\n",
    "\n",
    "\"Cuttlefish is a program to produce the compacted de Bruijn graph from sequencing reads or reference sequences.\"\n",
    "\n",
    "<center>\n",
    "![<font size=\"0.5\">David Sim from London, United Kingdom, CC BY 2.0 <https://creativecommons.org/licenses/by/2.0>, via Wikimedia Commons</font>](./Figures/Cuttlefish.jpeg){width=50%} \n",
    "</center>\n",
    "\n",
    "Cuttlefish Code  \n",
    "https://github.com/COMBINE-lab/cuttlefish\n",
    "\n",
    "Original Cuttlefish  \n",
    "https://academic.oup.com/bioinformatics/article/37/Supplement_1/i177/6319696?login=false\n",
    "\n",
    "Cuttlefish 2  \n",
    "https://genomebiology.biomedcentral.com/articles/10.1186/s13059-022-02743-6"
   ]
  },
  {
   "cell_type": "markdown",
   "id": "f02a6244",
   "metadata": {},
   "source": [
    "## Colored compact De Bruijn Graphs\n",
    "\n",
    "Cuttlefish produces colored compact de Bruijn graphs. The \"color\" is the paths of each assembly through the graph. It is really fast, memory efficient, and highly scalable.\n",
    "\n",
    "<center>\n",
    "![<font size=\"0.5\">https://www.biorxiv.org/content/10.1101/2020.03.06.980979v1.full.pdf</font>](./Figures/cdbg.png){width=50%} \n",
    "</center>\n",
    "\n",
    "## Kmers\n",
    "\n",
    "It uses a version of KMC3, a fast and low memory algorithm for identifying and manipulating kmers. KMC3 and Cuttlefish have an overlaping set of authors.\n",
    "\n",
    "<center>\n",
    "![KMC3](./Figures/KMC3.png){width=80%} \n",
    "</center>\n",
    "\n",
    "Canonical kmers are used (kmers that are reverse complements of each other are treated as the same kmer).\n",
    "\n",
    "Kmers must be odd. Max kmer sizes are 63 in the default installation but can be configured up to 127 when installing.\n",
    "\n",
    "## Cuttlefish 1 vs 2\n",
    "\n",
    "Cuttlefish 1 and Cuttlefish 2 are packaged together. Some parameters are specific for each version and you cannot choose parameters specific to version 1 and to version 2 in the same run. Cuttlefish 2 is also supposed to be faster, though it didn't seem to be on the yeast data.\n",
    "\n",
    "**Cuttlefish 1**  \n",
    "Input = assembled reference sequences  \n",
    "Output = GFA (version 1 or 2), reduced GFA, fasta\n",
    "\n",
    "**Cuttlefish 2**  \n",
    "Input = sequencing reads or reference sequences (not both)  \n",
    "Output = fasta (others coming soon)"
   ]
  },
  {
   "cell_type": "markdown",
   "id": "11575b07",
   "metadata": {},
   "source": [
    "A few notes on output formats: \n",
    "\n",
    "+ The fasta format for both versions is the sequence of the maximal unitigs (non-branching paths) of the de Bruijn graph  \n",
    "+ When using GFA, we'll use GFA1, which is more appropriate for pangenomics. More info at the websites below if you want to learn more.  \n",
    "+ http://gfa-spec.github.io/GFA-spec/GFA2.html  \n",
    "+ https://github.com/GFA-spec/GFA-spec/issues/49  \n",
    "+ The reduced GFA format has 2 files with extensions .cf_seg (maximal unitigs = GFA1 segments) and .cf_seq (tiling with orientation = GFA1 paths).\n",
    "\n",
    "\"For moderate to large sized genomes, this [reduced-GFA] output format is preferrable to the GFA ones as the GFA formats can be quite verbose for this particular scenario, while the reduced representation provides effitively the same information, while taking much less space. For example, for the 7-human genome dataset (experimented with in the manuscripts) and using k = 31, the compacted graph takes 112 GB in GFA2, but only 29.3 GB in this reduced format.\"\n",
    "\n",
    "https://github.com/COMBINE-lab/cuttlefish#io-formats"
   ]
  },
  {
   "cell_type": "markdown",
   "id": "84590c05",
   "metadata": {},
   "source": [
    "## Running Cuttlefish\n",
    "\n",
    "### Increase the ulimit {-}\n",
    "\n",
    "Cuttlefish often exceeds the open file-handle limit and gives an error that is hard to decipher. We'll increase it before we run."
   ]
  },
  {
   "cell_type": "code",
   "execution_count": null,
   "id": "b76f6e06",
   "metadata": {},
   "outputs": [],
   "source": [
    "ulimit -n 2048"
   ]
  },
  {
   "cell_type": "markdown",
   "id": "2326d511",
   "metadata": {},
   "source": [
    "### Input data {-}\n",
    "\n",
    "Cuttlefish requires a single fasta with all the genomes (wildcards that point to all the indiviual genome fasta files result in only the first one being run).\n"
   ]
  },
  {
   "cell_type": "code",
   "execution_count": null,
   "id": "f5a8c3ef",
   "metadata": {},
   "outputs": [],
   "source": [
    "mkdir ~/cuttlefish\n",
    "cd ~/cuttlefish\n",
    "cat /home/data/pangenomics-2402/yprp/assemblies/*fa > 12genomes.fa"
   ]
  },
  {
   "cell_type": "markdown",
   "id": "d9c203ac",
   "metadata": {},
   "source": [
    "### Parameters {-}\n",
    "\n",
    "You can see all the parameters with:"
   ]
  },
  {
   "cell_type": "code",
   "execution_count": null,
   "id": "2793b71d",
   "metadata": {},
   "outputs": [],
   "source": [
    "cuttlefish build"
   ]
  },
  {
   "cell_type": "markdown",
   "id": "1449223b",
   "metadata": {},
   "source": [
    "or "
   ]
  },
  {
   "cell_type": "code",
   "execution_count": null,
   "id": "02c726a5",
   "metadata": {},
   "outputs": [],
   "source": [
    "cuttlefish build --help"
   ]
  },
  {
   "cell_type": "markdown",
   "id": "3a33d22f",
   "metadata": {},
   "source": [
    "Here are the parameters that we'll focus on:\n",
    "\n",
    ">-s   input fasta  \n",
    ">-t   threads (we'll use 6; default 22)  \n",
    ">-k   kmer size (we'll use 63)  \n",
    ">-o   output  \n",
    ">-f   format (0: FASTA, 1: GFA 1.0, 2: GFA 2.0, 3: GFA-reduced)\n",
    "\n",
    "### GFA 1.0 {-}\n"
   ]
  },
  {
   "cell_type": "code",
   "execution_count": null,
   "id": "5bf1a821",
   "metadata": {},
   "outputs": [],
   "source": [
    "cuttlefish build -s 12genomes.fa -t 6 -k 63 -o 12genomes.k63.f1 -f 1"
   ]
  },
  {
   "cell_type": "markdown",
   "id": "efce7c7d",
   "metadata": {},
   "source": [
    "List the files with the newest ones last"
   ]
  },
  {
   "cell_type": "code",
   "execution_count": null,
   "id": "3ab1dcb8",
   "metadata": {},
   "outputs": [],
   "source": [
    "ls -ltr"
   ]
  },
  {
   "cell_type": "markdown",
   "id": "dce35de1",
   "metadata": {},
   "source": [
    "Take a look at the json file"
   ]
  },
  {
   "cell_type": "code",
   "execution_count": null,
   "id": "44777cc6",
   "metadata": {},
   "outputs": [],
   "source": [
    "cat 12genomes.k63.f1.json"
   ]
  },
  {
   "cell_type": "markdown",
   "id": "98cf20a8",
   "metadata": {},
   "source": [
    "What line types are there in the GFA output and how many are there of each?"
   ]
  },
  {
   "cell_type": "code",
   "execution_count": null,
   "id": "f7b9f4ba",
   "metadata": {},
   "outputs": [],
   "source": [
    "cut -f 1 12genomes.k63.f1.gfa1 | sort | uniq -c"
   ]
  },
  {
   "cell_type": "markdown",
   "id": "3891ce4c",
   "metadata": {},
   "source": [
    "How much overlap is there between each segment (Hint: look at the end of the link lines)?\n",
    "\n",
    "Note that as we run different formats, we have to change the output name because it will recognize that the json file is already printed and it will exit.\n",
    "\n",
    "### reduced GFA {-}"
   ]
  },
  {
   "cell_type": "code",
   "execution_count": null,
   "id": "611bf7df",
   "metadata": {},
   "outputs": [],
   "source": [
    "cuttlefish build -s 12genomes.fa -t 6  -k 63 -o 12genomes.k63.f3 -f 3"
   ]
  },
  {
   "cell_type": "markdown",
   "id": "98501af1",
   "metadata": {},
   "source": [
    "What files were output (list the files with the newest first)?\n",
    "\n",
    "What is in each of the files?\n",
    "\n",
    "### FASTA {-}\n",
    "\n",
    "We'll try the FASTA output with both Cuttlefish 1 and Cuttlefish 2.\n",
    "\n",
    "**Cuttlefish 1**"
   ]
  },
  {
   "cell_type": "code",
   "execution_count": null,
   "id": "3adac97a",
   "metadata": {},
   "outputs": [],
   "source": [
    "cuttlefish build -s 12genomes.fa -t 6  -k 63 -o 12genomes.k63.f0 -f 0"
   ]
  },
  {
   "cell_type": "markdown",
   "id": "c72ab619",
   "metadata": {},
   "source": [
    "**Cuttlefish 2**"
   ]
  },
  {
   "cell_type": "code",
   "execution_count": null,
   "id": "82ac65de",
   "metadata": {},
   "outputs": [],
   "source": [
    "cuttlefish build -s 12genomes.fa -t 6  -k 63 -o 12genomes.k63.ref --ref"
   ]
  },
  {
   "cell_type": "markdown",
   "id": "d8c26744",
   "metadata": {},
   "source": [
    "How many sequences are there in each?"
   ]
  },
  {
   "cell_type": "code",
   "execution_count": null,
   "id": "48c107d3",
   "metadata": {},
   "outputs": [],
   "source": [
    "grep -c '>' 12genomes.k63.f0.fa\n",
    "grep -c '>' 12genomes.k63.ref.fa"
   ]
  },
  {
   "cell_type": "markdown",
   "id": "77b810bb",
   "metadata": {},
   "source": [
    "How long are the shortest and longest sequences?"
   ]
  },
  {
   "cell_type": "code",
   "execution_count": null,
   "id": "f302ec88",
   "metadata": {},
   "outputs": [],
   "source": [
    "grep -v '>' 12genomes.k63.f0.fa | awk '{print length($1)}' | sort -n |head -1\n",
    "grep -v '>' 12genomes.k63.f0.fa | awk '{print length($1)}' | sort -n |tail -1"
   ]
  },
  {
   "cell_type": "markdown",
   "id": "b9a97e2c",
   "metadata": {},
   "source": [
    "Now find the shortest and longest sequences for the fasta from cuttlefish 2.\n",
    "\n",
    "## 1011 yeast data (127 genomes)\n",
    "\n",
    "Create GFA1 Cuttlefish output (k=63) for the 1011 yeast assemblies (127 genomes). We'll keep track of how much time it takes by using the time command.\n",
    "\n",
    "Link to the data (make sure you are using the file with all the assemblies in it.)"
   ]
  },
  {
   "cell_type": "code",
   "execution_count": null,
   "id": "63bd558f",
   "metadata": {},
   "outputs": [],
   "source": [
    "ln -s  /home/data/pangenomics-2402/1011yeast/assemblies/1011genomes.fasta.gz ."
   ]
  },
  {
   "cell_type": "markdown",
   "id": "4c9e71a1",
   "metadata": {},
   "source": [
    "Now run cuttlefish."
   ]
  },
  {
   "cell_type": "code",
   "execution_count": null,
   "id": "351d3912",
   "metadata": {},
   "outputs": [],
   "source": [
    "time cuttlefish build -s 1011genomes.fasta.gz -t 6 -k 63 -o 1011genomes.k63.f1 -f 1"
   ]
  },
  {
   "cell_type": "markdown",
   "id": "bdf06434",
   "metadata": {},
   "source": [
    "We'll do more with the cuttlefish files, including looking at the CUP1 region in the next section."
   ]
  }
 ],
 "metadata": {},
 "nbformat": 4,
 "nbformat_minor": 5
}
