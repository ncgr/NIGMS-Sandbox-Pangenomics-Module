{
 "cells": [
  {
   "cell_type": "markdown",
   "metadata": {},
   "source": [
    "# Pangenomics\n",
    "--------------------------------------------"
   ]
  },
  {
   "cell_type": "markdown",
   "metadata": {},
   "source": [
    "# Reading Mapping with vg"
   ]
  },
  {
   "cell_type": "markdown",
   "metadata": {},
   "source": [
    "## Overview\n",
    "\n",
    "VG will allow you to map reads to pangenomic graphs. You will map reads from SK1 to the yeast pangenomic graph that you made with PGGB."
   ]
  },
  {
   "cell_type": "markdown",
   "metadata": {},
   "source": [
    "## Learning Objectives\n",
    "+ Understanding the difference between read mapping with a reference versus a pangenome\n",
    "+ Learn how to map reads to a pangenomic graph using vg"
   ]
  },
  {
   "cell_type": "markdown",
   "metadata": {},
   "source": [
    "## Get Started\n",
    "\n",
    "We will align reads to the indexed pangenomic graph that you created.\n",
    "\n",
    "Traditionally, reads are aligned to a reference genome. The reference genome represents a single individual of the species and it might be missing some of the genetic variation in the species. This means that some reads, containing this novel variation, might not align to the reference. In addition, there might be some bias when aligning reads and calling variants, with reads from individuals that are close to reference aligning better than those from more divergent individuals. This read alignment bias trickles down to the variant calling phase, possibly resulting in some missed variant calls for more evolutionarily divergent individuals.\n",
    "\n",
    "Pangenomics graphs capture more of the genetic variation that is in species. Therefore, using them as a reference reduces issues of missing variation and reference bias."
   ]
  },
  {
   "cell_type": "markdown",
   "metadata": {},
   "source": [
    "### Graph Alignment/Map (GAM) Format\n",
    "\n",
    "[GAM](https://github.com/vgteam/vg/wiki/File-Formats) is an alignment format analogous to [BAM](https://samtools.github.io/hts-specs/SAMv1.pdf), but for graphs.  \n",
    "+ Binary file describing where reads mapped to in the graph structure  \n",
    "+ Uncompressed has one read per line  \n",
    "+ Can be converted to JSON for manual parsing (very inefficient!)"
   ]
  },
  {
   "cell_type": "markdown",
   "metadata": {},
   "source": [
    "### Get Reads for Mapping\n",
    "\n",
    "We will use paired-end Illumina reads from SK1, which was also included in our graph. You could also align reads from an accession that is not in our graph. Download them using sratoolkit's `prefetch` and `fasterq-dump` commands from the Short Read Archive (SRA). They are in run accession SRR4074258.\n",
    "\n",
    "First, `prefetch` the accession, which makes getting the fastq data faster.\n",
    "\n",
    "The parameters:\n",
    "\n",
    "--output-directory specify output directory"
   ]
  },
  {
   "cell_type": "code",
   "execution_count": null,
   "metadata": {},
   "outputs": [],
   "source": [
    "!prefetch SRR4074258 --output-directory ."
   ]
  },
  {
   "cell_type": "markdown",
   "metadata": {},
   "source": [
    "Then get the fastq files. `fasterq-dump` allows us to multi-thread the download and will automatically put the read1 and read2 sequence in different files. Point it to the prefetched data (SRR4074258/SRR4074258.sra).\n",
    "\n",
    "The parameters:\n",
    "\n",
    "--outdir  output directory (\".\" indicates the current directory)  \n",
    "--outfile  output file name (fasterq-dump will add _1 and _2 before the fastq as it separates out read1 and read2)  \n",
    "--threads  number of threads  \n",
    "--progress  show progress"
   ]
  },
  {
   "cell_type": "code",
   "execution_count": null,
   "metadata": {},
   "outputs": [],
   "source": [
    "!fasterq-dump --outdir . --outfile SK1.illumina.fastq --threads 40 --progress ./SRR4074258/SRR4074258.sra"
   ]
  },
  {
   "cell_type": "markdown",
   "metadata": {},
   "source": [
    "Now zip the files. Rather than using `gzip`, we will use `pigz`, which stands for \"parallel implementation of gzip\", so that we can use multiple threads to get it done more quickly. By default it will use all available threads, though that can be adjusted with the --processes parameter.\n",
    "\n",
    "**pigz**\n",
    "\n",
    "+ -v verbose\n",
    "\n",
    "NOTE: The verbose setting is not very verbose so make sure you wait until the asterisk in the square brackets to the left of the code block is replaced by a number to know that it is done."
   ]
  },
  {
   "cell_type": "code",
   "execution_count": null,
   "metadata": {},
   "outputs": [],
   "source": [
    "!pigz SK1.illumina_1.fastq\n",
    "!pigz SK1.illumina_2.fastq"
   ]
  },
  {
   "cell_type": "markdown",
   "metadata": {},
   "source": [
    "Now, remove the prefetch directory."
   ]
  },
  {
   "cell_type": "code",
   "execution_count": null,
   "metadata": {},
   "outputs": [],
   "source": [
    "!rm -r SRR4074258"
   ]
  },
  {
   "cell_type": "markdown",
   "metadata": {},
   "source": [
    "### Read Mapping\n",
    "\n",
    "We will use `vg giraffe` to map paired-end Illumina reads from the SK1 yeast accession to the chrVIII graph (yprp.chrVIII.pggb.vg).\n",
    "\n",
    "The parameters:  \n",
    "\n",
    "-d Graph prefix (yprp.chrVIII.pggb)  \n",
    "-f Reads in fastq format  \n",
    "-t Number of threads\n",
    "\n",
    "We will redirect the output into a gam file."
   ]
  },
  {
   "cell_type": "code",
   "execution_count": null,
   "metadata": {},
   "outputs": [],
   "source": [
    "!vg map -d yprp.chrVIII.pggb -f SK1.illumina_1.fastq -t 20 > yprp.chrVIII.x.SK1.illumina.gam"
   ]
  },
  {
   "cell_type": "markdown",
   "metadata": {},
   "source": [
    "### Mapping statistics\n",
    "\n",
    "Now we can compute some mapping statistics using vg stats.\n",
    "\n",
    "The parameters:\n",
    "\n",
    "-a alignment (GAM) file"
   ]
  },
  {
   "cell_type": "code",
   "execution_count": null,
   "metadata": {},
   "outputs": [],
   "source": [
    "!vg stats -a yprp.chrVIII.x.SK1.illumina.gam"
   ]
  },
  {
   "cell_type": "markdown",
   "metadata": {},
   "source": [
    "XXX We need something here about how ot interpret the stats."
   ]
  },
  {
   "cell_type": "markdown",
   "metadata": {},
   "source": [
    "### Bringing Alignments Back to Individual Genomes\n",
    "\n",
    "Our reads are mapped back to the pangenomic graph. If we need to bring the alignments back into coordinates for individual genomes, we can \"surject\" them into a genome of our choice using vg surject.\n",
    "\n",
    "The parameters:\n",
    "\n",
    "-x The VG graph or xg to use  \n",
    "-b The graph alignment file (XXX the old docs said this was the bam output but it has a gam suffix and there is a redirect into a bam file)  \n",
    "-t The number of threads to use\n",
    "\n",
    "We will redirect the output into a bam file."
   ]
  },
  {
   "cell_type": "code",
   "execution_count": null,
   "metadata": {},
   "outputs": [],
   "source": [
    "!vg surject -x S288C.xg -b S288C.SK1.illumina.gam -t 20 > S288C.SK1.illumina.BAM"
   ]
  },
  {
   "cell_type": "markdown",
   "metadata": {},
   "source": [
    "The Integrative Genomics Viewer (IGV) is a powerful, user-friendly, open source genome viewer maintained by teams at UC San Diego and the Broad Institute of MIT and Harvard (https://igv.org/).\n",
    "\n",
    "Let's prepare the bam file for viewing in IGV by converting the chromosome names to UCSC style names tha the viewer can recognize.\n",
    "\n",
    "###  Preparing the BAM for IGV (or other genome viewer)"
   ]
  },
  {
   "cell_type": "markdown",
   "metadata": {},
   "source": [
    "Convert the BAM (compressed) alignment file to SAM (uncompressed).\n",
    "\n",
    "XXX We need more introduction into SAM and BAM formats.\n",
    "\n",
    "The parameters:\n",
    "\n",
    "-h print the header for the SAM output  \n",
    "-o output file name (default: stdout)  \n",
    "* stdout prints thing to the screen"
   ]
  },
  {
   "cell_type": "code",
   "execution_count": null,
   "metadata": {},
   "outputs": [],
   "source": [
    "!samtools view -h -o S288C.SK1.illumina.sam S288C.SK1.illumina.BAM"
   ]
  },
  {
   "cell_type": "markdown",
   "metadata": {},
   "source": [
    "Next, we'll remove the assembly name from the sequence headers using a substitution in sed:\n",
    "\n",
    "sed 's/thing_you_want_to_replace/thing_to replace it with/' file\n",
    "\n",
    "In our case, we will replace S288C with nothing and redirect it into a new sam file."
   ]
  },
  {
   "cell_type": "code",
   "execution_count": null,
   "metadata": {},
   "outputs": [],
   "source": [
    "!sed 's/S288C.//' S288C.SK1.illumina.sam > S288C.SK1.illumina.renamed.sam"
   ]
  },
  {
   "cell_type": "markdown",
   "metadata": {},
   "source": [
    "Convert the renamed SAM file back into BAM format and redirect it into a new BAM file.\n",
    "\n",
    "The parameters:\n",
    "\n",
    "-b output BAM  \n",
    "-S input is SAM  "
   ]
  },
  {
   "cell_type": "code",
   "execution_count": null,
   "metadata": {},
   "outputs": [],
   "source": [
    "!samtools view -bS S288C.SK1.illumina.renamed.sam > S288C.SK1.illumina.renamed.bam"
   ]
  },
  {
   "cell_type": "markdown",
   "metadata": {},
   "source": [
    "Sort the bam file.\n",
    "\n",
    "The parameters:\n",
    "\n",
    "-o output file name"
   ]
  },
  {
   "cell_type": "code",
   "execution_count": null,
   "metadata": {},
   "outputs": [],
   "source": [
    "!samtools sort -o S288C.SK1.illumina.renamed.sorted.bam S288C.SK1.illumina.renamed.bam"
   ]
  },
  {
   "cell_type": "markdown",
   "metadata": {},
   "source": [
    "Index the sorted BAM file."
   ]
  },
  {
   "cell_type": "code",
   "execution_count": null,
   "metadata": {},
   "outputs": [],
   "source": [
    "!samtools index S288C.SK1.illumina.renamed.sorted.bam"
   ]
  },
  {
   "cell_type": "markdown",
   "metadata": {},
   "source": [
    "XXX Do we need this?\n",
    "\n",
    "## Pack (pileup support) Format\n",
    "\n",
    "https://github.com/vgteam/vg/wiki/File-Formats  \n",
    "+ Binary file  \n",
    "+ Computes pileup support for each read in a mapping  \n",
    "The format isn’t actually documented..."
   ]
  },
  {
   "cell_type": "markdown",
   "metadata": {},
   "source": [
    "Now, copy the BAM file to your personal computer and load it into IGV.\n",
    "\n",
    "How does CUP1 look?\n",
    "\n",
    "What other interesting observations do you see?"
   ]
  },
  {
   "cell_type": "markdown",
   "metadata": {},
   "source": [
    "## Conclusion\n",
    "\n",
    "In this submodule, you learned how to align reads directly to a pangenomic graph, how to surject those alignments into coordinates in individual genomes, and how to view the surjected alignments in IGV. You also learned about the SAM, BAM, and GAM alignment file formats."
   ]
  },
  {
   "cell_type": "markdown",
   "metadata": {},
   "source": [
    "## Clean up\n",
    "No cleanup is necessary for this submodule. Don't forget to shutdown your Workbench when you are done working through this module!"
   ]
  }
 ],
 "metadata": {
  "environment": {
   "kernel": "conda-env-nigms-pangenomics-nigms-pangenomics",
   "name": "workbench-notebooks.m127",
   "type": "gcloud",
   "uri": "us-docker.pkg.dev/deeplearning-platform-release/gcr.io/workbench-notebooks:m127"
  },
  "kernelspec": {
   "display_name": "nigms-pangenomics",
   "language": "python",
   "name": "conda-env-nigms-pangenomics-nigms-pangenomics"
  },
  "language_info": {
   "codemirror_mode": {
    "name": "ipython",
    "version": 3
   },
   "file_extension": ".py",
   "mimetype": "text/x-python",
   "name": "python",
   "nbconvert_exporter": "python",
   "pygments_lexer": "ipython3",
   "version": "3.12.8"
  }
 },
 "nbformat": 4,
 "nbformat_minor": 4
}
