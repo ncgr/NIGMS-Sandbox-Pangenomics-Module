{
 "cells": [
  {
   "cell_type": "markdown",
   "id": "d6f2d24c-73e1-4171-bd77-3e1954a3819f",
   "metadata": {},
   "source": [
    "# Workaround jupyter quiz for R kernel"
   ]
  },
  {
   "cell_type": "markdown",
   "id": "08aa3889-455e-46e1-84dd-87b714db4b98",
   "metadata": {},
   "source": [
    "Benefits to exporting your files as HTML are:\n",
    "- Users wont see the input code so they wont know the path to your quizzes/cards\n",
    "- You are able to resize the quizzes/cards\n",
    "- The user may have to run the IFrame command once but after that the quizzes will stay put on the notebook"
   ]
  },
  {
   "cell_type": "markdown",
   "id": "37a62efd-41c4-447e-aa3d-42de8f3adb4e",
   "metadata": {},
   "source": [
    "Steps: \n",
    "1. Enable Jupyter extensions by clicking on the puzzle piece icon <img src=\"images/extension.png\" width=\"20\" height=\"20\"> then click <img src=\"images/enable.png\" width=\"50\" height=\"50\">.\n",
    "\n",
    "2. Install __jupyterquiz__ `pip install jupyterquiz`. Make sure you are using a Python Kernel\n",
    "2. Create a JSON jupyterquiz file to hold your questions and answers\n",
    "    - We recommend creating a separate JSON file for each quiz if you would like to separate your quizzes between notebooks or sections of your tutorial\n",
    "3. Create a jupyter notebook for only displaying your quizzes\n",
    "    <br>a. You can use the following commands to display your quiz: \n",
    "    ```\n",
    "            from jupyterquiz import display_quiz\n",
    "            display_quiz(\"path/to/quiz_file.json\")\n",
    "    ```       \n",
    "    b. If your quiz is not displayed you may need to make sure you press \"Trust HTML\" in the top left of your notebook to fully view the notebook\n",
    "    <br>c. Save your notebook\n",
    "    \n",
    "<div class=\"alert alert-block alert-danger\">\n",
    "    <i class=\"fa fa-exclamation-circle\" aria-hidden=\"true\"></i>\n",
    "    <b>Alert: </b>  Make sure that there are no other outputs than your jupyter quiz\n",
    "</div>\n",
    "\n",
    "4. In your Terminal enter the following command `jupyter nbconvert --no-input --to html path/to/Your_Quiz_Notebook_file.ipynb`. This command with export your quiz as HTML and only your quiz will show not the input commands\n",
    "    \n",
    "6. Go to your R kernel notebook tutorial and enter the code below replace the HTML file with the path to your html file\n",
    "\n",
    "<div class=\"alert alert-block alert-success\">\n",
    "    <i class=\"fa fa-hand-paper-o\" aria-hidden=\"true\"></i>\n",
    "    <b>Note: </b> Only need to do this once as the user will see the quiz already loaded\n",
    "</div>\n"
   ]
  },
  {
   "cell_type": "code",
   "execution_count": null,
   "id": "d2edbc2d-1930-4e02-9a09-38cc1582cd70",
   "metadata": {},
   "outputs": [],
   "source": [
    "IRdisplay::display_html('<iframe src=\"html/quiz_example.html\" width=100% height=450></iframe>')"
   ]
  },
  {
   "cell_type": "markdown",
   "id": "6dc2ef20-29c6-4e2c-8e66-9013c272cd09",
   "metadata": {},
   "source": [
    "## Jupyter FlashCards"
   ]
  },
  {
   "cell_type": "markdown",
   "id": "482a3574-e539-457e-a731-5410aa09ec8f",
   "metadata": {},
   "source": [
    "1. Enable Jupyter extensions by clicking on the puzzle piece icon  <img src=\"images/extension.png\" width=\"20\" height=\"20\"> then click <img src=\"images/enable.png\" width=\"50\" height=\"50\">.\n",
    "2. Install <b>jupytercards</b> `pip install jupytercards`. Make sure you are using a Python Kernel\n",
    "3. Create a JSON jupytercards file to hold your flashcards\n",
    "\n",
    "4. Create a jupyter notebook for only displaying your flashcards\n",
    "    <br>a. You can use the following commands to display your quiz: \n",
    "    ```\n",
    "            from jupytercards import display_flashcards\n",
    "            display_flashcards('path/to/flashcard_file.json')\n",
    "    ```       \n",
    "    b. If your flashcards is not displayed you may need to make sure you press \"Trust HTML\" in the top left of your notebook to fully view the notebook\n",
    "    <br>c. Save your notebook\n",
    "    \n",
    "<div class=\"alert alert-block alert-danger\">\n",
    "    <i class=\"fa fa-exclamation-circle\" aria-hidden=\"true\"></i>\n",
    "    <b>Alert: </b>  Make sure that there are no other outputs than your jupyter flashcards\n",
    "</div>\n",
    "\n",
    "5. In your Terminal enter the following command `jupyter nbconvert --no-input --to html path/to/Your_Flashquiz_Notebook_file.ipynb`. This command with export your flashcards as HTML and only your cards will show not the input commands\n",
    "    \n",
    "6. Enter the code below, replace the HTML file with the path to your html file\n",
    "\n",
    "<div class=\"alert alert-block alert-success\">\n",
    "    <i class=\"fa fa-hand-paper-o\" aria-hidden=\"true\"></i>\n",
    "    <b>Note: </b> Only need to do this once as the user will see the flashcards already loaded\n",
    "</div>\n"
   ]
  },
  {
   "cell_type": "code",
   "execution_count": null,
   "id": "13140ebb-b03d-4e78-a73b-87602d54b693",
   "metadata": {},
   "outputs": [],
   "source": [
    "IRdisplay::display_html('<iframe src=\"html/flashcard_example.html\" width=100% height=450></iframe>')"
   ]
  },
  {
   "cell_type": "markdown",
   "id": "97b1da2f-1c96-4845-a19e-a26d949a29ab",
   "metadata": {},
   "source": [
    "<iframe src=\"html/flashcard_example.html\"></iframe>"
   ]
  },
  {
   "cell_type": "markdown",
   "id": "f3f3ae36-e76a-4770-8aed-38aef7a90481",
   "metadata": {},
   "source": [
    "<iframe src=\"html/flashcard_example.html\" title=\"W3Schools Free Online Web Tutorials\"></iframe>"
   ]
  },
  {
   "cell_type": "code",
   "execution_count": null,
   "id": "8a3eb576-a010-45af-9038-7d943de410a5",
   "metadata": {},
   "outputs": [],
   "source": []
  }
 ],
 "metadata": {},
 "nbformat": 4,
 "nbformat_minor": 5
}
