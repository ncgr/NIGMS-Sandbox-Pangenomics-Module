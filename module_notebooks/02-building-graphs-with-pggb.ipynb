{
 "cells": [
  {
   "cell_type": "markdown",
   "metadata": {},
   "source": [
    "# Pangenomics\n",
    "--------------------------------------------"
   ]
  },
  {
   "cell_type": "markdown",
   "metadata": {},
   "source": [
    "# Building Graphs with PGGB"
   ]
  },
  {
   "cell_type": "markdown",
   "metadata": {},
   "source": [
    "\n",
    "## Overview\n",
    "The PanGenome Graph Builder (PGGB) creates reference-free pangenomic graphs (https://github.com/pangenome/pggb). You will learn about the algorithm and its graphical output, its strengths and weaknesses, and you will build a yeast pangenomic graph."
   ]
  },
  {
   "cell_type": "markdown",
   "metadata": {},
   "source": [
    "## Learning Objectives\n",
    "+ Understand what types of graphs PGGB builds and their pros/cons\n",
    "+ Learn how to build graphs with PGGB"
   ]
  },
  {
   "cell_type": "markdown",
   "metadata": {},
   "source": [
    "## Get Started\n",
    "In this submodule you will learn how to build pangenomic graphs with PGGB.\n",
    "\n",
    "PGGB lecture:\n",
    "- Reference-Free Graphs with PGGB\n",
    "\n",
    "PGGB hands-on tutorials:\n",
    "- Yeast Dataset\n",
    "- PGGB graph generation\n",
    "- Graph inspection\n"
   ]
  },
  {
   "cell_type": "markdown",
   "metadata": {},
   "source": [
    "## Reference-Free Graphs with PGGB\n",
    "\n",
    "### PanGenome Graph Builder (PGGB)\n",
    "\n",
    "The PGGB algorithm creates *reference-free graphs* from: \n",
    "+ All-pairwise whole genome alignments \n",
    "+ Induces a graph from the alignments\n",
    "\n",
    "PGGB is built on the idea that a pangenome graph represents an alignment of the genomes in the graph, but infers the graph from all pairwise alignments instead of a multiple alignment.\n",
    "\n",
    "PGGB computes all pairwise alignments efficiently by focusing on long, colinear homologies, instead of using the more traditional k-mer matching alignment approach.\n",
    "\n",
    "Critically, pggb performs graph *normalization* to ensure that paths through the graph (e.g. chromosomes) have a linear structure while allowing for cyclic graph structures that capture structural variation.\n",
    "\n",
    "![Input Genomes](./Figures/pggbFlowDiagram.png)\n",
    "\n",
    "### Reference-Free Graphs\n",
    "\n",
    "https://academic.oup.com/bioinformatics/article/30/24/3476/2422268\n",
    "\n",
    "![Input Genomes](./Figures/InputGenomes.png)\n",
    "\n",
    "###  PGGB Algorithm\n",
    "\n",
    "1. Perform all-pairwise genome alignments using [wfmash](https://github.com/waveygang/wfmash)\n",
    "2. Convert alignments into a graph using [seqwish](https://github.com/ekg/seqwish)\n",
    "3. Progressively normalize graph with [smoothxg](https://github.com/pangenome/smoothxg) and [gfaffix](https://github.com/marschall-lab/GFAffix)\n",
    "\n"
   ]
  },
  {
   "cell_type": "markdown",
   "metadata": {},
   "source": [
    "## Yeast Genome Assemblies and Reads\n",
    "\n",
    "The [Yeast Population Reference Panel (YPRP)](https://yjx1217.github.io/Yeast_PacBio_2016/welcome/) is a panel that includes 12 yeast genome assemblies.\n",
    "More information is available in the [YPRP manuscript](https://www.ncbi.nlm.nih.gov/pmc/articles/PMC2659681/)\n",
    "\n",
    "  + 7 Saccharomyces cerevisiae (brewer’s yeast), including the S288C reference\n",
    "  + 5 *Saccharomyces paradoxus* (wild yeast)\n",
    "\n",
    "![Yeast Genomes: https://yjx1217.github.io/Yeast_PacBio_2016/welcome/](./Figures/Yeast.png)\n",
    "\n",
    "Yeast genomes are ~12 Mb and have 16 chromosomes.\n",
    "\n",
    "These yeast genomes were assembled with [LRSDAY](https://github.com/yjx1217/LRSDAY) Long-read Sequencing Data Analysis for Yeasts)\n",
    "\n",
    "+ [YPRP: 12 Yeast PacBio Assemblies (Chromosome level)](https://yjx1217.github.io/Yeast_PacBio_2016/data/)\n",
    "  + ~100-200x PacBio sequencing reads\n",
    "  + HGAP + Quiver polishing\n",
    "  + ~200-500x Illumina (Pilon correction)\n",
    "  + Manual curation\n",
    "  + Annotation\n",
    "\n"
   ]
  },
  {
   "cell_type": "markdown",
   "metadata": {},
   "source": [
    "### SK1 Illumina Reads\n",
    "\n",
    "SK1 is the most distant from S288C\n",
    "\n",
    "We will use SK1 reads later on to call variants\n",
    "\n",
    "![Yeast Genomes: https://yjx1217.github.io/Yeast_PacBio_2016/welcome/](./Figures/YeastB.png)\n",
    "\n"
   ]
  },
  {
   "cell_type": "markdown",
   "metadata": {},
   "source": [
    "### CUP1 Gene\n",
    "\n",
    "![](./Figures/StructuralRearrangements.png)\n",
    "[Structural Rearrangements](https://www.nature.com/articles/ng.3847)\n",
    "+ [CUP1](https://www.yeastgenome.org/locus/S000001095) - A gene involved in heavy metal (copper) tolerance with copy-number variation (CNV) in population.\n",
    "+ [YHR054C](https://www.yeastgenome.org/locus/S000001096) - Putative protein of unknown function.\n",
    "\n"
   ]
  },
  {
   "cell_type": "markdown",
   "metadata": {},
   "source": [
    "### Preparing the Yeast Input Assemblies\n",
    "\n",
    "1. Get the three yeast genome assembly files (FASTA).\n",
    " + curl transfers a URL\n",
    " + --location tells curl to follow any redirects\n",
    " + --output gives it an output file\n"
   ]
  },
  {
   "cell_type": "code",
   "execution_count": null,
   "metadata": {},
   "outputs": [],
   "source": [
    "!curl --location --output S288C.genome.fa.gz http://yjx1217.github.io/Yeast_PacBio_2016/data/Nuclear_Genome/S288C.genome.fa.gz\n",
    "!curl --location --output Y12.genome.fa.gz http://yjx1217.github.io/Yeast_PacBio_2016/data/Nuclear_Genome/Y12.genome.fa.gz\n",
    "!curl --location --output SK1.genome.fa.gz http://yjx1217.github.io/Yeast_PacBio_2016/data/Nuclear_Genome/SK1.genome.fa.gz"
   ]
  },
  {
   "cell_type": "markdown",
   "metadata": {},
   "source": [
    "2. Change the fasta headers to include the yeast accession name\n",
    "[Pangenome Sequence Naming Specification](https://github.com/pangenome/PanSN-spec)\n",
    "\n",
    " + The for loop will work through each of the genome fasta files.\n",
    " + It will strip off the file suffix to get the yeast accession name.\n",
    " + It will then use sed to substitute the accession name in after the \">\" of the header line.\n",
    " + Finally, we will rename the file.\n"
   ]
  },
  {
   "cell_type": "code",
   "execution_count": null,
   "metadata": {},
   "outputs": [],
   "source": [
    "!for file in *.genome.fa.gz; \\\n",
    "do \\\n",
    "    accession=$(basename \"$file\" .genome.fa.gz); \\\n",
    "\tzcat ${file} | sed \"s/>/>${accession}_/\" | gzip > prepend_${file}; \\\n",
    "\tmv prepend_${file} ${file}; \\\n",
    "done"
   ]
  },
  {
   "cell_type": "markdown",
   "metadata": {},
   "source": [
    "3. Create a FASTA file containing all three yprp assemblies. Call it `yprp.all.fa`.\n",
    "+ zcat uncompresses the files (we will compress the files later using a different compression algorithm)."
   ]
  },
  {
   "cell_type": "code",
   "execution_count": null,
   "metadata": {},
   "outputs": [],
   "source": [
    "!zcat *genome.fa.gz > yprp.all.fa"
   ]
  },
  {
   "cell_type": "markdown",
   "metadata": {},
   "source": [
    "To confirm that your file looks correct:  \n",
    "+ Count the number of sequences  \n",
    "+ Look at the sequence headers\n",
    "\n",
    "Hint: add a new code cell block below to run your code in. You can do this by clicking the \"insert a cell below (B) icon in the upper right of this block."
   ]
  },
  {
   "cell_type": "markdown",
   "metadata": {},
   "source": [
    "<details>\n",
    "<summary>Click for help</summary>\n",
    "\n",
    "!# Count the number of sequences\n",
    "\n",
    "!grep -c '>' yprp.all.fa\n",
    "\n",
    "!# Look at the sequence headers\n",
    "\n",
    "!grep '>' yprp.all.fa\n",
    "</details>"
   ]
  },
  {
   "cell_type": "markdown",
   "metadata": {},
   "source": [
    "4. Create a FASTA file containing chromosome VIII from every assembly. Call it `yprp.chrVIII.fa.gz`.\n",
    "+ The awk command changes the record separator (RS) to \">\"; in other words, it makes each sequence a record.\n",
    "+ For each record (sequence) it checks to see if it matches chrVIII; if so, it prints it."
   ]
  },
  {
   "cell_type": "code",
   "execution_count": null,
   "metadata": {},
   "outputs": [],
   "source": [
    "!awk 'BEGIN{RS=\">\"}$1~/chrVIII/{print \">\" $0}' yprp.all.fa > yprp.chrVIII.fa"
   ]
  },
  {
   "cell_type": "markdown",
   "metadata": {},
   "source": [
    "To confirm that your file looks correct:\n",
    "+ Count the number of sequences\n",
    "+ Look at the sequence headers"
   ]
  },
  {
   "cell_type": "markdown",
   "metadata": {},
   "source": [
    "<details>\n",
    "<summary>Click for help</summary>\n",
    "\n",
    "!# Count the number of sequences\n",
    "\n",
    "!grep -c '>' yprp.chrVIII.fa\n",
    "\n",
    "!# Look at the sequence headers\n",
    "\n",
    "!grep '>' yprp.chrVIII.fa\n",
    "</details>"
   ]
  },
  {
   "cell_type": "markdown",
   "metadata": {},
   "source": [
    "5. Compress the FASTA files\n",
    "\n",
    "We will compress the files with bgzip. It is similar to gzip but allows for much faster random access though it creates bigger files than gzip.\n",
    "[bgzip](https://www.htslib.org/doc/bgzip.html) the FASTA files.  \n",
    "+ The -c parameter outputs the bgzipped file to standard output  \n",
    "+ The \">\" redirects the standard output into a file\n"
   ]
  },
  {
   "cell_type": "code",
   "execution_count": null,
   "metadata": {},
   "outputs": [],
   "source": [
    "!bgzip -c yprp.all.fa > yprp.all.fa.gz\n",
    "!bgzip -c yprp.chrVIII.fa > yprp.chrVIII.fa.gz"
   ]
  },
  {
   "cell_type": "markdown",
   "metadata": {},
   "source": [
    "\n",
    "7. Index the bgzip files with [samtools](http://www.htslib.org/doc/samtools.html) [faidx](http://www.htslib.org/doc/samtools-faidx.html):\n"
   ]
  },
  {
   "cell_type": "code",
   "execution_count": null,
   "metadata": {},
   "outputs": [],
   "source": [
    "!samtools faidx yprp.all.fa.gz\n",
    "!samtools faidx yprp.chrVIII.fa.gz"
   ]
  },
  {
   "cell_type": "markdown",
   "metadata": {},
   "source": [
    "## Running pggb on Chromosome VIII\n",
    "\n",
    "Build a graph containing all the yprp assemblies using the following parameters:\n",
    "\n",
    "+ **-i yprp.chrVIII.fa**\n",
    "    + an input FASTA containing all sequences\n",
    "+ **-o output_chrVIIII**\n",
    "    + the directory where all output files should be placed\n",
    "+ **-n 12**\n",
    "    + the number of haplotypes (assemblies) in the input file\n",
    "+ **-t 20**\n",
    "    + the number of threads to use\n",
    "+ **-p 95**\n",
    "    + minimum sequence identity of alignment segments\n",
    "+ **-s 5000**\n",
    "    + nucleotide segment length when scaffolding the graph\n",
    "    \n",
    "NOTE: These arguments were taken from the [pggb paper](https://github.com/pangenome/pggb-paper/blob/main/workflows/AllSpecies.md).\n",
    "Refer to the paper for parameter suggestions for other species.\n",
    "\n"
   ]
  },
  {
   "cell_type": "code",
   "execution_count": null,
   "metadata": {},
   "outputs": [],
   "source": [
    "!pggb build -i yprp.chrVIII.fa.gz -o output_chrVIII -n 12 -t 20 -p 95"
   ]
  },
  {
   "cell_type": "markdown",
   "metadata": {},
   "source": [
    "Create a copy of the output graph with a simpler name.\n"
   ]
  },
  {
   "cell_type": "code",
   "execution_count": null,
   "metadata": {},
   "outputs": [],
   "source": [
    "!cp output_chrVIII/yprp.chrVIII.fa.gz.*.smooth.final.gfa yprp.chrVIII.pggb.gfa"
   ]
  },
  {
   "cell_type": "markdown",
   "metadata": {},
   "source": [
    "You now have a graph file called yprp.chrVIII.pggb.gfa that is in GFA format. You will learn more about GFA format in the next submodule."
   ]
  },
  {
   "cell_type": "markdown",
   "metadata": {},
   "source": [
    "## Running pggb on all Chromosomes\n",
    "\n",
    "While you can run all the chromosomes the same way you ran chromosome VII, partitioning the sequences before building the graph allows us to parallelize the graph building.\n",
    "The partition-before-pggb command partitions the input FASTA into smaller FASTA \"communities\" containing sequences that should be in the same subgraph. This command uses the same parameters as pggb build.\n",
    "\n",
    "+ Will likely correspond to chromosomes if you have complete assemblies\n",
    "+ May improve run-time of normalization step and make downstream analysis easier\n",
    "+ Consider skipping partitioning if your assemblies/organism has complex structure you want represented in the graph, e.g. polyploidy, translocations, etc.\n",
    "\n",
    "The partition-before-pggb command will print a `pggb` command for every partition to the command line and to a log file: `output_all/yprp.all.fa.gz.*.log`\n",
    "\n"
   ]
  },
  {
   "cell_type": "code",
   "execution_count": null,
   "metadata": {},
   "outputs": [],
   "source": [
    "!partition-before-pggb -i yprp.all.fa.gz -o output_all -n 12 -t 20 -p 95 -s 5000"
   ]
  },
  {
   "cell_type": "markdown",
   "metadata": {},
   "source": [
    "Now get all of the partition commands from the log file into a bash script called run-pggb-partitions.sh."
   ]
  },
  {
   "cell_type": "code",
   "execution_count": null,
   "metadata": {},
   "outputs": [],
   "source": [
    "!sed -n '/pggb -i output_all/,$p' output_all/*.log > ./run-pggb-partitions.sh"
   ]
  },
  {
   "cell_type": "markdown",
   "metadata": {},
   "source": [
    "And now run the bash script, which will run all the partition commands. They will run sequentially, each using 20 threads."
   ]
  },
  {
   "cell_type": "code",
   "execution_count": null,
   "metadata": {},
   "outputs": [],
   "source": [
    "!./run-pggb-partitions.sh"
   ]
  },
  {
   "cell_type": "markdown",
   "metadata": {},
   "source": [
    "You now have 16 subgraphs, each in GFA format. Later, we will combine them into a single file."
   ]
  },
  {
   "cell_type": "markdown",
   "metadata": {},
   "source": [
    "### Quiz"
   ]
  },
  {
   "cell_type": "code",
   "execution_count": null,
   "metadata": {},
   "outputs": [],
   "source": [
    "#Install jupyterquiz library\n",
    "%pip install jupyterquiz"
   ]
  },
  {
   "cell_type": "code",
   "execution_count": null,
   "metadata": {},
   "outputs": [],
   "source": [
    "#Load jupyterquiz library\n",
    "from jupyterquiz import display_quiz"
   ]
  },
  {
   "cell_type": "code",
   "execution_count": null,
   "metadata": {},
   "outputs": [],
   "source": [
    "#Display quiz as html\n",
    "#Instructions for creating quiz .json files and converting to html provided in the links below\n",
    "from IPython.display import IFrame\n",
    "IFrame('module_notebooks/html/quiz_building_graphs.html', width=800, height=400)"
   ]
  },
  {
   "cell_type": "markdown",
   "metadata": {},
   "source": [
    "## Conclusion\n",
    "This module explained PGGB's graph building algorithm and output and its strengths and weaknesses.\n",
    "You obtained the yeast genomes, prepared the input data, and created a yeast pangenomic graph of chromosome VIII and one of the entire genome.\n",
    "In the next module you will learn how to visualize and explore these graphs.\n"
   ]
  },
  {
   "cell_type": "markdown",
   "metadata": {},
   "source": [
    "## Cleanup\n",
    "No cleanup is necessary for this submodule. Don't forget to shutdown your Workbench when you are done working through this module!"
   ]
  }
 ],
 "metadata": {},
 "nbformat": 4,
 "nbformat_minor": 4
}
