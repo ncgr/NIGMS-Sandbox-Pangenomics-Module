{
 "cells": [
  {
   "cell_type": "markdown",
   "metadata": {},
   "source": [
    "# Pangenomics\n",
    "--------------------------------------------"
   ]
  },
  {
   "cell_type": "markdown",
   "metadata": {},
   "source": [
    "# Reading Mapping with vg"
   ]
  },
  {
   "cell_type": "markdown",
   "metadata": {},
   "source": [
    "## Overview\n",
    "\n",
    "VG will allow you to map reads to pangenomic graphs. You will map reads from SK1 to the yeast pangenomic graph that you made with PGGB."
   ]
  },
  {
   "cell_type": "markdown",
   "metadata": {},
   "source": [
    "## Learning Objectives\n",
    "+ Understanding the difference between read mapping with a reference genome versus a pangenome\n",
    "+ Learn how to map reads to a pangenomic graph using vg"
   ]
  },
  {
   "cell_type": "markdown",
   "metadata": {},
   "source": [
    "## Get Started\n",
    "\n",
    "In this submodule you will be introduced to read mapping against a pangenomic graph. map SK1 reads to the PGGB yeast pangenomic graph using `vg be introduced to the Variation Graph Toolkit (VG toolkit) and learn how to use it to index graphs and get graph statistics.\n",
    "\n",
    "#### Read Mapping\n",
    "- Learn about the differences between aligning to a reference genome versus a pangenome\n",
    "- Learn about alignment formats\n",
    "- Get Illumina reads\n",
    "- Align reads\n",
    "- Get alignment statistics\n",
    "- Translate (\"surject\") aligments into genome coordinate space \n",
    "\n",
    "----------------------\n",
    "\n",
    "## Aligning to a reference genome vs a pangenome\n",
    "\n",
    "We will align reads to the indexed pangenomic graph that you created.\n",
    "\n",
    "Traditionally, reads are aligned to a reference genome. The reference genome represents a single individual of the species and it might be missing some of the genetic variation in the species. This means that some reads, containing this novel variation, might not align to the reference. In addition, there might be some bias when aligning reads and calling variants, with reads from individuals that are close to reference aligning better than those from more divergent individuals. This read alignment bias trickles down to the variant calling phase, possibly resulting in some missed variant calls for more evolutionarily divergent individuals.\n",
    "\n",
    "Pangenomics graphs capture more of the genetic variation that is in species. Therefore, using them as a reference reduces issues of missing variation and reference bias."
   ]
  },
  {
   "cell_type": "markdown",
   "metadata": {},
   "source": [
    "----------------------\n",
    "\n",
    "## Graph Alignment/Map (GAM) Format\n",
    "\n",
    "[GAM](https://github.com/vgteam/vg/wiki/File-Formats) is an alignment format analogous to [BAM](https://samtools.github.io/hts-specs/SAMv1.pdf), but for graphs.  \n",
    "+ Binary file describing where reads mapped to in the graph structure  \n",
    "+ Uncompressed has one read per line  \n",
    "+ Can be converted to JSON for manual parsing (very inefficient!)"
   ]
  },
  {
   "cell_type": "markdown",
   "metadata": {},
   "source": [
    "----------------------\n",
    "\n",
    "## Get Reads for Mapping\n",
    "\n",
    "We will use paired-end Illumina reads from SK1, which was also included in our graph. You could also align reads from an accession that is not in our graph. Download them using sratoolkit's `prefetch` and `fasterq-dump` commands from the Short Read Archive (SRA). They are in run accession SRR4074258.\n",
    "\n",
    "1. First, `prefetch` the accession, which makes getting the fastq data faster.\n",
    "\n",
    "The parameters:\n",
    "\n",
    "`--output-directory` specify output directory"
   ]
  },
  {
   "cell_type": "code",
   "execution_count": null,
   "metadata": {},
   "outputs": [],
   "source": [
    "!prefetch SRR4074258 --output-directory reads"
   ]
  },
  {
   "cell_type": "markdown",
   "metadata": {},
   "source": [
    "2. Then get the fastq files. `fasterq-dump` allows us to multi-thread the download and will automatically put the read1 and read2 sequence in different files. Point it to the prefetched data (SRR4074258/SRR4074258.sra).\n",
    "\n",
    "The parameters:\n",
    "\n",
    "`--outdir`  output directory (\".\" indicates the current directory)  \n",
    "`--outfile`  output file name (fasterq-dump will add _1 and _2 before the fastq as it separates out read1 and read2)  \n",
    "`--threads`  number of threads  \n",
    "`--progress`  show progress"
   ]
  },
  {
   "cell_type": "code",
   "execution_count": null,
   "metadata": {},
   "outputs": [],
   "source": [
    "!fasterq-dump --outdir reads --outfile SK1.illumina.fastq --threads 4 --progress reads/SRR4074258/SRR4074258.sra"
   ]
  },
  {
   "cell_type": "markdown",
   "metadata": {},
   "source": [
    "3. Now we have to *zip* the files, and rather than using `gzip`, we will use `pigz` (**p**arallel **i**mplementation of **gz**ip\") so that we can use multiple threads and complete the process more quickly. By default it will use all available threads, though that can be adjusted with the `--processes` parameter.\n",
    "\n",
    "<div class=\"alert alert-block alert-info\"> <b>NOTE:</b> The verbose setting (`-v`) is not very verbose so make sure you wait until the asterisk in the square brackets to the left of the code block is replaced by a number to know that it is done."
   ]
  },
  {
   "cell_type": "code",
   "execution_count": null,
   "metadata": {},
   "outputs": [],
   "source": [
    "!pigz reads/SK1.illumina_1.fastq\n",
    "!pigz reads/SK1.illumina_2.fastq"
   ]
  },
  {
   "cell_type": "markdown",
   "metadata": {},
   "source": [
    "4. Next, remove the prefetch directory."
   ]
  },
  {
   "cell_type": "code",
   "execution_count": null,
   "metadata": {},
   "outputs": [],
   "source": [
    "!rm -r reads/SRR4074258"
   ]
  },
  {
   "cell_type": "markdown",
   "metadata": {},
   "source": [
    "----------------------\n",
    "\n",
    "## Read Mapping\n",
    "\n",
    "1. Make an alignments directory.\n"
   ]
  },
  {
   "cell_type": "code",
   "execution_count": null,
   "metadata": {},
   "outputs": [],
   "source": [
    "!mkdir alignments"
   ]
  },
  {
   "cell_type": "markdown",
   "metadata": {},
   "source": [
    "2. We will use `vg giraffe` to map paired-end Illumina reads from the SK1 yeast accession to the chrVIII graph (yprp.chrVIII.pggb.vg).\n",
    "\n",
    "The parameters:  \n",
    "\n",
    "`-Z`  .gbz file  \n",
    "`-m`  .min file  \n",
    "`-d`  .dist file\n",
    "`-f`  fastq file (use more than once if feeding in paired-end read files)\n",
    "\n",
    "We will redirect the output into a gam file."
   ]
  },
  {
   "cell_type": "code",
   "execution_count": null,
   "metadata": {},
   "outputs": [],
   "source": [
    "!vg giraffe -p -Z graphs/yprp.chrVIII.pggb.giraffe.gbz -m graphs/yprp.chrVIII.pggb.min -d graphs/yprp.chrVIII.pggb.dist -f reads/SK1.illumina_1.fastq.gz -f reads/SK1.illumina_2.fastq.gz > alignments/SK1xyprp.chrVIII.pggb.mapped.gam"
   ]
  },
  {
   "cell_type": "markdown",
   "metadata": {},
   "source": [
    "<div class=\"alert alert-block alert-success\"> <b>Try this in the cells below:</b>  \n",
    "    <ul>\n",
    "        <li>Align the SK1 reads to the graph created directly from the full genome (yprp.fullgenome.pggb.giraffe.gbz).</li>\n",
    "        <li>Align the SK1 reads to the graph created by combining the 16 chromosomal subgraphs (yprp.allchrs.pggb.giraff.gbz).</li>\n",
    "    </ul>"
   ]
  },
  {
   "cell_type": "code",
   "execution_count": null,
   "metadata": {},
   "outputs": [],
   "source": [
    "# Align the SK1 reads to the genome graph created directly from the full genome"
   ]
  },
  {
   "cell_type": "code",
   "execution_count": null,
   "metadata": {},
   "outputs": [],
   "source": [
    "# Align the SK1 reads to the genome graph created by combining the 16 chromosomal subgraphs"
   ]
  },
  {
   "cell_type": "markdown",
   "metadata": {},
   "source": [
    "<details>\n",
    "<summary>Click for help</summary>\n",
    "<br>\n",
    "!vg giraffe -p -Z graphs/yprp.fullgenome.pggb.giraffe.gbz -m graphs/yprp.fullgenome.pggb.min -d graphs/yprp.fullgenome.pggb.dist -f reads/SK1.illumina_1.fastq.gz -f reads/SK1.illumina_2.fastq.gz > alignments/SK1xyprp.fullgenome.pggb.mapped.gam  \n",
    "\n",
    "\n",
    "!vg giraffe -p -Z graphs/yprp.allchrs.pggb.giraffe.gbz -m graphs/yprp.allchrs.pggb.min -d graphs/yprp.allchrs.pggb.dist -f reads/SK1.illumina_1.fastq.gz -f reads/SK1.illumina_2.fastq.gz > alignments/SK1xyprp.allchrs.pggb.mapped.gam\n",
    "</details>"
   ]
  },
  {
   "cell_type": "markdown",
   "metadata": {},
   "source": [
    "----------------------\n",
    "\n",
    "## Mapping statistics\n",
    "\n",
    "1. Now we can compute some mapping statistics using `vg stats`.\n",
    "\n",
    "The parameters:\n",
    "\n",
    "`-a` alignment (GAM) file"
   ]
  },
  {
   "cell_type": "code",
   "execution_count": null,
   "metadata": {},
   "outputs": [],
   "source": [
    "!vg stats -a alignments/SK1xyprp.chrVIII.pggb.mapped.gam"
   ]
  },
  {
   "cell_type": "markdown",
   "metadata": {},
   "source": [
    "The first two lines reflect the number of reads."
   ]
  },
  {
   "cell_type": "markdown",
   "metadata": {},
   "source": [
    "Run the code below to see the flashcard."
   ]
  },
  {
   "cell_type": "code",
   "execution_count": null,
   "metadata": {},
   "outputs": [],
   "source": [
    "from IPython.display import IFrame\n",
    "IFrame('../html/flashcard_readalign.html', width=800, height=400)"
   ]
  },
  {
   "cell_type": "markdown",
   "metadata": {},
   "source": [
    "<div class=\"alert alert-block alert-success\"> <b>Try this in the cells below:</b>  \n",
    "    <ul>\n",
    "        <li>Get alignment stats for the graph created directly from the full genome (yprp.fullgenome.pggb.vg).</li>\n",
    "        <li>Get alignment stats for the graph created by combining the 16 chromosomal subgraphs (yprp.allchrs.pggb.vg).</li>\n",
    "        <li>What differences do you notice between the stats for these two graphs?</li> \n",
    "    </ul>"
   ]
  },
  {
   "cell_type": "code",
   "execution_count": null,
   "metadata": {},
   "outputs": [],
   "source": [
    "# Get alignment stats for the genome graph created directly from the full genome"
   ]
  },
  {
   "cell_type": "code",
   "execution_count": null,
   "metadata": {},
   "outputs": [],
   "source": [
    "# Get alignment stats for the genome graph created by combining the 16 chromosomal subgraphs"
   ]
  },
  {
   "cell_type": "markdown",
   "metadata": {},
   "source": [
    "<details>\n",
    "<summary>Click for help</summary>\n",
    "<br>\n",
    "!vg stats -a alignments/SK1xyprp.fullgenome.pggb.mapped.gam  \n",
    "\n",
    "!vg stats -a alignments/SK1xyprp.allchrs.pggb.mapped.gam\n",
    "</details>"
   ]
  },
  {
   "cell_type": "code",
   "execution_count": null,
   "metadata": {},
   "outputs": [],
   "source": [
    "from IPython.display import IFrame\n",
    "IFrame('../html/flashcard_aligndiff.html', width=800, height=400)"
   ]
  },
  {
   "cell_type": "markdown",
   "metadata": {},
   "source": [
    "----------------------\n",
    "\n",
    "## Bringing Alignments Back to Individual Genomes\n",
    "\n",
    "1. Our reads are mapped to the pangenomic graph. If we need to bring the alignments back into coordinates for individual genomes, we can \"surject\" them into a genome of our choice using `vg surject`.\n",
    "\n",
    "The parameters:\n",
    "\n",
    "`-i` pairs are interleaved\n",
    "`-x` the graph to use  \n",
    "`-b` stdout is in bam format  \n",
    "`-t` the number of threads to use  \n",
    "`-p` path to surject into  \n",
    "Graph alignment file (gam)\n",
    "\n",
    "We will redirect the output into a bam file.\n",
    "\n",
    "We'll surject variants onto S288C_chrVIII."
   ]
  },
  {
   "cell_type": "code",
   "execution_count": null,
   "metadata": {},
   "outputs": [],
   "source": [
    "!vg surject -i -x graphs/yprp.chrVIII.pggb.giraffe.gbz -b -t 20 -p S288C_chrVIII alignments/SK1xyprp.chrVIII.pggb.mapped.gam > alignments/SK1xyprp.chrVIII.pggb.mapped.bam"
   ]
  },
  {
   "cell_type": "markdown",
   "metadata": {},
   "source": [
    "2. Let's get some alignment statistics from the bam file using `samtools stats`. We will focus on the summary numbers."
   ]
  },
  {
   "cell_type": "code",
   "execution_count": null,
   "metadata": {},
   "outputs": [],
   "source": [
    "!samtools stats alignments/SK1xyprp.chrVIII.pggb.mapped.bam | grep ^SN | cut -f 2-"
   ]
  },
  {
   "cell_type": "markdown",
   "metadata": {},
   "source": [
    "Run the code below to show flashcards about the alignment statistics."
   ]
  },
  {
   "cell_type": "code",
   "execution_count": null,
   "metadata": {},
   "outputs": [],
   "source": [
    "from IPython.display import IFrame\n",
    "IFrame('../html/flashcard_bam.html', width=800, height=400)"
   ]
  },
  {
   "cell_type": "markdown",
   "metadata": {},
   "source": [
    "Now, surject it for the entire S288C genome using the alignments in SK1xyprp.fullgenome.pggb.mapped.gam.\n",
    "\n",
    "The `-p` parameter will only take one sequence. We will use the `-F` parameter because it allows you to feed in a file with a list of sequences.\n",
    "\n",
    "3. First, make a file with a list of sequences from the S288C genome."
   ]
  },
  {
   "cell_type": "code",
   "execution_count": null,
   "metadata": {},
   "outputs": [],
   "source": [
    "!grep '>S288C' assemblies/yprp.all.fa | sed 's/>//' > assemblies/S288C.seqs.txt"
   ]
  },
  {
   "cell_type": "markdown",
   "metadata": {},
   "source": [
    "4. Next, run the surjection."
   ]
  },
  {
   "cell_type": "code",
   "execution_count": null,
   "metadata": {},
   "outputs": [],
   "source": [
    "!vg surject -i -x graphs/yprp.fullgenome.pggb.giraffe.gbz -b -t 20 -F assemblies/S288C.seqs.txt alignments/SK1xyprp.fullgenome.pggb.mapped.gam > alignments/SK1xyprp.fullgenome.pggb.mapped.bam"
   ]
  },
  {
   "cell_type": "markdown",
   "metadata": {},
   "source": [
    "<div class=\"alert alert-block alert-success\"> <b>Try this in the cell below:</b>  \n",
    "    <ul>\n",
    "        <li>Get alignment stats for the S288C variants surjected from the full graph .gam file (alignments/SK1xyprp.fullgenome.pggb.mapped.bam)</li>\n",
    "    </ul>"
   ]
  },
  {
   "cell_type": "code",
   "execution_count": null,
   "metadata": {},
   "outputs": [],
   "source": [
    "# Get alignment stats for the S288C variants surjected from the full graph"
   ]
  },
  {
   "cell_type": "markdown",
   "metadata": {},
   "source": [
    "<details>\n",
    "<summary>Click for help</summary>\n",
    "<br>\n",
    "\n",
    "!samtools stats alignments/SK1xyprp.fullgenome.pggb.mapped.bam | grep ^SN | cut -f 2-\n",
    "\n",
    "</details>"
   ]
  },
  {
   "cell_type": "markdown",
   "metadata": {},
   "source": [
    "----------------------\n",
    "\n",
    "## Conclusion\n",
    "\n",
    "In this submodule, you learned how to align reads directly to a pangenomic graph and how to surject those alignments into coordinates within individual genomes. In addition, you learned how to calculate alignment statistics. We also discussed details about the SAM, BAM, and GAM alignment file formats.\n",
    "\n",
    "----------------------"
   ]
  },
  {
   "cell_type": "markdown",
   "metadata": {},
   "source": [
    "## Clean up\n",
    "\n",
    "<div class=\"alert alert-warning\">No cleanup is necessary for this submodule. Don't forget to shutdown your Workbench when you are done working through this module!.</div>"
   ]
  }
 ],
 "metadata": {
  "environment": {
   "kernel": "conda-env-nigms-pangenomics-nigms-pangenomics",
   "name": "workbench-notebooks.m127",
   "type": "gcloud",
   "uri": "us-docker.pkg.dev/deeplearning-platform-release/gcr.io/workbench-notebooks:m127"
  },
  "kernelspec": {
   "display_name": "nigms-pangenomics",
   "language": "python",
   "name": "conda-env-nigms-pangenomics-nigms-pangenomics"
  },
  "language_info": {
   "codemirror_mode": {
    "name": "ipython",
    "version": 3
   },
   "file_extension": ".py",
   "mimetype": "text/x-python",
   "name": "python",
   "nbconvert_exporter": "python",
   "pygments_lexer": "ipython3",
   "version": "3.12.9"
  }
 },
 "nbformat": 4,
 "nbformat_minor": 4
}
