{
 "cells": [
  {
   "cell_type": "markdown",
   "metadata": {},
   "source": [
    "# Pangenomics\n",
    "--------------------------------------------"
   ]
  },
  {
   "cell_type": "markdown",
   "metadata": {},
   "source": [
    "# Indexing Graphs with vg"
   ]
  },
  {
   "cell_type": "markdown",
   "metadata": {},
   "source": [
    "## Overview\n",
    "\n",
    "The Variation Graph Toolkit (VG) allows us to perform different operations on pangenomic graphs. You will learn about VG's capabilities and use VG to index PGGB graphs."
   ]
  },
  {
   "cell_type": "markdown",
   "metadata": {},
   "source": [
    "## Learning Objectives\n",
    "+ Understand VG and the different things it can be used for\n",
    "+ Learn how to index graphs using vg "
   ]
  },
  {
   "cell_type": "markdown",
   "metadata": {},
   "source": [
    "## Get Started\n",
    "\n",
    "We will use the Variation Graph Toolkit (VG) to index our PGGB graphs, map sequences to them, and call variants.\n",
    "\n",
    "However, VG can also create graphs and do many other steps in pangenomic analysis.\n",
    "If you would like to learn about how to construct and manipulate graphs using VG and other pangenomic tools, please see [our virtual workshops](https://inbre.ncgr.org/ncgr-workshops/upcoming-ncgr-workshops.html).\n"
   ]
  },
  {
   "cell_type": "markdown",
   "metadata": {},
   "source": [
    "### Variation Graph Toolkit (VG)\n",
    "\n",
    "While we will not use VG to create pangenomics graphs in this module, it is important to understand the kinds of graphs that VG understands.\n",
    "\n",
    "VG creates graphs that are cyclic, meaning that paths through the graph can be revisited.\n",
    "This is important for capturing, for example, duplicated genomic regions.\n",
    "\n",
    "VG graphs are otherwise general.\n",
    "They are considered reference graphs, iterative, and reference-free.\n",
    "\n",
    "VG has tools that can do the following pangenomic steps.\n",
    "\n",
    "+ Constructs graphs\n",
    "+ Manipulates graphs\n",
    "+ Indexes graphs\n",
    "+ Maps sequences to graphs\n",
    "+ Calls variants on mapped sequences\n",
    "+ Visualizes graphs\n",
    "\n",
    "VG can also do:\n",
    "\n",
    "+ [Transcriptomic analysis](https://github.com/vgteam/vg#transcriptomic-analysis)\n",
    "+ Assembly-based pipelines\n",
    "+ So much more\n",
    "\n",
    "Citation:\n",
    "\n",
    "![Garrison, E., Sirén, J., Novak, A. et al.](./Figures/VGref.png)\n",
    "\n",
    "![vg Graph Genomics Pipeline: https://github.com/vgteam/vg](./Figures/VGpipe.png)\n",
    "\n",
    "\n",
    "A reference genome \"decorated\" with variants:\n",
    "\n",
    "![GRAF™ Pan Genome Reference: https://www.sevenbridges.com/graf/](./Figures/GRAF.png)\n",
    " "
   ]
  },
  {
   "cell_type": "markdown",
   "metadata": {},
   "source": [
    "### VG Index Formats\n",
    "\n",
    "VG has several different index formats.\n",
    "\n",
    "XG (lightweight graph / path representation)\n",
    "\n",
    "+ Binary file containing graph structure (nodes, edges, paths) but no sequences\n",
    "+ Complex data structure that answers graph queries efficiently\n",
    "\n",
    "GCSA (Generalized Compressed Suffix Array)\n",
    "\n",
    "+ Equivalent to .sa file created by bwa index\n",
    "+ Binary file containing a suffix array that efficiently looks up where sequences occur in the graph\n",
    "\n",
    "For more information, visit https://github.com/vgteam/vg/wiki/File-Formats"
   ]
  },
  {
   "cell_type": "markdown",
   "metadata": {},
   "source": [
    "### Converting our graphs from GFA to VG format\n",
    "\n",
    "Previously, you created two graphs using PGGB:  \n",
    "yprp.chrVIII.pggb.gfa (a graph for yeast chromosome VIII)  \n",
    "yprp.all.pggb.gfa (a graph for the entire yeast genome)\n",
    "\n",
    "The first step is to convert the graphs from GFA to VG format.\n",
    "\n",
    "NOTE: You can index a GFA file rather than a VG file but this may have implications for mapping reads.\n",
    "There’s also an [autoindex](https://github.com/vgteam/vg/wiki/Automatic-indexing-for-read-mapping-and-downstream-inference) command."
   ]
  },
  {
   "cell_type": "code",
   "execution_count": null,
   "metadata": {},
   "outputs": [],
   "source": [
    "!vg convert -f yprp.chrVIII.pggb.gfa > yprp.chrVIII.pggb.vg"
   ]
  },
  {
   "cell_type": "markdown",
   "metadata": {},
   "source": [
    "<div class=\"alert alert-block alert-info\"> <b>Try this:</b>  \n",
    "    <ul>\n",
    "        <li>Create a blank code cell below (hover over the icons in the upper right of this cell and choose \"Insert a cell below (B)\").</li>\n",
    "        <li>Convert yprp.all.pggb.gfa from GFA format to VG.</li>\n",
    "        <li>Call the resulting file yprp.all.pggb.vg</li></a>. </div>\n",
    "    </ul>\n",
    ""
   ]
  },
  {
   "cell_type": "markdown",
   "metadata": {},
   "source": [
    "<details>\n",
    "<summary>Click for help</summary>\n",
    "<br>\n",
    "vg convert -f yprp.all.pggb.gfa > yprp.all.pggb.vg\n",
    "</details>"
   ]
  },
  {
   "cell_type": "markdown",
   "metadata": {},
   "source": [
    "### Indexing with VG\n",
    "\n",
    "Generate .xg and .gcsa files on the S288C.vg file that you generated previously using PGGB.\n",
    "\n",
    "The parameters:\n",
    "\n",
    "-x Name of the .xg index file  \n",
    "-g Name of the .gcsa index file  \n",
    "-t The number of threads\n"
   ]
  },
  {
   "cell_type": "code",
   "execution_count": null,
   "metadata": {},
   "outputs": [],
   "source": [
    "!vg index -x yprp.chrVIII.pggb.xg -g yprp.chrVIII.pggb.gcsa yprp.chrVIII.pggb.vg -t 20"
   ]
  },
  {
   "cell_type": "markdown",
   "metadata": {},
   "source": [
    "<div class=\"alert alert-block alert-info\"> <b>Try this:</b>  \n",
    "    <ul>\n",
    "        <li>Create a blank code cell below.</li>\n",
    "        <li>Index yprp.all.pggb.vg.</li>\n",
    "    </ul>"
   ]
  },
  {
   "cell_type": "markdown",
   "metadata": {},
   "source": [
    "<details>\n",
    "<summary>Click for help</summary>\n",
    "<br>\n",
    "vg index -x yprp.all.pggb.xg -g yprp.all.pggb.gcsa yprp.all.pggb.vg -t 20\n",
    "</details>"
   ]
  },
  {
   "cell_type": "markdown",
   "metadata": {},
   "source": [
    "## Conclusion\n",
    "In this submodule you learned about the VG toolkit and what it can be used for. You also learned how to index graphs with VG and indexed the PGGB graph that you had previously made. In the next submodule, you will learn how to map reads to the indexed graph."
   ]
  },
  {
   "cell_type": "markdown",
   "metadata": {},
   "source": [
    "## Clean up\n",
    "No cleanup is necessary for this submodule. Don't forget to shutdown your Workbench when you are done working through this module!"
   ]
  }
 ],
 "metadata": {
  "environment": {
   "kernel": "",
   "name": "workbench-notebooks.m126",
   "type": "gcloud",
   "uri": "us-docker.pkg.dev/deeplearning-platform-release/gcr.io/workbench-notebooks:m126"
  },
  "kernelspec": {
   "display_name": "",
   "name": ""
  },
  "language_info": {
   "name": ""
  },
  "nbdime-conflicts": {
   "local_diff": [
    {
     "diff": [
      {
       "diff": [
        {
         "key": 0,
         "op": "addrange",
         "valuelist": [
          "conda-env-nigms-pangenomics-nigms-pangenomics"
         ]
        }
       ],
       "key": "kernel",
       "op": "patch"
      }
     ],
     "key": "environment",
     "op": "patch"
    },
    {
     "diff": [
      {
       "diff": [
        {
         "key": 0,
         "op": "addrange",
         "valuelist": [
          "nigms-pangenomics"
         ]
        }
       ],
       "key": "display_name",
       "op": "patch"
      },
      {
       "key": "language",
       "op": "add",
       "value": "python"
      },
      {
       "diff": [
        {
         "key": 0,
         "op": "addrange",
         "valuelist": [
          "conda-env-nigms-pangenomics-nigms-pangenomics"
         ]
        }
       ],
       "key": "name",
       "op": "patch"
      }
     ],
     "key": "kernelspec",
     "op": "patch"
    },
    {
     "diff": [
      {
       "key": "codemirror_mode",
       "op": "add",
       "value": {
        "name": "ipython",
        "version": 3
       }
      },
      {
       "key": "file_extension",
       "op": "add",
       "value": ".py"
      },
      {
       "key": "mimetype",
       "op": "add",
       "value": "text/x-python"
      },
      {
       "diff": [
        {
         "key": 0,
         "op": "addrange",
         "valuelist": [
          "python"
         ]
        }
       ],
       "key": "name",
       "op": "patch"
      },
      {
       "key": "nbconvert_exporter",
       "op": "add",
       "value": "python"
      },
      {
       "key": "pygments_lexer",
       "op": "add",
       "value": "ipython3"
      },
      {
       "key": "version",
       "op": "add",
       "value": "3.12.8"
      }
     ],
     "key": "language_info",
     "op": "patch"
    }
   ],
   "remote_diff": [
    {
     "key": "environment",
     "op": "remove"
    },
    {
     "key": "kernelspec",
     "op": "remove"
    },
    {
     "key": "language_info",
     "op": "remove"
    }
   ]
  }
 },
 "nbformat": 4,
 "nbformat_minor": 4
}
