{
 "cells": [
  {
   "cell_type": "markdown",
   "metadata": {},
   "source": [
    "# Pangenomics\n",
    "--------------------------------------------"
   ]
  },
  {
   "cell_type": "markdown",
   "metadata": {},
   "source": [
    "# Indexing Graphs with vg"
   ]
  },
  {
   "cell_type": "markdown",
   "metadata": {},
   "source": [
    "## Overview\n",
    "\n",
    "The Variation Graph Toolkit (VG) allows us to perform different operations on pangenomic graphs. You will learn about VG's capabilities and use VG to index PGGB graphs and get some stats."
   ]
  },
  {
   "cell_type": "markdown",
   "metadata": {},
   "source": [
    "## Learning Objectives\n",
    "+ Understand VG and the different things it can be used for\n",
    "+ Learn how to index graphs \n",
    "+ Get stats on the graphs"
   ]
  },
  {
   "cell_type": "markdown",
   "metadata": {},
   "source": [
    "## Get Started\n",
    "\n",
    "We will use the Variation Graph Toolkit (VG) to index our PGGB graphs, map sequences to them, and call variants.\n",
    "\n",
    "However, VG can also create graphs and do many other steps in pangenomic analysis.\n",
    "If you would like to learn about how to construct and manipulate graphs using VG and other pangenomic tools, please see [our virtual workshops](https://inbre.ncgr.org/ncgr-workshops/upcoming-ncgr-workshops.html).\n"
   ]
  },
  {
   "cell_type": "markdown",
   "metadata": {},
   "source": [
    "### Variation Graph Toolkit (VG)\n",
    "\n",
    "While we will not use VG to create pangenomics graphs in this module, it is important to understand the kinds of graphs that VG understands.\n",
    "\n",
    "VG creates graphs that are cyclic, meaning that paths through the graph can be revisited.\n",
    "This is important for capturing, for example, duplicated genomic regions.\n",
    "\n",
    "VG graphs are otherwise general.\n",
    "They are considered reference graphs, iterative, and reference-free.\n",
    "\n",
    "VG has tools that can do the following pangenomic steps.\n",
    "\n",
    "+ Constructs graphs\n",
    "+ Manipulates graphs\n",
    "+ Indexes graphs\n",
    "+ Maps sequences to graphs\n",
    "+ Calls variants on mapped sequences\n",
    "+ Visualizes graphs\n",
    "\n",
    "VG can also do:\n",
    "\n",
    "+ [Transcriptomic analysis](https://github.com/vgteam/vg#transcriptomic-analysis)\n",
    "+ Assembly-based pipelines\n",
    "+ So much more\n",
    "\n",
    "Citation:\n",
    "\n",
    "![Garrison, E., Sirén, J., Novak, A. et al.](./Figures/VGref.png)\n",
    "\n",
    "![vg Graph Genomics Pipeline: https://github.com/vgteam/vg](./Figures/VGpipe.png)\n",
    "\n",
    "\n",
    "A reference genome \"decorated\" with variants:\n",
    "\n",
    "![GRAF™ Pan Genome Reference: https://www.sevenbridges.com/graf/](./Figures/GRAF.png)\n",
    " "
   ]
  },
  {
   "cell_type": "markdown",
   "metadata": {},
   "source": [
    "### Converting our graphs from GFA to VG format\n",
    "\n",
    "Previously, you created these graphs using PGGB:  \n",
    "yprp.chrVIII.pggb.gfa (a graph for yeast chromosome VIII)  \n",
    "output_allchrs/*/*gfa (16 subgraphs representing the 16 yeast chromosomes)  \n",
    "yprp.yprp.fullgenome.pggb.gfa.pggb.gfa (a graph for the entire yeast genome)\n",
    "\n",
    "Before indexing, we need to convert the graphs from GFA to VG format.\n",
    "\n",
    "NOTE: You can index a GFA file rather than a VG file but this may have implications for mapping reads.\n",
    "There’s also an [autoindex](https://github.com/vgteam/vg/wiki/Automatic-indexing-for-read-mapping-and-downstream-inference) command."
   ]
  },
  {
   "cell_type": "code",
   "execution_count": null,
   "metadata": {},
   "outputs": [],
   "source": [
    "!vg convert -f yprp.chrVIII.pggb.gfa > yprp.chrVIII.pggb.vg"
   ]
  },
  {
   "cell_type": "markdown",
   "metadata": {},
   "source": [
    "<div class=\"alert alert-block alert-info\"> <b>Try this for the full graph (yprp.fullgenome.pggb.gfa):\n",
    "</b>  \n",
    "    <ul>\n",
    "        <li>Create a blank code cell below.</li>\n",
    "        <li>Convert yprp.fullgenome.pggb.gfa from GFA format to VG, calling the result \"yprp.fullgenome.pggb.vg\"</li></a>. </div>\n",
    "    </ul>\n"
   ]
  },
  {
   "cell_type": "markdown",
   "metadata": {},
   "source": [
    "<details>\n",
    "<summary>Click for help</summary>\n",
    "<br>\n",
    "!vg convert -f yprp.fullgenome.pggb.gfa > yprp.fullgenome.pggb.vg\n",
    "</details>"
   ]
  },
  {
   "cell_type": "markdown",
   "metadata": {},
   "source": [
    "Now practice on the 16 chromosome subgraphs. Convert each one to vg format. You could do each one individually but a for loop will make it easier. The gfa files are labelled 0-15."
   ]
  },
  {
   "cell_type": "code",
   "execution_count": null,
   "metadata": {},
   "outputs": [],
   "source": [
    "!for i in {0..15}; \\\n",
    "do \\\n",
    "    vg convert -f output_allchrs/*/*community.${i}.fa*gfa > yprp.allchrs.${i}.vg; \\\n",
    "done"
   ]
  },
  {
   "cell_type": "markdown",
   "metadata": {},
   "source": [
    "At this point, you can continue to keep them separate but let's merge them into a single graph using 'vg combine'."
   ]
  },
  {
   "cell_type": "code",
   "execution_count": null,
   "metadata": {},
   "outputs": [],
   "source": [
    "!vg combine yprp.allchrs.{0..15}.vg > yprp.allchrs.pggb.vg"
   ]
  },
  {
   "cell_type": "markdown",
   "metadata": {},
   "source": [
    "### Indexing with VG\n",
    "\n",
    "We need to index the graph before we do read mapping. In this case, we will create the necessary indexes for `vg Giraffe`, which we will use for read mapping. We will index with `vg autoindex`.\n",
    "\n",
    "The parameters:\n",
    "\n",
    "--workflow  The name of the downstream workflow you are preparing for    \n",
    "-g  Name of the graph  \n",
    "-p  Output prefix\n",
    "\n",
    "Index the chrVII graph."
   ]
  },
  {
   "cell_type": "code",
   "execution_count": null,
   "metadata": {},
   "outputs": [],
   "source": [
    "!vg autoindex --workflow giraffe -g yprp.chrVIII.pggb.vg -p yprp.chrVIII.pggb"
   ]
  },
  {
   "cell_type": "markdown",
   "metadata": {},
   "source": [
    "This will create all the necessary files for `vg giraffe`:\n",
    "\n",
    "yprp.chrVIII.pggb.giraffe.gbz  \n",
    "+ This ia a [GBZ](https://academic.oup.com/bioinformatics/article/38/22/5012/6731924?login=false) format graph that includes a [GBWT](https://github.com/jltsiren/gbwt) index and the corresponding GBWTGraph.\n",
    "\n",
    "yprp.chrVIII.pggb.min\n",
    "+ Minimizer index annotated with positions in the distance index.\n",
    "\n",
    "yprp.chrVIII.pggb.dist\n",
    "+ Minimum distance index."
   ]
  },
  {
   "cell_type": "markdown",
   "metadata": {},
   "source": [
    "Make sure the files are all there by listing the files.\n",
    "\n",
    "The parameters:\n",
    "-l  List it in long form (this will allow us to see the size of the file).\n",
    "\n",
    "NOTE: This will list some of our original graphs as well."
   ]
  },
  {
   "cell_type": "code",
   "execution_count": null,
   "metadata": {},
   "outputs": [],
   "source": [
    "!ls -l yprp.chrVIII.pggb.*"
   ]
  },
  {
   "cell_type": "markdown",
   "metadata": {},
   "source": [
    "<div class=\"alert alert-block alert-info\"> <b>Try this:\n",
    "</b>  \n",
    "    <ul>\n",
    "        <li>Create a blank code cell below.</li>\n",
    "        <li>Index the graph we made from the full genome (yprp.fullgenome.pggb.vg).</li>        \n",
    "    </ul>"
   ]
  },
  {
   "cell_type": "markdown",
   "metadata": {},
   "source": [
    "<details>\n",
    "<summary>Click for help</summary>\n",
    "<br>\n",
    "\n",
    "!vg autoindex --workflow giraffe -g yprp.fullgenome.pggb.vg -p yprp.fullgenome.pggb\n",
    "\n",
    "</details>"
   ]
  },
  {
   "cell_type": "markdown",
   "metadata": {},
   "source": [
    "<div class=\"alert alert-block alert-info\"> <b>Try this:\n",
    "    </b>  \n",
    "    <ul>\n",
    "        <li>Create a blank code cell below.</li>\n",
    "        <li>Index the combined graph, originally run as individual chromosomes (yprp.allchrs.pggb.vg).</li>        \n",
    "    </ul>"
   ]
  },
  {
   "cell_type": "markdown",
   "metadata": {},
   "source": [
    "<details>\n",
    "<summary>Click for help</summary>\n",
    "<br>\n",
    "\n",
    "!vg autoindex --workflow giraffe -g yprp.allchrs.pggb.vg -p yprp.allchrs.pggb\n",
    "\n",
    "</details>"
   ]
  },
  {
   "cell_type": "markdown",
   "metadata": {},
   "source": [
    "### Graph statistics\n",
    "\n",
    "Let's get some graph statistics for all 3 graphs, starting with the chrVIII graph.\n",
    "\n",
    "**vg stats**\n",
    "\n",
    "+ -z, --size             size of graph\n",
    "+ -N, --node-count       number of nodes in graph\n",
    "+ -E, --edge-count       number of edges in graph\n",
    "+ -l, --length           length of sequences in graph\n",
    "\n",
    "NOTE: the number of nodes and edges is given by default but calling them explicitly means they will be labeled."
   ]
  },
  {
   "cell_type": "code",
   "execution_count": null,
   "metadata": {},
   "outputs": [],
   "source": [
    "!vg stats -z -N -E -l yprp.chrVIII.pggb.vg"
   ]
  },
  {
   "cell_type": "markdown",
   "metadata": {},
   "source": [
    "The length of chromosome VIII is ~5.5-5.8k. So a size of just over 600k makes sense--it covers the full chromosome length plus a little more to account for regions that have diverged between our 3 accessions and, therefore, have more than one version in the graph."
   ]
  },
  {
   "cell_type": "markdown",
   "metadata": {},
   "source": [
    "<div class=\"alert alert-block alert-info\"> <b>Try this:</b>  \n",
    "    <ul>\n",
    "        <li>Create a blank code cell below.</li>\n",
    "        <li>Get stats for the graph created directly from the full genome (yprp.fullgenome.pggb.vg).</li>\n",
    "        <li>Get stats for the graph created by combining the 16 chromosomal subgraphs (yprp.allchrs.pggb.vg).</li>\n",
    "        <li>What differences do you notice between the stats for these two graphs?</li> \n",
    "    </ul>"
   ]
  },
  {
   "cell_type": "markdown",
   "metadata": {},
   "source": [
    "<details>\n",
    "<summary>Click for help</summary>\n",
    "<br>\n",
    "\n",
    "!vg stats -z -N -E -l yprp.fullgenome.pggb.vg\n",
    "\n",
    "!vg stats -z -N -E -l yprp.allchrs.pggb.vg\n",
    "\n",
    "The graph made directly from the full genome has more nodes and edges. This likely reflects the extra connections between chromosomes that you would expect in this graph, made with all the chromosomes at once, that are not in the other graph, where chromosomes were isolated during the building of the graph. These extra connections may have created additional nodes when they connected not quite identical sequence between chromosomes, splitting what would have been a single node of identical sequence into more than one node to take account of the sequence differences.\n",
    "\n",
    "The graph made from individual chromosome subgraphs has a slightly longer sequence length, possibly reflecting some duplication between chromosomes that wasn't fully merged.\n",
    "\n",
    "</details>"
   ]
  },
  {
   "cell_type": "markdown",
   "metadata": {},
   "source": [
    "## Conclusion\n",
    "In this submodule you learned about the VG toolkit and what it can be used for. You also learned how to index graphs with VG and indexed the PGGB graphs that you had previously made. You also learned how to obtain graph statistics. In the next submodule, you will learn how to map reads to the indexed graph."
   ]
  },
  {
   "cell_type": "markdown",
   "metadata": {},
   "source": [
    "## Clean up\n",
    "No cleanup is necessary for this submodule. Don't forget to shutdown your Workbench when you are done working through this module!"
   ]
  }
 ],
 "metadata": {
  "kernelspec": {
   "display_name": "nigms-pangenomics",
   "language": "python",
   "name": "conda-env-nigms-pangenomics-nigms-pangenomics"
  },
  "language_info": {
   "codemirror_mode": {
    "name": "ipython",
    "version": 3
   },
   "file_extension": ".py",
   "mimetype": "text/x-python",
   "name": "python",
   "nbconvert_exporter": "python",
   "pygments_lexer": "ipython3",
   "version": "3.12.8"
  }
 },
 "nbformat": 4,
 "nbformat_minor": 4
}
