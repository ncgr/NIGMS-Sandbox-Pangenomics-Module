{
 "cells": [
  {
   "cell_type": "markdown",
   "metadata": {},
   "source": [
    "# Pangenomics\n",
    "--------------------------------------------"
   ]
  },
  {
   "cell_type": "markdown",
   "metadata": {},
   "source": [
    "# Searching Graphs with BLAST"
   ]
  },
  {
   "cell_type": "markdown",
   "metadata": {},
   "source": [
    "\n",
    "## Overview\n",
    "Here you will learn how to search graphs with BLAST. In other words, you can use a DNA sequence, such as your favorite gene, to search the pangenomic graph, discover the structure of the graph, and explore homologous sequences."
   ]
  },
  {
   "cell_type": "markdown",
   "metadata": {},
   "source": [
    "## Learning Objectives\n",
    "+ Learn how to use BLAST to search a pangenome graph"
   ]
  },
  {
   "cell_type": "markdown",
   "metadata": {},
   "source": [
    "## Get Started\n",
    "\n",
    "### Get the CUP1 and YHR054C gene sequences\n",
    "\n",
    "We will blast the CUP1 (YHR053C) and YHR054C gene sequences against a linearized version of the graph.\n",
    "\n",
    "First, get the gene sequences. There are multiple copies of each but we'll grab the first instance and use it to identify all copies through BLAST alignment.\n",
    "\n",
    "\n",
    "<div class=\"alert alert-block alert-success\"> <b>Gene Coordinates:</b><br>  \n",
    "    CUP1 S288C_chrVIII:213043-213228<br>\n",
    "    YHR054C S288C_chrVIII:213693-214757<br>\n",
    "    Both are on the \"-\" strand.</a> </div>  \n",
    "    <ul>\n",
    "      \n",
    "\n",
    "Use `samtools faidx`.\n",
    "\n",
    "The parameters:\n",
    "\n",
    "-i  reverse-complement  \n",
    "input fasta  \n",
    "region coordinates"
   ]
  },
  {
   "cell_type": "code",
   "execution_count": null,
   "metadata": {},
   "outputs": [],
   "source": [
    "!samtools faidx -i yprp.chrVIII.fa S288C_chrVIII:213043-213228 > genes.fa\n",
    "\n",
    "!samtools faidx -i yprp.chrVIII.fa S288C_chrVIII:213693-214757 >> genes.fa"
   ]
  },
  {
   "cell_type": "markdown",
   "metadata": {},
   "source": [
    "Take a look at the file you just made."
   ]
  },
  {
   "cell_type": "code",
   "execution_count": null,
   "metadata": {},
   "outputs": [],
   "source": [
    "!cat genes.fa"
   ]
  },
  {
   "cell_type": "markdown",
   "metadata": {},
   "source": [
    "Let's rename the sequences so they have the gene names rather than coordinates. Use `sed`.\n",
    "\n",
    "The parameters:\n",
    "\n",
    "-i edit in place"
   ]
  },
  {
   "cell_type": "code",
   "execution_count": null,
   "metadata": {},
   "outputs": [],
   "source": [
    "!sed -i 's/S288C_chrVIII:213043-213228.rc/CUP1/' genes.fa\n",
    "\n",
    "!sed -i 's/S288C_chrVIII:213693-214757.rc/YHR054C/' genes.fa"
   ]
  },
  {
   "cell_type": "markdown",
   "metadata": {},
   "source": [
    "Take a look at it again."
   ]
  },
  {
   "cell_type": "code",
   "execution_count": null,
   "metadata": {},
   "outputs": [],
   "source": [
    "!cat genes.bed"
   ]
  },
  {
   "cell_type": "markdown",
   "metadata": {},
   "source": [
    "Note that the CUP1 gene is much shorter than the other gene."
   ]
  },
  {
   "cell_type": "markdown",
   "metadata": {},
   "source": [
    "### BLAST the graph manually\n",
    "\n",
    "Create a FASTA file containing the graph sequence.\n",
    "\n",
    "Note: because each node is exported as its own fasta sequence, some sequences are very short, including many that are only a single nucleotide long."
   ]
  },
  {
   "cell_type": "code",
   "execution_count": null,
   "metadata": {},
   "outputs": [],
   "source": [
    "!gfatools gfa2fa yprp.chrVIII.pggb.gfa > yprp.chrVIII.pggb.fa"
   ]
  },
  {
   "cell_type": "markdown",
   "metadata": {},
   "source": [
    "Build a BLAST database for the FASTA using `makeblastdb`.\n",
    "\n",
    "The parameters:\n",
    "\n",
    "-in fasta_file_from_graph&nbsp;&nbsp;&nbsp;the file to build a database for  \n",
    "-input_type fasta &nbsp;&nbsp;&nbsp;&nbsp;&nbsp;&nbsp;&nbsp;&nbsp;&nbsp;&nbsp;&nbsp;&nbsp;&nbsp;&nbsp;&nbsp;  the format of the input file (fasta)  \n",
    "-dbtype nucl  &nbsp;&nbsp;&nbsp;&nbsp;&nbsp;&nbsp;&nbsp;&nbsp;&nbsp;&nbsp;&nbsp;&nbsp;&nbsp;&nbsp;&nbsp;&nbsp;&nbsp;&nbsp;&nbsp;&nbsp;&nbsp;&nbsp;&nbsp; type of sequence (nucl=DNA)"
   ]
  },
  {
   "cell_type": "code",
   "execution_count": null,
   "metadata": {},
   "outputs": [],
   "source": [
    "!makeblastdb -in yprp.chrVIII.pggb.fa -input_type fasta -dbtype nucl"
   ]
  },
  {
   "cell_type": "markdown",
   "metadata": {},
   "source": [
    "Now, BLAST the genes against the database you just made. Use tabular format.\n",
    "\n",
    "The parameters\n",
    "\n",
    "-db  database  \n",
    "-query query (the genes, in our case)  \n",
    "-outfmt output format (6=tab)"
   ]
  },
  {
   "cell_type": "code",
   "execution_count": null,
   "metadata": {},
   "outputs": [],
   "source": [
    "!blastn -db yprp.chrVIII.pggb.fa -outfmt 6 -query genes.fa > genesXyprp.chrVIII.pggb.fa.txt"
   ]
  },
  {
   "cell_type": "markdown",
   "metadata": {},
   "source": [
    "The columns are:\n",
    "+ *qseqid*      query or source (gene) sequence id\n",
    "+ *sseqid*      subject or target (reference genome) sequence id\n",
    "+ *pident*      percentage of identical positions\n",
    "+ *length*      alignment length (sequence overlap)\n",
    "+ *mismatch*    number of mismatches\n",
    "+ *gapopen*     number of gap openings\n",
    "+ *qstart*      start of alignment in query\n",
    "+ *qend*        end of alignment in query\n",
    "+ *sstart*      start of alignment in subject\n",
    "+ *send*        end of alignment in subject\n",
    "+ *evalue*      expect value\n",
    "+ *bitscore*    bit score"
   ]
  },
  {
   "cell_type": "markdown",
   "metadata": {},
   "source": [
    "Take a look at the blast output."
   ]
  },
  {
   "cell_type": "code",
   "execution_count": null,
   "metadata": {},
   "outputs": [],
   "source": [
    "!cat genesXyprp.chrVIII.pggb.fa.txt"
   ]
  },
  {
   "cell_type": "markdown",
   "metadata": {},
   "source": [
    "There are mulitple copies of each gene. Note how some copies are split across nodes."
   ]
  },
  {
   "cell_type": "markdown",
   "metadata": {},
   "source": [
    "## Conclusion\n",
    "\n",
    "You learned how to blast against a pangenomic graph. Specifically, you searched for the CUP1 and YHR054C genes in the graph. In the next chapter you will learn how visualize graphs and to blast directly against the graph and visualize the result."
   ]
  },
  {
   "cell_type": "markdown",
   "metadata": {},
   "source": [
    "## Clean up\n",
    "No cleanup is necessary for this submodule. Don't forget to shutdown your Workbench when you are done working through this module!"
   ]
  }
 ],
 "metadata": {
  "environment": {
   "kernel": "conda-env-nigms-pangenomics-nigms-pangenomics",
   "name": "workbench-notebooks.m127",
   "type": "gcloud",
   "uri": "us-docker.pkg.dev/deeplearning-platform-release/gcr.io/workbench-notebooks:m127"
  },
  "kernelspec": {
   "display_name": "nigms-pangenomics",
   "language": "python",
   "name": "conda-env-nigms-pangenomics-nigms-pangenomics"
  },
  "language_info": {
   "codemirror_mode": {
    "name": "ipython",
    "version": 3
   },
   "file_extension": ".py",
   "mimetype": "text/x-python",
   "name": "python",
   "nbconvert_exporter": "python",
   "pygments_lexer": "ipython3",
   "version": "3.12.8"
  }
 },
 "nbformat": 4,
 "nbformat_minor": 4
}
