{
 "cells": [
  {
   "cell_type": "markdown",
   "metadata": {},
   "source": [
    "# Pangenomics\n",
    "--------------------------------------------"
   ]
  },
  {
   "cell_type": "markdown",
   "metadata": {},
   "source": [
    "# Indexing Graphs with VG"
   ]
  },
  {
   "cell_type": "markdown",
   "metadata": {},
   "source": [
    "## Overview\n",
    "\n",
    "The [Variation Graph Toolkit (VG)](https://pubmed.ncbi.nlm.nih.gov/30125266/) allows us to perform different operations on pangenomic graphs. You will learn about VG's capabilities and use VG to index PGGB graphs and get some stats."
   ]
  },
  {
   "cell_type": "markdown",
   "metadata": {},
   "source": [
    "## Learning Objectives\n",
    "+ Understand VG and its uses\n",
    "+ Index graphs \n",
    "+ Calculate stats on the graphs"
   ]
  },
  {
   "cell_type": "markdown",
   "metadata": {},
   "source": [
    "## Getting Started\n",
    "\n",
    "In this submodule you will be introduced to the Variation Graph Toolkit (VG) and learn how to use it to index graphs and get graph statistics.\n",
    "\n",
    "\n",
    "#### VG\n",
    "- Overview\n",
    "- Index PGGB Graphs\n",
    "- Graph Statistics\n",
    "\n"
   ]
  },
  {
   "cell_type": "markdown",
   "metadata": {},
   "source": [
    "----------------------\n",
    "\n",
    "## Variation Graph Toolkit (VG)\n",
    "\n",
    "We will use the [Variation Graph Toolkit (VG)](https://www.nature.com/articles/nbt.4227) to index our PGGB graphs, map sequences to them, and call variants.\n",
    "\n",
    "However, VG can also create graphs and do many other steps in pangenomic analysis.\n",
    "If you would like to learn about how to construct and manipulate graphs using VG and other pangenomic tools, please see [our virtual workshops](https://inbre.ncgr.org/ncgr-workshops/upcoming-ncgr-workshops.html).\n",
    "\n",
    "\n",
    "While we will not use VG to create pangenomics graphs in this module, it is important to understand the kinds of graphs that VG understands.\n",
    "\n",
    "VG creates graphs that are cyclic, meaning that paths through the graph can be revisited.\n",
    "This is important for capturing, for example, duplicated genomic regions.\n",
    "\n",
    "VG graphs are otherwise general.\n",
    "They are considered reference graphs, iterative, and reference-free.\n",
    "\n",
    "VG has tools that can perform the following pangenomic steps.\n",
    "\n",
    "+ Constructs graphs\n",
    "+ Manipulates graphs\n",
    "+ Indexes graphs\n",
    "+ Maps sequences to graphs\n",
    "+ Calls variants on mapped sequences\n",
    "+ Visualizes graphs\n",
    "\n",
    "In addition to creating pangenomic graphs from genomic data, VG can also construct graphs and do analyses from [transcriptomic data](https://github.com/vgteam/vg#transcriptomic-analysis).\n",
    "\n",
    "And VG can do so much more!\n",
    "\n",
    "The figure below has more information about [the capabilities of VG](https://github.com/vgteam/vg), including the commands and the relationships between the commands/capabilities.\n",
    "\n",
    "<figure>\n",
    "  <img\n",
    "    src=\"./Figures/VGpipe.png\"\n",
    "    alt=\"Variation Graph pipeline\" />\n",
    "  <figcaption><a href=\"https://github.com/vgteam/vg\">https://github.com/vgteam/vg</a></figcaption>\n",
    "</figure>\n"
   ]
  },
  {
   "cell_type": "markdown",
   "metadata": {},
   "source": [
    "----------------------\n",
    "\n",
    "## Converting our graphs from GFA to VG format\n",
    "\n",
    "Previously, you created the following graphs using PGGB:  \n",
    "A. *yprp.chrVIII.pggb.gfa* (a graph for yeast chromosome VIII)  \n",
    "B. *output_allchrs/\\*gfa* (16 subgraphs representing the 16 yeast chromosomes)  \n",
    "C. *yprp.fullgenome.pggb.gfa* (a graph for the entire yeast genome)\n",
    "\n",
    "1. Before indexing, we need to convert the graphs from GFA to VG format."
   ]
  },
  {
   "cell_type": "markdown",
   "metadata": {},
   "source": [
    "<div class=\"alert alert-block alert-info\"> <b>NOTE:</b> You can index a GFA file rather than a VG file but this may have implications for mapping reads. There’s also an <a href=\"https://github.com/vgteam/vg/wiki/Automatic-indexing-for-read-mapping-and-downstream-inference\">autoindex</a> command."
   ]
  },
  {
   "cell_type": "code",
   "execution_count": null,
   "metadata": {},
   "outputs": [],
   "source": [
    "!vg convert -f graphs/yprp.chrVIII.pggb.gfa > graphs/yprp.chrVIII.pggb.vg"
   ]
  },
  {
   "cell_type": "markdown",
   "metadata": {},
   "source": [
    "<div class=\"alert alert-block alert-success\"> <b>Try this in the cell below:\n",
    "</b>  \n",
    "    <ul>\n",
    "        <li>Use the code cell below.</li>\n",
    "        <li>Convert the full graph (yprp.fullgenome.pggb.gfa) from GFA format to VG, calling the result yprp.fullgenome.pggb.vg</li></a></div>\n",
    "    </ul>"
   ]
  },
  {
   "cell_type": "code",
   "execution_count": null,
   "metadata": {},
   "outputs": [],
   "source": [
    "# Convert the full graph from GFA to VG"
   ]
  },
  {
   "cell_type": "markdown",
   "metadata": {},
   "source": [
    "<details>\n",
    "<summary>Click for help</summary>\n",
    "<br>\n",
    "!vg convert -f graphs/yprp.fullgenome.pggb.gfa > graphs/yprp.fullgenome.pggb.vg\n",
    "</details>"
   ]
  },
  {
   "cell_type": "markdown",
   "metadata": {},
   "source": [
    "2. Now let's practice on the 16 chromosome subgraphs. Convert each one to vg format. You could do each one individually but a `for` loop will make it easier. The gfa files are numbered 0-15."
   ]
  },
  {
   "cell_type": "code",
   "execution_count": null,
   "metadata": {},
   "outputs": [],
   "source": [
    "!for i in {0..15}; \\\n",
    "do \\\n",
    "    vg convert -f graphs/output_allchrs/*/*community.${i}.fa*gfa > graphs/yprp.allchrs.${i}.vg; \\\n",
    "done"
   ]
  },
  {
   "cell_type": "markdown",
   "metadata": {},
   "source": [
    "3. At this point, you can continue to keep them separate but let's merge them into a single graph using `vg combine`."
   ]
  },
  {
   "cell_type": "code",
   "execution_count": null,
   "metadata": {},
   "outputs": [],
   "source": [
    "!vg combine graphs/yprp.allchrs.{0..15}.vg > graphs/yprp.allchrs.pggb.vg"
   ]
  },
  {
   "cell_type": "markdown",
   "metadata": {},
   "source": [
    "----------------------\n",
    "\n",
    "## Indexing with VG\n",
    "\n",
    "We need to index the graph before we do read mapping. In this case, we will create the necessary indexes for `vg giraffe`, which we will use for read mapping. We will index with `vg autoindex`.\n",
    "\n",
    "The parameters:\n",
    "\n",
    "`--workflow`  The name of the downstream workflow you are preparing for    \n",
    "`-g`  Name of the graph  \n",
    "`-p`  Output prefix\n",
    "\n",
    "1. Index the chrVII graph."
   ]
  },
  {
   "cell_type": "code",
   "execution_count": null,
   "metadata": {},
   "outputs": [],
   "source": [
    "!vg autoindex --workflow giraffe -g graphs/yprp.chrVIII.pggb.vg -p graphs/yprp.chrVIII.pggb"
   ]
  },
  {
   "cell_type": "markdown",
   "metadata": {},
   "source": [
    "This will create all the necessary files for `vg giraffe`:\n",
    "\n",
    "A. *yprp.chrVIII.pggb.giraffe.gbz* - a [GBZ](https://academic.oup.com/bioinformatics/article/38/22/5012/6731924?login=false) format graph that includes a [GBWT](https://github.com/jltsiren/gbwt) index and the corresponding GBWTGraph.\n",
    "\n",
    "B. *yprp.chrVIII.pggb.min* - minimizer index annotated with positions in the distance index.\n",
    "\n",
    "C. *yprp.chrVIII.pggb.dist* - minimum distance index.\n"
   ]
  },
  {
   "cell_type": "markdown",
   "metadata": {},
   "source": [
    "2. Make sure the files are all there by listing the files. The `-l` parameter will list files in long form allowing us to see the size of the file."
   ]
  },
  {
   "cell_type": "code",
   "execution_count": null,
   "metadata": {},
   "outputs": [],
   "source": [
    "#This will list some of our original graphs as well.\n",
    "\n",
    "!ls -l graphs/yprp.chrVIII.pggb.*"
   ]
  },
  {
   "cell_type": "markdown",
   "metadata": {},
   "source": [
    "<div class=\"alert alert-block alert-success\"> <b>Try this in the cells below:\n",
    "</b>  \n",
    "    <ul>\n",
    "        <li>Index the graph we made from the full genome (yprp.fullgenome.pggb.vg).</li>         <li>Index the combined graph, originally run as individual chromosomes (yprp.allchrs.pggb.vg).</li>   \n",
    "    </ul>"
   ]
  },
  {
   "cell_type": "code",
   "execution_count": null,
   "metadata": {},
   "outputs": [],
   "source": [
    "# Index the full genome graph"
   ]
  },
  {
   "cell_type": "code",
   "execution_count": null,
   "metadata": {},
   "outputs": [],
   "source": [
    "# Index the combined graph"
   ]
  },
  {
   "cell_type": "markdown",
   "metadata": {},
   "source": [
    "<details>\n",
    "<summary>Click for help</summary>\n",
    "<br>\n",
    "\n",
    "!vg autoindex --workflow giraffe -g graphs/yprp.fullgenome.pggb.vg -p graphs/yprp.fullgenome.pggb  \n",
    "\n",
    "!vg autoindex --workflow giraffe -g graphs/yprp.allchrs.pggb.vg -p graphs/yprp.allchrs.pggb\n",
    "\n",
    "\n",
    "</details>"
   ]
  },
  {
   "cell_type": "markdown",
   "metadata": {},
   "source": [
    "----------------------\n",
    "\n",
    "## Graph statistics\n",
    "\n",
    "1. Let's get some graph statistics using `vg stats` for all 3 graphs, starting with the chrVIII graph.\n",
    "\n",
    "The parameters:\n",
    "\n",
    "`-z` size of graph  \n",
    "`-N` number of nodes in graph  \n",
    "`-E` number of edges in graph  \n",
    "`-l` length of sequences in graph"
   ]
  },
  {
   "cell_type": "markdown",
   "metadata": {},
   "source": [
    "<div class=\"alert alert-block alert-info\"> <b>NOTE:</b> The number of nodes and edges is given by default but calling them explicitly means they will be labeled. There will also be two unlabeled rows that match the nodes and edges."
   ]
  },
  {
   "cell_type": "code",
   "execution_count": null,
   "metadata": {},
   "outputs": [],
   "source": [
    "!vg stats -z -N -E -l graphs/yprp.chrVIII.pggb.vg"
   ]
  },
  {
   "cell_type": "markdown",
   "metadata": {},
   "source": [
    "The length of chromosome VIII is ~5.5-5.8k. So a size of just over 600k makes sense because it covers the full chromosome length plus a little more to account for regions that have diverged between our 3 accessions and, therefore, have more than one version in the graph."
   ]
  },
  {
   "cell_type": "markdown",
   "metadata": {},
   "source": [
    "<div class=\"alert alert-block alert-success\"> <b>Try this in the cells below:</b>  \n",
    "    <ul>\n",
    "        <li>Get stats for the graph created directly from the full genome (yprp.fullgenome.pggb.vg).</li>\n",
    "        <li>Get stats for the graph created by combining the 16 chromosomal subgraphs (yprp.allchrs.pggb.vg).</li>\n",
    "    </ul>"
   ]
  },
  {
   "cell_type": "code",
   "execution_count": null,
   "metadata": {},
   "outputs": [],
   "source": [
    "# Get stats for the full genome graph"
   ]
  },
  {
   "cell_type": "code",
   "execution_count": null,
   "metadata": {},
   "outputs": [],
   "source": [
    "# Get stats for the combined graph"
   ]
  },
  {
   "cell_type": "markdown",
   "metadata": {},
   "source": [
    "<details>\n",
    "<summary>Click for help</summary>\n",
    "<br>\n",
    "\n",
    "!vg stats -z -N -E -l graphs/yprp.fullgenome.pggb.vg\n",
    "\n",
    "!vg stats -z -N -E -l graphs/yprp.allchrs.pggb.vg\n",
    "\n",
    "</details>"
   ]
  },
  {
   "cell_type": "markdown",
   "metadata": {},
   "source": [
    "Run the code below to see the flashcards."
   ]
  },
  {
   "cell_type": "code",
   "execution_count": null,
   "metadata": {},
   "outputs": [],
   "source": [
    "from IPython.display import IFrame\n",
    "IFrame('../html/flashcard_graphstats.html', width=800, height=400)"
   ]
  },
  {
   "cell_type": "markdown",
   "metadata": {},
   "source": [
    "----------------------\n",
    "\n",
    "## Conclusion\n",
    "In this submodule, you learned about the VG toolkit and what it can be used for. You also learned how to index graphs with VG and indexed the PGGB graphs that you had previously made. Finally, you learned how to obtain graph statistics. In the next submodule, you will learn how to map reads to the indexed graph.\n",
    "\n",
    "----------------------"
   ]
  },
  {
   "cell_type": "markdown",
   "metadata": {},
   "source": [
    "## Clean up\n",
    "\n",
    "<div class=\"alert alert-warning\">No cleanup is necessary for this submodule. Don't forget to shutdown your Workbench when you are done working through this module!</div>"
   ]
  }
 ],
 "metadata": {
  "kernelspec": {
   "display_name": "nigms-pangenomics",
   "language": "python",
   "name": "conda-env-nigms-pangenomics-nigms-pangenomics"
  },
  "language_info": {
   "codemirror_mode": {
    "name": "ipython",
    "version": 3
   },
   "file_extension": ".py",
   "mimetype": "text/x-python",
   "name": "python",
   "nbconvert_exporter": "python",
   "pygments_lexer": "ipython3",
   "version": "3.12.10"
  }
 },
 "nbformat": 4,
 "nbformat_minor": 4
}
