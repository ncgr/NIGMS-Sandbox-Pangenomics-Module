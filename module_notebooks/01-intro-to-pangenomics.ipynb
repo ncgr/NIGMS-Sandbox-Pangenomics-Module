{
 "cells": [
  {
   "cell_type": "markdown",
   "metadata": {},
   "source": [
    "# Pangenomics\n",
    "--------------------------------------------"
   ]
  },
  {
   "cell_type": "markdown",
   "metadata": {},
   "source": [
    "# Intro to Graphical Pangenomics"
   ]
  },
  {
   "cell_type": "markdown",
   "metadata": {},
   "source": [
    "\n",
    "## Overview\n",
    "\n",
    "Pangenome graphs are representations of related genomes that enable exploration of the relationships of the genomes to one another, their commonalities and novelties, and their collective genetic variation. You will learn about different types of pangenomic graphs and their strengths and weaknesses."
   ]
  },
  {
   "cell_type": "markdown",
   "metadata": {},
   "source": [
    "## Learning Objectives\n",
    "+ Understand what pangenomic data is\n",
    "+ Understand what pangenome graphs are\n",
    "+ Overview of different types of pangenome graphs and discussion of their pros/cons\n",
    "+ Overview of pipeline that will be used in module\n",
    "    - Build graphs\n",
    "    - Map reads\n",
    "    - Call variants\n",
    "    - Visualize graphs and mapped reads3"
   ]
  },
  {
   "cell_type": "markdown",
   "metadata": {},
   "source": [
    "## Get Started\n",
    "\n",
    "### What is a \"pangenome\"?\n",
    "\n",
    "The term “pangenome” was first coined by [Sigaux et al. (2000)](https://pubmed.ncbi.nlm.nih.gov/11261250/) and was used to describe a public database containing an assessment of genome and transcriptome alterations in major types of tumors, tissues, and experimental models. The figure below shows the use of the term \"pan genome\" in the abstract of the Sigaux et al (2000) paper.\n",
    "\n",
    "![Sigaux et al.](./Figures/Abstract1.png)\n",
    "\n",
    "+ Sigaux F. Génome du cancer ou de la construction des cartes d'identité moléculaire des tumeurs [Cancer genome or the development of molecular portraits of tumors]. Bull Acad Natl Med. 2000;184(7):1441-7; discussion 1448-9. French. PMID: 11261250. [Sigaux et al. (2000)](https://pubmed.ncbi.nlm.nih.gov/11261250/)\n",
    "\n",
    "\n",
    "The term was later revitalized by [Tettelin et al. (2005)](https://pubmed.ncbi.nlm.nih.gov/16172379/) to describe a microbial genome by which genes were in the core (present in all strains) and which genes were dispensable (missing from one or more of the strains). The figure below shows the use of the term \"pan-genome\" in the abstract of the Tettelin et al (2005) paper.\n",
    "\n",
    "![Tettelin et al.](./Figures/Abstract2.png)\n",
    "\n",
    "+ Tettelin, H., Masignani, V., Cieslewicz, M. J., Donati, C., Medini, D., Ward, N. L., ... & Fraser, C. M. (2005). Genome analysis of multiple pathogenic isolates of Streptococcus agalactiae: implications for the microbial “pan-genome”. Proceedings of the National Academy of Sciences, 102(39), 13950-13955. [Tettelin et al (2005)](https://pubmed.ncbi.nlm.nih.gov/16172379/)\n",
    "\n",
    "![Pangenome: https://en.wikipedia.org/wiki/Pan-genome](./Figures/Pangenome.png)\n",
    "\n",
    "#### Open vs. Closed Genomes\n",
    "\n",
    "![Open and Closed Pangenomes: https://en.wikipedia.org/wiki/Pan-genome](./Figures/ClosedvOpen.png)\n",
    "\n",
    "#### Then vs. Now\n",
    "\n",
    "![Cost per Genome: https://www.genome.gov/about-genomics/fact-sheets/DNA-Sequencing-Costs-Data](./Figures/CostGenome.png)\n",
    "\n",
    "- Low Cost\n",
    "- High Quality Long Reads (HiFi)\n",
    "- Many reference-quality assemblies per species\n",
    "\n",
    "![Pangenome Publications: https://www.nature.com/articles/s41477-020-0733-0](./Figures/GenomePubs.png)\n",
    "\n",
    "#### \"Pangenome\" Today\n",
    "\n",
    "“Any collection of genomic sequences to be analyzed jointly or to be used as a reference. These sequences can be linked in a graph-like structure, or simply constitute sets of (aligned or unaligned) sequences.” – [Computational Pangenomics Consortium](https://academic.oup.com/bib/article/19/1/118/2566735)\n",
    "\n",
    "#### The Benefit of Pangenomes\n",
    "\n",
    "+ Removes reference bias\n",
    "  + May only represent one organism\n",
    "  + Could be a “mosaic”of individuals, i.e. doesn’t represent a coherent haplotype\n",
    "  + Allele bias\n",
    "  + Doesn’t include common variation\n",
    "+ Allow multiple assemblies to be analyzed simultaneously, i.e. efficiently\n",
    "\n",
    "####  What are pangenomes good for?\n",
    "\n",
    "+ Core vs dispensable genes:\n",
    "  + How big is the core?\n",
    "  + How big is the dispensable?\n",
    "  + How big is the pangenome?\n",
    "  + What traits are associated with the core/dispensable?\n",
    "+ Unbiased read mapping and variant calling\n",
    "+ More robust variation-trait association\n",
    "+ Visual exploration of genomic structure of population\n",
    "\n",
    "###  Computational Pangenomics\n",
    "\n",
    "“Questions about efficient data structures, algorithms and statistical methods to perform bioinformatic analyses of pan-genomes give rise to the discipline of ‘computational pan-genomics’.”\n",
    "\n",
    " ![Computational Pangenomics: https://academic.oup.com/bib/article/19/1/118/2566735](./Figures/Computational.png)   \n",
    "\n",
    "#### Pangenome Representations\n",
    "\n",
    "+ Gene sets\n",
    "+ Multiple sequence alignments\n",
    "+ K-mer sets\n",
    "+ Graphs\n",
    "  + De Bruijn graphs\n",
    "  + Haptotype graphs\n",
    "  + **Variation graphs**\n",
    "\n",
    "#### Variation Graphs\n",
    "\n",
    "+ Variation forms bubbles Nodes represent sequences\n",
    "+ Chains of nodes represent contiguous sequence in one or more assemblies\n",
    "+ The sequences of nodes connected by an edge may overlap\n",
    "+ Graphs can be acyclic or cyclic\n",
    "+ Haplotypes are “threaded” through graph as paths\n",
    "\n",
    "![Pangenome Representations: https://academic.oup.com/bib/article/19/1/118/2566735](./Figures/VariationGraphA.png)\n",
    "\n",
    "![Pangenome Representations: https://academic.oup.com/bib/article/19/1/118/2566735](./Figures/VariationGraphB.png)\n",
    "\n",
    "#### Types of Variation Graphs\n",
    "\n",
    "1. Reference Graph (vg)\n",
    "  + A reference with variants\n",
    "  + E.G. [Human reference now includes VCF with common variation](https://www.ncbi.nlm.nih.gov/genome/guide/human/)\n",
    "2. Reference Backbone; “iterative” (minigraph)\n",
    "  + Graph starts as reference and other sequences are layered\n",
    "on, i.e. variants can be relative to sequences other than the\n",
    "reference\n",
    "3. Reference-Free (Cactus and pggb)\n",
    "  + Graph is built using non-reference techniques, such as multiple sequence alignment\n",
    "\n",
    "These are all methods used by the [Human Pangenome Reference Consortium](https://humanpangenome.org)\n",
    "\n",
    "#### Mapping Reads to Variation Graphs\n",
    "\n",
    "![Genotyping Variation: https://link.springer.com/article/10.1186/s13059-020-1941-7](./Figures/ReadsToVariation.png)\n",
    "\n",
    "### Pangenome Data Sets\n",
    "\n",
    "Here are some links to some pangenome data sets you can explore.\n",
    "\n",
    "+ [Human Reference + Variation VCF](https://www.ncbi.nlm.nih.gov/genome/guide/human/)\n",
    "+ [Human Pangenome Reference Consortium](https://humanpangenome.org)\n",
    "+ [Zoonomia (200 mammalss) Project](https://zoonomiaproject.org/the-data/)\n",
    "+ [Maize NAM founder genomes](https://www.science.org/doi/10.1126/science.abg5289)\n",
    "+ [Yeast Population Reference Panel (YPRP)](https://yjx1217.github.io/Yeast_PacBio_2016/welcome/)"
   ]
  },
  {
   "cell_type": "markdown",
   "metadata": {},
   "source": [
    "## Conclusion\n",
    "This module described what pangenomes are and the different types of graphical pangenomes. It also described the pangenomic analyses that will be done in the remainder of this module. In the next submodule, you will build some pangenome graphs."
   ]
  },
  {
   "cell_type": "markdown",
   "metadata": {},
   "source": [
    "## Clean up\n",
    "No cleanup is necessary for this submodule. Don't forget to shutdown your Workbench when you are done working through this module!"
   ]
  }
 ],
 "metadata": {
  "environment": {
   "kernel": "conda-env-nigms-pangenomics-nigms-pangenomics",
   "name": "workbench-notebooks.m127",
   "type": "gcloud",
   "uri": "us-docker.pkg.dev/deeplearning-platform-release/gcr.io/workbench-notebooks:m127"
  },
  "kernelspec": {
   "display_name": "nigms-pangenomics",
   "language": "python",
   "name": "conda-env-nigms-pangenomics-nigms-pangenomics"
  },
  "language_info": {
   "codemirror_mode": {
    "name": "ipython",
    "version": 3
   },
   "file_extension": ".py",
   "mimetype": "text/x-python",
   "name": "python",
   "nbconvert_exporter": "python",
   "pygments_lexer": "ipython3",
   "version": "3.12.9"
  }
 },
 "nbformat": 4,
 "nbformat_minor": 4
}
